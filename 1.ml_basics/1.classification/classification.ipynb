{
  "nbformat": 4,
  "nbformat_minor": 0,
  "metadata": {
    "colab": {
      "name": "Classification.ipynb",
      "provenance": [],
      "collapsed_sections": [],
      "toc_visible": true
    },
    "kernelspec": {
      "display_name": "Python 3",
      "name": "python3"
    },
    "language_info": {
      "name": "python"
    }
  },
  "cells": [
    {
      "cell_type": "markdown",
      "metadata": {
        "id": "0XSKfMo_Yvgu"
      },
      "source": [
        "# Linear Classification"
      ]
    },
    {
      "cell_type": "markdown",
      "metadata": {
        "id": "rjzd393-Yozv"
      },
      "source": [
        "importing libraries"
      ]
    },
    {
      "cell_type": "code",
      "metadata": {
        "id": "8x0W9KBrXyGg"
      },
      "source": [
        "import numpy as np\n",
        "import matplotlib.pyplot as plt\n",
        "import pandas as pd\n",
        "import tensorflow as tf"
      ],
      "execution_count": 1,
      "outputs": []
    },
    {
      "cell_type": "markdown",
      "metadata": {
        "id": "ZmTivkdYYjZi"
      },
      "source": [
        "Importing dataset"
      ]
    },
    {
      "cell_type": "code",
      "metadata": {
        "id": "rPbfNnV_YU8P"
      },
      "source": [
        "from sklearn.datasets import load_breast_cancer\n",
        "dataset = load_breast_cancer()"
      ],
      "execution_count": 2,
      "outputs": []
    },
    {
      "cell_type": "markdown",
      "metadata": {
        "id": "HGoCOUwuZWJL"
      },
      "source": [
        "Checking the dataset"
      ]
    },
    {
      "cell_type": "code",
      "metadata": {
        "id": "0AFYfb6vZDlM",
        "colab": {
          "base_uri": "https://localhost:8080/"
        },
        "outputId": "d4435844-9e1d-4eba-965d-2c3687da049b"
      },
      "source": [
        "print('Type of dataset: ', type(dataset))\n",
        "print('Keys of dataset: ', dataset.keys())"
      ],
      "execution_count": 3,
      "outputs": [
        {
          "output_type": "stream",
          "text": [
            "Type of dataset:  <class 'sklearn.utils.Bunch'>\n",
            "Keys of dataset:  dict_keys(['data', 'target', 'target_names', 'DESCR', 'feature_names', 'filename'])\n"
          ],
          "name": "stdout"
        }
      ]
    },
    {
      "cell_type": "markdown",
      "metadata": {
        "id": "Lk8P4I4sZ470"
      },
      "source": [
        "Size of dataset"
      ]
    },
    {
      "cell_type": "code",
      "metadata": {
        "id": "swmxvA3GZ8AZ",
        "colab": {
          "base_uri": "https://localhost:8080/"
        },
        "outputId": "0cad9855-c742-4db8-ced2-4f2a0a2f9b05"
      },
      "source": [
        "print('Size of dataset: ', dataset.data.shape)\n",
        "print('Feature names: ', dataset.feature_names)\n",
        "print('Size of dataset target: ', dataset.target.shape)\n",
        "print('Target names: ', dataset.target_names)"
      ],
      "execution_count": 4,
      "outputs": [
        {
          "output_type": "stream",
          "text": [
            "Size of dataset:  (569, 30)\n",
            "Feature names:  ['mean radius' 'mean texture' 'mean perimeter' 'mean area'\n",
            " 'mean smoothness' 'mean compactness' 'mean concavity'\n",
            " 'mean concave points' 'mean symmetry' 'mean fractal dimension'\n",
            " 'radius error' 'texture error' 'perimeter error' 'area error'\n",
            " 'smoothness error' 'compactness error' 'concavity error'\n",
            " 'concave points error' 'symmetry error' 'fractal dimension error'\n",
            " 'worst radius' 'worst texture' 'worst perimeter' 'worst area'\n",
            " 'worst smoothness' 'worst compactness' 'worst concavity'\n",
            " 'worst concave points' 'worst symmetry' 'worst fractal dimension']\n",
            "Size of dataset target:  (569,)\n",
            "Target names:  ['malignant' 'benign']\n"
          ],
          "name": "stdout"
        }
      ]
    },
    {
      "cell_type": "markdown",
      "metadata": {
        "id": "qThawd-HokUY"
      },
      "source": [
        "Splitting data into train and test sets"
      ]
    },
    {
      "cell_type": "code",
      "metadata": {
        "id": "nGllHs6topP3"
      },
      "source": [
        "from sklearn.model_selection import train_test_split\n",
        "X_train, X_test, y_train, y_test = train_test_split(dataset.data, dataset.target, test_size = 0.2)\n",
        "N, D = X_train.shape"
      ],
      "execution_count": 5,
      "outputs": []
    },
    {
      "cell_type": "markdown",
      "metadata": {
        "id": "nMgRLorTpaVa"
      },
      "source": [
        "Scaling the data"
      ]
    },
    {
      "cell_type": "code",
      "metadata": {
        "id": "rmLgyWzGpeCv"
      },
      "source": [
        "from sklearn.preprocessing import StandardScaler\n",
        "sc = StandardScaler()\n",
        "X_train = sc.fit_transform(X_train)\n",
        "X_test = sc.fit_transform(X_test)"
      ],
      "execution_count": 6,
      "outputs": []
    },
    {
      "cell_type": "markdown",
      "metadata": {
        "id": "p6C-gqPeq59G"
      },
      "source": [
        "Fitting model on training data"
      ]
    },
    {
      "cell_type": "code",
      "metadata": {
        "id": "KB3bA1mRq_Um",
        "colab": {
          "base_uri": "https://localhost:8080/"
        },
        "outputId": "9969b050-5232-4b79-dfba-7472f5b131ff"
      },
      "source": [
        "model = tf.keras.models.Sequential()\n",
        "model.add(tf.keras.Input(shape=(D,)))\n",
        "model.add(tf.keras.layers.Dense(1, activation='sigmoid')) # 1 because we need one dimentional output (No = 0 OR Yes = 1)\n",
        "\n",
        "model.compile(optimizer=\"Adam\", loss=\"binary_crossentropy\", metrics=[\"accuracy\"])\n",
        "\n",
        "r = model.fit(x = X_train, y = y_train, validation_data = (X_test, y_test), epochs = 100)\n",
        "\n",
        "print(\"Train_score: \", model.evaluate(X_train, y_train))\n",
        "print(\"Test_score: \", model.evaluate(X_test, y_test))"
      ],
      "execution_count": 7,
      "outputs": [
        {
          "output_type": "stream",
          "text": [
            "Epoch 1/100\n",
            "15/15 [==============================] - 1s 37ms/step - loss: 0.7172 - accuracy: 0.5784 - val_loss: 0.6646 - val_accuracy: 0.6579\n",
            "Epoch 2/100\n",
            "15/15 [==============================] - 0s 5ms/step - loss: 0.6615 - accuracy: 0.6346 - val_loss: 0.5896 - val_accuracy: 0.7193\n",
            "Epoch 3/100\n",
            "15/15 [==============================] - 0s 5ms/step - loss: 0.5550 - accuracy: 0.7625 - val_loss: 0.5285 - val_accuracy: 0.7719\n",
            "Epoch 4/100\n",
            "15/15 [==============================] - 0s 4ms/step - loss: 0.5140 - accuracy: 0.7740 - val_loss: 0.4780 - val_accuracy: 0.7895\n",
            "Epoch 5/100\n",
            "15/15 [==============================] - 0s 4ms/step - loss: 0.4709 - accuracy: 0.8104 - val_loss: 0.4345 - val_accuracy: 0.8333\n",
            "Epoch 6/100\n",
            "15/15 [==============================] - 0s 5ms/step - loss: 0.4275 - accuracy: 0.8496 - val_loss: 0.3994 - val_accuracy: 0.8333\n",
            "Epoch 7/100\n",
            "15/15 [==============================] - 0s 4ms/step - loss: 0.4093 - accuracy: 0.8618 - val_loss: 0.3682 - val_accuracy: 0.8684\n",
            "Epoch 8/100\n",
            "15/15 [==============================] - 0s 5ms/step - loss: 0.3854 - accuracy: 0.8666 - val_loss: 0.3417 - val_accuracy: 0.8684\n",
            "Epoch 9/100\n",
            "15/15 [==============================] - 0s 5ms/step - loss: 0.3572 - accuracy: 0.8830 - val_loss: 0.3177 - val_accuracy: 0.8947\n",
            "Epoch 10/100\n",
            "15/15 [==============================] - 0s 5ms/step - loss: 0.3447 - accuracy: 0.8757 - val_loss: 0.2979 - val_accuracy: 0.9123\n",
            "Epoch 11/100\n",
            "15/15 [==============================] - 0s 5ms/step - loss: 0.3364 - accuracy: 0.8795 - val_loss: 0.2805 - val_accuracy: 0.9123\n",
            "Epoch 12/100\n",
            "15/15 [==============================] - 0s 5ms/step - loss: 0.3019 - accuracy: 0.9086 - val_loss: 0.2649 - val_accuracy: 0.9211\n",
            "Epoch 13/100\n",
            "15/15 [==============================] - 0s 4ms/step - loss: 0.2951 - accuracy: 0.9001 - val_loss: 0.2512 - val_accuracy: 0.9298\n",
            "Epoch 14/100\n",
            "15/15 [==============================] - 0s 4ms/step - loss: 0.2856 - accuracy: 0.9065 - val_loss: 0.2386 - val_accuracy: 0.9298\n",
            "Epoch 15/100\n",
            "15/15 [==============================] - 0s 4ms/step - loss: 0.2806 - accuracy: 0.9127 - val_loss: 0.2275 - val_accuracy: 0.9386\n",
            "Epoch 16/100\n",
            "15/15 [==============================] - 0s 5ms/step - loss: 0.2766 - accuracy: 0.8940 - val_loss: 0.2173 - val_accuracy: 0.9386\n",
            "Epoch 17/100\n",
            "15/15 [==============================] - 0s 5ms/step - loss: 0.2650 - accuracy: 0.8969 - val_loss: 0.2079 - val_accuracy: 0.9386\n",
            "Epoch 18/100\n",
            "15/15 [==============================] - 0s 4ms/step - loss: 0.2438 - accuracy: 0.9159 - val_loss: 0.1992 - val_accuracy: 0.9298\n",
            "Epoch 19/100\n",
            "15/15 [==============================] - 0s 5ms/step - loss: 0.2216 - accuracy: 0.9434 - val_loss: 0.1918 - val_accuracy: 0.9298\n",
            "Epoch 20/100\n",
            "15/15 [==============================] - 0s 5ms/step - loss: 0.2104 - accuracy: 0.9400 - val_loss: 0.1849 - val_accuracy: 0.9386\n",
            "Epoch 21/100\n",
            "15/15 [==============================] - 0s 5ms/step - loss: 0.2186 - accuracy: 0.9407 - val_loss: 0.1779 - val_accuracy: 0.9474\n",
            "Epoch 22/100\n",
            "15/15 [==============================] - 0s 5ms/step - loss: 0.2238 - accuracy: 0.9293 - val_loss: 0.1724 - val_accuracy: 0.9474\n",
            "Epoch 23/100\n",
            "15/15 [==============================] - 0s 5ms/step - loss: 0.1998 - accuracy: 0.9406 - val_loss: 0.1670 - val_accuracy: 0.9474\n",
            "Epoch 24/100\n",
            "15/15 [==============================] - 0s 6ms/step - loss: 0.1941 - accuracy: 0.9552 - val_loss: 0.1614 - val_accuracy: 0.9474\n",
            "Epoch 25/100\n",
            "15/15 [==============================] - 0s 5ms/step - loss: 0.2031 - accuracy: 0.9433 - val_loss: 0.1572 - val_accuracy: 0.9474\n",
            "Epoch 26/100\n",
            "15/15 [==============================] - 0s 5ms/step - loss: 0.2066 - accuracy: 0.9384 - val_loss: 0.1530 - val_accuracy: 0.9474\n",
            "Epoch 27/100\n",
            "15/15 [==============================] - 0s 5ms/step - loss: 0.1828 - accuracy: 0.9456 - val_loss: 0.1485 - val_accuracy: 0.9474\n",
            "Epoch 28/100\n",
            "15/15 [==============================] - 0s 5ms/step - loss: 0.1823 - accuracy: 0.9466 - val_loss: 0.1444 - val_accuracy: 0.9561\n",
            "Epoch 29/100\n",
            "15/15 [==============================] - 0s 5ms/step - loss: 0.1776 - accuracy: 0.9512 - val_loss: 0.1407 - val_accuracy: 0.9561\n",
            "Epoch 30/100\n",
            "15/15 [==============================] - 0s 5ms/step - loss: 0.1624 - accuracy: 0.9614 - val_loss: 0.1371 - val_accuracy: 0.9561\n",
            "Epoch 31/100\n",
            "15/15 [==============================] - 0s 5ms/step - loss: 0.1761 - accuracy: 0.9492 - val_loss: 0.1339 - val_accuracy: 0.9649\n",
            "Epoch 32/100\n",
            "15/15 [==============================] - 0s 5ms/step - loss: 0.1642 - accuracy: 0.9566 - val_loss: 0.1307 - val_accuracy: 0.9649\n",
            "Epoch 33/100\n",
            "15/15 [==============================] - 0s 5ms/step - loss: 0.1681 - accuracy: 0.9578 - val_loss: 0.1275 - val_accuracy: 0.9649\n",
            "Epoch 34/100\n",
            "15/15 [==============================] - 0s 5ms/step - loss: 0.1569 - accuracy: 0.9655 - val_loss: 0.1246 - val_accuracy: 0.9649\n",
            "Epoch 35/100\n",
            "15/15 [==============================] - 0s 5ms/step - loss: 0.1685 - accuracy: 0.9566 - val_loss: 0.1223 - val_accuracy: 0.9649\n",
            "Epoch 36/100\n",
            "15/15 [==============================] - 0s 5ms/step - loss: 0.1487 - accuracy: 0.9684 - val_loss: 0.1198 - val_accuracy: 0.9649\n",
            "Epoch 37/100\n",
            "15/15 [==============================] - 0s 5ms/step - loss: 0.1480 - accuracy: 0.9656 - val_loss: 0.1174 - val_accuracy: 0.9649\n",
            "Epoch 38/100\n",
            "15/15 [==============================] - 0s 5ms/step - loss: 0.1650 - accuracy: 0.9519 - val_loss: 0.1151 - val_accuracy: 0.9649\n",
            "Epoch 39/100\n",
            "15/15 [==============================] - 0s 5ms/step - loss: 0.1474 - accuracy: 0.9624 - val_loss: 0.1130 - val_accuracy: 0.9649\n",
            "Epoch 40/100\n",
            "15/15 [==============================] - 0s 5ms/step - loss: 0.1452 - accuracy: 0.9684 - val_loss: 0.1110 - val_accuracy: 0.9649\n",
            "Epoch 41/100\n",
            "15/15 [==============================] - 0s 4ms/step - loss: 0.1565 - accuracy: 0.9553 - val_loss: 0.1090 - val_accuracy: 0.9649\n",
            "Epoch 42/100\n",
            "15/15 [==============================] - 0s 5ms/step - loss: 0.1433 - accuracy: 0.9650 - val_loss: 0.1074 - val_accuracy: 0.9649\n",
            "Epoch 43/100\n",
            "15/15 [==============================] - 0s 5ms/step - loss: 0.1369 - accuracy: 0.9744 - val_loss: 0.1056 - val_accuracy: 0.9649\n",
            "Epoch 44/100\n",
            "15/15 [==============================] - 0s 5ms/step - loss: 0.1469 - accuracy: 0.9630 - val_loss: 0.1038 - val_accuracy: 0.9649\n",
            "Epoch 45/100\n",
            "15/15 [==============================] - 0s 5ms/step - loss: 0.1472 - accuracy: 0.9629 - val_loss: 0.1021 - val_accuracy: 0.9649\n",
            "Epoch 46/100\n",
            "15/15 [==============================] - 0s 6ms/step - loss: 0.1315 - accuracy: 0.9628 - val_loss: 0.1003 - val_accuracy: 0.9649\n",
            "Epoch 47/100\n",
            "15/15 [==============================] - 0s 5ms/step - loss: 0.1454 - accuracy: 0.9573 - val_loss: 0.0988 - val_accuracy: 0.9737\n",
            "Epoch 48/100\n",
            "15/15 [==============================] - 0s 6ms/step - loss: 0.1155 - accuracy: 0.9733 - val_loss: 0.0974 - val_accuracy: 0.9737\n",
            "Epoch 49/100\n",
            "15/15 [==============================] - 0s 5ms/step - loss: 0.1407 - accuracy: 0.9576 - val_loss: 0.0963 - val_accuracy: 0.9737\n",
            "Epoch 50/100\n",
            "15/15 [==============================] - 0s 5ms/step - loss: 0.1351 - accuracy: 0.9581 - val_loss: 0.0948 - val_accuracy: 0.9737\n",
            "Epoch 51/100\n",
            "15/15 [==============================] - 0s 5ms/step - loss: 0.1344 - accuracy: 0.9686 - val_loss: 0.0936 - val_accuracy: 0.9737\n",
            "Epoch 52/100\n",
            "15/15 [==============================] - 0s 5ms/step - loss: 0.1225 - accuracy: 0.9716 - val_loss: 0.0924 - val_accuracy: 0.9737\n",
            "Epoch 53/100\n",
            "15/15 [==============================] - 0s 5ms/step - loss: 0.1361 - accuracy: 0.9614 - val_loss: 0.0913 - val_accuracy: 0.9737\n",
            "Epoch 54/100\n",
            "15/15 [==============================] - 0s 5ms/step - loss: 0.1404 - accuracy: 0.9570 - val_loss: 0.0902 - val_accuracy: 0.9737\n",
            "Epoch 55/100\n",
            "15/15 [==============================] - 0s 5ms/step - loss: 0.1324 - accuracy: 0.9595 - val_loss: 0.0890 - val_accuracy: 0.9737\n",
            "Epoch 56/100\n",
            "15/15 [==============================] - 0s 5ms/step - loss: 0.1369 - accuracy: 0.9630 - val_loss: 0.0879 - val_accuracy: 0.9737\n",
            "Epoch 57/100\n",
            "15/15 [==============================] - 0s 5ms/step - loss: 0.1116 - accuracy: 0.9732 - val_loss: 0.0870 - val_accuracy: 0.9737\n",
            "Epoch 58/100\n",
            "15/15 [==============================] - 0s 5ms/step - loss: 0.1113 - accuracy: 0.9773 - val_loss: 0.0860 - val_accuracy: 0.9737\n",
            "Epoch 59/100\n",
            "15/15 [==============================] - 0s 6ms/step - loss: 0.1107 - accuracy: 0.9789 - val_loss: 0.0851 - val_accuracy: 0.9737\n",
            "Epoch 60/100\n",
            "15/15 [==============================] - 0s 5ms/step - loss: 0.1274 - accuracy: 0.9608 - val_loss: 0.0843 - val_accuracy: 0.9737\n",
            "Epoch 61/100\n",
            "15/15 [==============================] - 0s 5ms/step - loss: 0.1535 - accuracy: 0.9538 - val_loss: 0.0836 - val_accuracy: 0.9737\n",
            "Epoch 62/100\n",
            "15/15 [==============================] - 0s 5ms/step - loss: 0.1329 - accuracy: 0.9623 - val_loss: 0.0830 - val_accuracy: 0.9737\n",
            "Epoch 63/100\n",
            "15/15 [==============================] - 0s 5ms/step - loss: 0.1203 - accuracy: 0.9750 - val_loss: 0.0822 - val_accuracy: 0.9737\n",
            "Epoch 64/100\n",
            "15/15 [==============================] - 0s 4ms/step - loss: 0.1147 - accuracy: 0.9718 - val_loss: 0.0813 - val_accuracy: 0.9737\n",
            "Epoch 65/100\n",
            "15/15 [==============================] - 0s 4ms/step - loss: 0.1234 - accuracy: 0.9739 - val_loss: 0.0806 - val_accuracy: 0.9737\n",
            "Epoch 66/100\n",
            "15/15 [==============================] - 0s 5ms/step - loss: 0.1234 - accuracy: 0.9686 - val_loss: 0.0801 - val_accuracy: 0.9737\n",
            "Epoch 67/100\n",
            "15/15 [==============================] - 0s 6ms/step - loss: 0.1372 - accuracy: 0.9572 - val_loss: 0.0794 - val_accuracy: 0.9737\n",
            "Epoch 68/100\n",
            "15/15 [==============================] - 0s 5ms/step - loss: 0.0995 - accuracy: 0.9780 - val_loss: 0.0786 - val_accuracy: 0.9737\n",
            "Epoch 69/100\n",
            "15/15 [==============================] - 0s 5ms/step - loss: 0.1066 - accuracy: 0.9741 - val_loss: 0.0780 - val_accuracy: 0.9737\n",
            "Epoch 70/100\n",
            "15/15 [==============================] - 0s 5ms/step - loss: 0.1069 - accuracy: 0.9738 - val_loss: 0.0773 - val_accuracy: 0.9737\n",
            "Epoch 71/100\n",
            "15/15 [==============================] - 0s 5ms/step - loss: 0.1002 - accuracy: 0.9769 - val_loss: 0.0766 - val_accuracy: 0.9737\n",
            "Epoch 72/100\n",
            "15/15 [==============================] - 0s 6ms/step - loss: 0.1052 - accuracy: 0.9696 - val_loss: 0.0760 - val_accuracy: 0.9737\n",
            "Epoch 73/100\n",
            "15/15 [==============================] - 0s 5ms/step - loss: 0.1033 - accuracy: 0.9729 - val_loss: 0.0755 - val_accuracy: 0.9737\n",
            "Epoch 74/100\n",
            "15/15 [==============================] - 0s 5ms/step - loss: 0.1107 - accuracy: 0.9617 - val_loss: 0.0749 - val_accuracy: 0.9737\n",
            "Epoch 75/100\n",
            "15/15 [==============================] - 0s 6ms/step - loss: 0.1097 - accuracy: 0.9673 - val_loss: 0.0743 - val_accuracy: 0.9737\n",
            "Epoch 76/100\n",
            "15/15 [==============================] - 0s 5ms/step - loss: 0.1115 - accuracy: 0.9688 - val_loss: 0.0738 - val_accuracy: 0.9737\n",
            "Epoch 77/100\n",
            "15/15 [==============================] - 0s 4ms/step - loss: 0.1028 - accuracy: 0.9764 - val_loss: 0.0733 - val_accuracy: 0.9737\n",
            "Epoch 78/100\n",
            "15/15 [==============================] - 0s 7ms/step - loss: 0.1051 - accuracy: 0.9692 - val_loss: 0.0729 - val_accuracy: 0.9737\n",
            "Epoch 79/100\n",
            "15/15 [==============================] - 0s 5ms/step - loss: 0.1175 - accuracy: 0.9656 - val_loss: 0.0724 - val_accuracy: 0.9737\n",
            "Epoch 80/100\n",
            "15/15 [==============================] - 0s 5ms/step - loss: 0.1090 - accuracy: 0.9628 - val_loss: 0.0719 - val_accuracy: 0.9737\n",
            "Epoch 81/100\n",
            "15/15 [==============================] - 0s 5ms/step - loss: 0.1078 - accuracy: 0.9786 - val_loss: 0.0715 - val_accuracy: 0.9737\n",
            "Epoch 82/100\n",
            "15/15 [==============================] - 0s 5ms/step - loss: 0.1091 - accuracy: 0.9678 - val_loss: 0.0711 - val_accuracy: 0.9737\n",
            "Epoch 83/100\n",
            "15/15 [==============================] - 0s 5ms/step - loss: 0.0928 - accuracy: 0.9813 - val_loss: 0.0706 - val_accuracy: 0.9737\n",
            "Epoch 84/100\n",
            "15/15 [==============================] - 0s 4ms/step - loss: 0.0832 - accuracy: 0.9786 - val_loss: 0.0701 - val_accuracy: 0.9737\n",
            "Epoch 85/100\n",
            "15/15 [==============================] - 0s 5ms/step - loss: 0.1201 - accuracy: 0.9653 - val_loss: 0.0698 - val_accuracy: 0.9737\n",
            "Epoch 86/100\n",
            "15/15 [==============================] - 0s 5ms/step - loss: 0.0894 - accuracy: 0.9698 - val_loss: 0.0694 - val_accuracy: 0.9737\n",
            "Epoch 87/100\n",
            "15/15 [==============================] - 0s 5ms/step - loss: 0.0824 - accuracy: 0.9787 - val_loss: 0.0689 - val_accuracy: 0.9737\n",
            "Epoch 88/100\n",
            "15/15 [==============================] - 0s 5ms/step - loss: 0.1056 - accuracy: 0.9642 - val_loss: 0.0686 - val_accuracy: 0.9737\n",
            "Epoch 89/100\n",
            "15/15 [==============================] - 0s 5ms/step - loss: 0.0862 - accuracy: 0.9752 - val_loss: 0.0682 - val_accuracy: 0.9737\n",
            "Epoch 90/100\n",
            "15/15 [==============================] - 0s 5ms/step - loss: 0.1008 - accuracy: 0.9741 - val_loss: 0.0680 - val_accuracy: 0.9737\n",
            "Epoch 91/100\n",
            "15/15 [==============================] - 0s 5ms/step - loss: 0.1036 - accuracy: 0.9806 - val_loss: 0.0677 - val_accuracy: 0.9737\n",
            "Epoch 92/100\n",
            "15/15 [==============================] - 0s 4ms/step - loss: 0.0992 - accuracy: 0.9703 - val_loss: 0.0673 - val_accuracy: 0.9737\n",
            "Epoch 93/100\n",
            "15/15 [==============================] - 0s 5ms/step - loss: 0.1139 - accuracy: 0.9721 - val_loss: 0.0670 - val_accuracy: 0.9737\n",
            "Epoch 94/100\n",
            "15/15 [==============================] - 0s 4ms/step - loss: 0.0915 - accuracy: 0.9750 - val_loss: 0.0667 - val_accuracy: 0.9737\n",
            "Epoch 95/100\n",
            "15/15 [==============================] - 0s 5ms/step - loss: 0.1094 - accuracy: 0.9764 - val_loss: 0.0664 - val_accuracy: 0.9737\n",
            "Epoch 96/100\n",
            "15/15 [==============================] - 0s 4ms/step - loss: 0.0866 - accuracy: 0.9791 - val_loss: 0.0662 - val_accuracy: 0.9737\n",
            "Epoch 97/100\n",
            "15/15 [==============================] - 0s 5ms/step - loss: 0.0831 - accuracy: 0.9774 - val_loss: 0.0658 - val_accuracy: 0.9737\n",
            "Epoch 98/100\n",
            "15/15 [==============================] - 0s 6ms/step - loss: 0.1073 - accuracy: 0.9749 - val_loss: 0.0657 - val_accuracy: 0.9737\n",
            "Epoch 99/100\n",
            "15/15 [==============================] - 0s 5ms/step - loss: 0.0928 - accuracy: 0.9794 - val_loss: 0.0654 - val_accuracy: 0.9737\n",
            "Epoch 100/100\n",
            "15/15 [==============================] - 0s 5ms/step - loss: 0.1011 - accuracy: 0.9739 - val_loss: 0.0650 - val_accuracy: 0.9737\n",
            "15/15 [==============================] - 0s 1ms/step - loss: 0.0959 - accuracy: 0.9758\n",
            "Train_score:  [0.09589038789272308, 0.9758241772651672]\n",
            "4/4 [==============================] - 0s 3ms/step - loss: 0.0650 - accuracy: 0.9737\n",
            "Test_score:  [0.06504250317811966, 0.9736841917037964]\n"
          ],
          "name": "stdout"
        }
      ]
    },
    {
      "cell_type": "markdown",
      "metadata": {
        "id": "ZZlu6p8ifS-0"
      },
      "source": [
        "Plotting what's returned by model.fit"
      ]
    },
    {
      "cell_type": "code",
      "metadata": {
        "id": "3dxNSHa4zXtc",
        "colab": {
          "base_uri": "https://localhost:8080/",
          "height": 282
        },
        "outputId": "e718dcd2-3809-410c-8479-ce146c02cb65"
      },
      "source": [
        "plt.plot(r.history['loss'], label = 'loss')\n",
        "plt.plot(r.history['val_loss'], label = 'val_loss')\n",
        "plt.legend()"
      ],
      "execution_count": 8,
      "outputs": [
        {
          "output_type": "execute_result",
          "data": {
            "text/plain": [
              "<matplotlib.legend.Legend at 0x7fd10a27ff90>"
            ]
          },
          "metadata": {
            "tags": []
          },
          "execution_count": 8
        },
        {
          "output_type": "display_data",
          "data": {
            "image/png": "[encoded data removed]",
            "text/plain": [
              "<Figure size 432x288 with 1 Axes>"
            ]
          },
          "metadata": {
            "tags": [],
            "needs_background": "light"
          }
        }
      ]
    },
    {
      "cell_type": "markdown",
      "metadata": {
        "id": "jcNccGjJfsAh"
      },
      "source": [
        "Plotting the accuracy too."
      ]
    },
    {
      "cell_type": "code",
      "metadata": {
        "id": "nn2bl1qszu3U",
        "colab": {
          "base_uri": "https://localhost:8080/",
          "height": 282
        },
        "outputId": "fe74a925-42a3-4cc9-8fa0-a4f4d3bdd1fc"
      },
      "source": [
        "plt.plot(r.history['accuracy'], label = 'accuracy')\n",
        "plt.plot(r.history['val_accuracy'], label = 'val_accuracy')\n",
        "plt.legend()"
      ],
      "execution_count": 9,
      "outputs": [
        {
          "output_type": "execute_result",
          "data": {
            "text/plain": [
              "<matplotlib.legend.Legend at 0x7fd106459dd0>"
            ]
          },
          "metadata": {
            "tags": []
          },
          "execution_count": 9
        },
        {
          "output_type": "display_data",
          "data": {
            "image/png": "[encoded data removed]",
            "text/plain": [
              "<Figure size 432x288 with 1 Axes>"
            ]
          },
          "metadata": {
            "tags": [],
            "needs_background": "light"
          }
        }
      ]
    },
    {
      "cell_type": "markdown",
      "metadata": {
        "id": "h1C08FFAxHPW"
      },
      "source": [
        "Making predictions"
      ]
    },
    {
      "cell_type": "code",
      "metadata": {
        "id": "ezhfp9vxxMaz"
      },
      "source": [
        "y_pred = model.predict(X_test)\n",
        "y_pred = y_pred > 0.5"
      ],
      "execution_count": 10,
      "outputs": []
    },
    {
      "cell_type": "markdown",
      "metadata": {
        "id": "86HfXo9XxNg5"
      },
      "source": [
        "Confusion Matrix and Accuracy score"
      ]
    },
    {
      "cell_type": "code",
      "metadata": {
        "id": "ZTiMjufDwfYT"
      },
      "source": [
        "from sklearn.metrics import confusion_matrix\n",
        "cm = confusion_matrix(y_test, y_pred)"
      ],
      "execution_count": 11,
      "outputs": []
    },
    {
      "cell_type": "code",
      "metadata": {
        "id": "ft7fDGuXxvDP",
        "colab": {
          "base_uri": "https://localhost:8080/"
        },
        "outputId": "93b2bb20-1528-4831-d227-7fb4212439eb"
      },
      "source": [
        "print(cm)"
      ],
      "execution_count": 12,
      "outputs": [
        {
          "output_type": "stream",
          "text": [
            "[[41  0]\n",
            " [ 3 70]]\n"
          ],
          "name": "stdout"
        }
      ]
    }
  ]
}