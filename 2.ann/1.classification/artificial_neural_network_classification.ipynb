{
  "nbformat": 4,
  "nbformat_minor": 0,
  "metadata": {
    "colab": {
      "name": "ArtificialNeuralNetworkClassification.ipynb",
      "provenance": [],
      "collapsed_sections": [],
      "toc_visible": true
    },
    "kernelspec": {
      "name": "python3",
      "display_name": "Python 3"
    },
    "language_info": {
      "name": "python"
    }
  },
  "cells": [
    {
      "cell_type": "markdown",
      "metadata": {
        "id": "wc1vzsr16IOC"
      },
      "source": [
        "# Artificial neural network (ANN) for **Classification**"
      ]
    },
    {
      "cell_type": "markdown",
      "metadata": {
        "id": "T6R5C99g6jtN"
      },
      "source": [
        "Importing libraries"
      ]
    },
    {
      "cell_type": "code",
      "metadata": {
        "id": "pz-LgmzR47j0"
      },
      "source": [
        "import numpy as np\n",
        "import matplotlib.pyplot as plt\n",
        "import pandas as pd\n",
        "import tensorflow as tf"
      ],
      "execution_count": 1,
      "outputs": []
    },
    {
      "cell_type": "markdown",
      "metadata": {
        "id": "1QKRx1CS7B3j"
      },
      "source": [
        "Importing dataset"
      ]
    },
    {
      "cell_type": "code",
      "metadata": {
        "id": "XcrcPpK_8BxB",
        "colab": {
          "base_uri": "https://localhost:8080/"
        },
        "outputId": "0c75f9bb-0ac4-4cf8-9336-6bb7137d3fb0"
      },
      "source": [
        "mnist = tf.keras.datasets.mnist\n",
        "(X_train, y_train), (X_test, y_test) = mnist.load_data()\n",
        "\n",
        "# Each pixel has a value between 0–255. We normalize the values to 0–1.\n",
        "X_train, X_test = X_train / 255.0, X_test / 255.0\n",
        "\n",
        "print(\"X_train.shape: \", X_train.shape)\n",
        "print(\"Train set contains \", X_train.shape[0], \" images of dimension \", X_train.shape[1], \"x\", X_train.shape[2])\n",
        "print(\"X_test.shape: \", X_test.shape)\n",
        "print(\"Test set contains \", X_test.shape[0], \" images of dimension \", X_test.shape[1], \"x\", X_test.shape[2])"
      ],
      "execution_count": 2,
      "outputs": [
        {
          "output_type": "stream",
          "text": [
            "Downloading data from https://storage.googleapis.com/tensorflow/tf-keras-datasets/mnist.npz\n",
            "11493376/11490434 [==============================] - 0s 0us/step\n",
            "X_train.shape:  (60000, 28, 28)\n",
            "Train set contains  60000  images of dimension  28 x 28\n",
            "X_test.shape:  (10000, 28, 28)\n",
            "Test set contains  10000  images of dimension  28 x 28\n"
          ],
          "name": "stdout"
        }
      ]
    },
    {
      "cell_type": "markdown",
      "metadata": {
        "id": "yga5ScReelKf"
      },
      "source": [
        "Building the model"
      ]
    },
    {
      "cell_type": "code",
      "metadata": {
        "id": "A72wUUO5ena8"
      },
      "source": [
        "model = tf.keras.models.Sequential()\n",
        "\n",
        "# Flattening the images\n",
        "model.add(tf.keras.layers.Flatten(input_shape = (28, 28)))\n",
        "\n",
        "# Adding first layer which has 128 nodes.\n",
        "model.add(tf.keras.layers.Dense(128, activation = 'relu'))\n",
        "\n",
        "# Setting dropout Rate to 20%.\n",
        "# The Dropout layer randomly sets input units to 0\n",
        "# with a frequency of rate at each step during training time,\n",
        "# which helps prevent overfitting.\n",
        "model.add(tf.keras.layers.Dropout(0.2))\n",
        "\n",
        "# Adding Output layer which has 10 nodes as we have 0 to 9 digits to predict.\n",
        "model.add(tf.keras.layers.Dense(10, activation = 'softmax'))"
      ],
      "execution_count": 3,
      "outputs": []
    },
    {
      "cell_type": "markdown",
      "metadata": {
        "id": "VfkkMLoPgfwh"
      },
      "source": [
        "Compiling the model"
      ]
    },
    {
      "cell_type": "code",
      "metadata": {
        "id": "ozB-PvkTgizU"
      },
      "source": [
        "model.compile(optimizer = 'adam',\n",
        "              loss = 'sparse_categorical_crossentropy',\n",
        "              metrics = ['accuracy'])"
      ],
      "execution_count": 4,
      "outputs": []
    },
    {
      "cell_type": "markdown",
      "metadata": {
        "id": "mTAvae9ChNPW"
      },
      "source": [
        "Training the model"
      ]
    },
    {
      "cell_type": "code",
      "metadata": {
        "colab": {
          "base_uri": "https://localhost:8080/"
        },
        "id": "YFhKGT_ShQLj",
        "outputId": "61af1119-063c-4f02-9941-48daf94c5383"
      },
      "source": [
        "r = model.fit(X_train, y_train, validation_data=(X_test, y_test), epochs=10)"
      ],
      "execution_count": 5,
      "outputs": [
        {
          "output_type": "stream",
          "text": [
            "Epoch 1/10\n",
            "1875/1875 [==============================] - 5s 2ms/step - loss: 0.4953 - accuracy: 0.8543 - val_loss: 0.1536 - val_accuracy: 0.9544\n",
            "Epoch 2/10\n",
            "1875/1875 [==============================] - 4s 2ms/step - loss: 0.1540 - accuracy: 0.9542 - val_loss: 0.1004 - val_accuracy: 0.9698\n",
            "Epoch 3/10\n",
            "1875/1875 [==============================] - 4s 2ms/step - loss: 0.1087 - accuracy: 0.9665 - val_loss: 0.0826 - val_accuracy: 0.9750\n",
            "Epoch 4/10\n",
            "1875/1875 [==============================] - 4s 2ms/step - loss: 0.0922 - accuracy: 0.9721 - val_loss: 0.0768 - val_accuracy: 0.9759\n",
            "Epoch 5/10\n",
            "1875/1875 [==============================] - 4s 2ms/step - loss: 0.0700 - accuracy: 0.9789 - val_loss: 0.0718 - val_accuracy: 0.9781\n",
            "Epoch 6/10\n",
            "1875/1875 [==============================] - 4s 2ms/step - loss: 0.0638 - accuracy: 0.9794 - val_loss: 0.0696 - val_accuracy: 0.9794\n",
            "Epoch 7/10\n",
            "1875/1875 [==============================] - 4s 2ms/step - loss: 0.0569 - accuracy: 0.9823 - val_loss: 0.0695 - val_accuracy: 0.9789\n",
            "Epoch 8/10\n",
            "1875/1875 [==============================] - 4s 2ms/step - loss: 0.0484 - accuracy: 0.9844 - val_loss: 0.0714 - val_accuracy: 0.9789\n",
            "Epoch 9/10\n",
            "1875/1875 [==============================] - 4s 2ms/step - loss: 0.0458 - accuracy: 0.9844 - val_loss: 0.0624 - val_accuracy: 0.9806\n",
            "Epoch 10/10\n",
            "1875/1875 [==============================] - 4s 2ms/step - loss: 0.0430 - accuracy: 0.9851 - val_loss: 0.0691 - val_accuracy: 0.9797\n"
          ],
          "name": "stdout"
        }
      ]
    },
    {
      "cell_type": "markdown",
      "metadata": {
        "id": "d35rIEohhw1Q"
      },
      "source": [
        "Plotting the loss per iteration"
      ]
    },
    {
      "cell_type": "code",
      "metadata": {
        "colab": {
          "base_uri": "https://localhost:8080/",
          "height": 282
        },
        "id": "78o0jZt3h0CN",
        "outputId": "0ee39f43-ea33-47e5-ce71-e3ef2634be7a"
      },
      "source": [
        "# val_loss is the value of cost function for your cross-validation data\n",
        "# and loss is the value of cost function for your training data.\n",
        "plt.plot(r.history['loss'], label = 'loss')\n",
        "plt.plot(r.history['val_loss'], label = 'val_loss')\n",
        "plt.legend()"
      ],
      "execution_count": 6,
      "outputs": [
        {
          "output_type": "execute_result",
          "data": {
            "text/plain": [
              "<matplotlib.legend.Legend at 0x7ff172a20c10>"
            ]
          },
          "metadata": {
            "tags": []
          },
          "execution_count": 6
        },
        {
          "output_type": "display_data",
          "data": {
            "image/png": "[encoded data removed]",
            "text/plain": [
              "<Figure size 432x288 with 1 Axes>"
            ]
          },
          "metadata": {
            "tags": [],
            "needs_background": "light"
          }
        }
      ]
    },
    {
      "cell_type": "markdown",
      "metadata": {
        "id": "2mG4_fg9iTTR"
      },
      "source": [
        "Also plotting the accuracy per iteration"
      ]
    },
    {
      "cell_type": "code",
      "metadata": {
        "colab": {
          "base_uri": "https://localhost:8080/",
          "height": 282
        },
        "id": "r0LWNiG2iW8W",
        "outputId": "7948f570-db8d-4ae4-efb7-327b4b66b1ed"
      },
      "source": [
        "# accuracy refers to accuracy of what was trained against.\n",
        "# 'val_accuracy' refers to validation set.\n",
        "plt.plot(r.history['accuracy'], label = 'accuracy')\n",
        "plt.plot(r.history['val_accuracy'], label = 'val_accuracy')\n",
        "plt.legend()"
      ],
      "execution_count": 7,
      "outputs": [
        {
          "output_type": "execute_result",
          "data": {
            "text/plain": [
              "<matplotlib.legend.Legend at 0x7ff16f4aad50>"
            ]
          },
          "metadata": {
            "tags": []
          },
          "execution_count": 7
        },
        {
          "output_type": "display_data",
          "data": {
            "image/png": "[encoded data removed]",
            "text/plain": [
              "<Figure size 432x288 with 1 Axes>"
            ]
          },
          "metadata": {
            "tags": [],
            "needs_background": "light"
          }
        }
      ]
    },
    {
      "cell_type": "markdown",
      "metadata": {
        "id": "s1iiGLV4jbpW"
      },
      "source": [
        "Evaluating the model"
      ]
    },
    {
      "cell_type": "code",
      "metadata": {
        "colab": {
          "base_uri": "https://localhost:8080/"
        },
        "id": "ORmEzvjEjd-n",
        "outputId": "dcbef928-b1ad-4bcc-80f5-65509c5c3954"
      },
      "source": [
        "print(model.evaluate(X_test, y_test))"
      ],
      "execution_count": 8,
      "outputs": [
        {
          "output_type": "stream",
          "text": [
            "313/313 [==============================] - 0s 1ms/step - loss: 0.0691 - accuracy: 0.9797\n",
            "[0.06906823813915253, 0.9797000288963318]\n"
          ],
          "name": "stdout"
        }
      ]
    },
    {
      "cell_type": "markdown",
      "metadata": {
        "id": "toaWghQDj3kH"
      },
      "source": [
        "Creating Confusion Matrix"
      ]
    },
    {
      "cell_type": "code",
      "metadata": {
        "colab": {
          "base_uri": "https://localhost:8080/",
          "height": 498
        },
        "id": "DKF9s0nPj2vo",
        "outputId": "f79da25f-3fc6-4aaa-9149-2f0d3f67b8a6"
      },
      "source": [
        "from sklearn.metrics import confusion_matrix\n",
        "import itertools\n",
        "\n",
        "def plot_confusion_matrix(cm, classes,\n",
        "                          normalize=False,\n",
        "                          title='Confusion matrix',\n",
        "                          cmap=plt.cm.Blues):\n",
        "    \"\"\"\n",
        "    This function prints and plots the confusion matrix.\n",
        "    Normalization can be applied by setting `normalize=True`.\n",
        "    \"\"\"\n",
        "    if normalize:\n",
        "        cm = cm.astype('float') / cm.sum(axis=1)[:, np.newaxis]\n",
        "        print(\"Normalized confusion matrix\")\n",
        "    else:\n",
        "        print('Confusion matrix, without normalization')\n",
        "\n",
        "    print(cm)\n",
        "\n",
        "    plt.imshow(cm, interpolation='nearest', cmap=cmap)\n",
        "    plt.title(title)\n",
        "    plt.colorbar()\n",
        "    tick_marks = np.arange(len(classes))\n",
        "    plt.xticks(tick_marks, classes, rotation=45)\n",
        "    plt.yticks(tick_marks, classes)\n",
        "\n",
        "    thresh = cm.max() / 2.\n",
        "    for i, j in itertools.product(range(cm.shape[0]), range(cm.shape[1])):\n",
        "        plt.text(j, i, cm[i, j],\n",
        "                 horizontalalignment=\"center\",\n",
        "                 color=\"white\" if cm[i, j] > thresh else \"black\")\n",
        "\n",
        "    plt.tight_layout()\n",
        "    plt.ylabel('True label')\n",
        "    plt.xlabel('Predicted label')\n",
        "\n",
        "y_pred = model.predict(X_test).argmax(axis = 1)\n",
        "cm = confusion_matrix(y_test, y_pred)\n",
        "plot_confusion_matrix(cm, list(range(10))) # for 10 nodes as we have 0 to 9 digits."
      ],
      "execution_count": 9,
      "outputs": [
        {
          "output_type": "stream",
          "text": [
            "Confusion matrix, without normalization\n",
            "[[ 972    0    0    2    0    0    3    1    2    0]\n",
            " [   0 1129    2    0    0    0    2    0    2    0]\n",
            " [   5    2 1009    2    2    0    2    7    3    0]\n",
            " [   0    0    3  996    0    2    0    4    1    4]\n",
            " [   1    0    2    1  967    0    4    2    0    5]\n",
            " [   2    1    0   14    2  869    2    0    1    1]\n",
            " [   4    2    0    1    2    4  945    0    0    0]\n",
            " [   1    5   10    2    0    0    0 1003    1    6]\n",
            " [   5    1    4    7    5    5    1    2  938    6]\n",
            " [   3    3    0   10   11    3    1    6    3  969]]\n"
          ],
          "name": "stdout"
        },
        {
          "output_type": "display_data",
          "data": {
            "image/png": "[encoded data removed]",
            "text/plain": [
              "<Figure size 432x288 with 2 Axes>"
            ]
          },
          "metadata": {
            "tags": [],
            "needs_background": "light"
          }
        }
      ]
    },
    {
      "cell_type": "markdown",
      "metadata": {
        "id": "mcZr6Z5Cq_C3"
      },
      "source": [
        "Predicting for single image"
      ]
    },
    {
      "cell_type": "code",
      "metadata": {
        "colab": {
          "base_uri": "https://localhost:8080/"
        },
        "id": "6HS9D2I3rBtW",
        "outputId": "afcabd90-dc7c-42e7-b200-1e5c43fd618d"
      },
      "source": [
        "from keras.preprocessing import image\n",
        "test_image = image.load_img('test_ans_0.jpeg', color_mode=\"grayscale\", target_size=(28,28,1))\n",
        "test_image = image.img_to_array(test_image)\n",
        "test_image = test_image / 255.0\n",
        "test_image = np.expand_dims(test_image, axis = 0)\n",
        "result = model.predict(test_image)\n",
        "\n",
        "classname = result[0]\n",
        "max_value = max(classname)\n",
        "max_index = np.where(classname == max_value)\n",
        "\n",
        "print(\"Predicted value: \", max_index[0][0])"
      ],
      "execution_count": 10,
      "outputs": [
        {
          "output_type": "stream",
          "text": [
            "Predicted value:  0\n"
          ],
          "name": "stdout"
        }
      ]
    },
    {
      "cell_type": "markdown",
      "metadata": {
        "id": "TzMl7Sy_qXrc"
      },
      "source": [
        "Misclassified examples"
      ]
    },
    {
      "cell_type": "code",
      "metadata": {
        "id": "slxe0KLrqVIo",
        "colab": {
          "base_uri": "https://localhost:8080/",
          "height": 281
        },
        "outputId": "dcc7475c-9e90-46ae-b59d-8b3be5a91c61"
      },
      "source": [
        "misclassified_idx = np.where(y_pred != y_test)[0]\n",
        "i = np.random.choice(misclassified_idx)\n",
        "plt.imshow(X_test[i], cmap='gray')\n",
        "plt.title(\"True label: %s Predicted: %s\" % (y_test[i], y_pred[i]));"
      ],
      "execution_count": 11,
      "outputs": [
        {
          "output_type": "display_data",
          "data": {
            "image/png": "[encoded data removed]",
            "text/plain": [
              "<Figure size 432x288 with 1 Axes>"
            ]
          },
          "metadata": {
            "tags": [],
            "needs_background": "light"
          }
        }
      ]
    }
  ]
}