{
  "nbformat": 4,
  "nbformat_minor": 0,
  "metadata": {
    "colab": {
      "name": "ConvolutionalNeuralNetwork_CIFAR10.ipynb",
      "provenance": [],
      "collapsed_sections": [],
      "toc_visible": true
    },
    "kernelspec": {
      "name": "python3",
      "display_name": "Python 3"
    },
    "language_info": {
      "name": "python"
    },
    "accelerator": "GPU"
  },
  "cells": [
    {
      "cell_type": "markdown",
      "metadata": {
        "id": "wc1vzsr16IOC"
      },
      "source": [
        "# Convolutional Neural Network (CNN) \n",
        "---\n",
        "*dataset: CIFAR10*\n",
        "\n"
      ]
    },
    {
      "cell_type": "markdown",
      "metadata": {
        "id": "T6R5C99g6jtN"
      },
      "source": [
        "---\n",
        "Importing libraries"
      ]
    },
    {
      "cell_type": "code",
      "metadata": {
        "id": "pz-LgmzR47j0"
      },
      "source": [
        "import numpy as np\n",
        "import matplotlib.pyplot as plt\n",
        "import pandas as pd\n",
        "import tensorflow as tf"
      ],
      "execution_count": 1,
      "outputs": []
    },
    {
      "cell_type": "markdown",
      "metadata": {
        "id": "1QKRx1CS7B3j"
      },
      "source": [
        "Importing dataset"
      ]
    },
    {
      "cell_type": "code",
      "metadata": {
        "id": "XcrcPpK_8BxB",
        "colab": {
          "base_uri": "https://localhost:8080/"
        },
        "outputId": "ffbf12e1-a516-40d2-cd37-289d247fefd1"
      },
      "source": [
        "cifar10 = tf.keras.datasets.cifar10\n",
        "(X_train, y_train), (X_test, y_test) = cifar10.load_data()\n",
        "\n",
        "# Each pixel has a value between 0–255. We normalize the values to 0–1.\n",
        "X_train, X_test = X_train / 255.0, X_test / 255.0\n",
        "y_train, y_test = y_train.flatten(), y_test.flatten()\n",
        "\n",
        "print(\"X_train.shape: \", X_train.shape)\n",
        "print(\"Train set contains \", X_train.shape[0], \" images of dimension \", X_train.shape[1], \"x\", X_train.shape[2])\n",
        "print(\"X_test.shape: \", X_test.shape)\n",
        "print(\"Test set contains \", X_test.shape[0], \" images of dimension \", X_test.shape[1], \"x\", X_test.shape[2])\n",
        "\n",
        "# the data is only 2D!\n",
        "# convolution expects height x width x color"
      ],
      "execution_count": 2,
      "outputs": [
        {
          "output_type": "stream",
          "text": [
            "Downloading data from https://www.cs.toronto.edu/~kriz/cifar-10-python.tar.gz\n",
            "170500096/170498071 [==============================] - 2s 0us/step\n",
            "X_train.shape:  (50000, 32, 32, 3)\n",
            "Train set contains  50000  images of dimension  32 x 32\n",
            "X_test.shape:  (10000, 32, 32, 3)\n",
            "Test set contains  10000  images of dimension  32 x 32\n"
          ],
          "name": "stdout"
        }
      ]
    },
    {
      "cell_type": "markdown",
      "metadata": {
        "id": "yga5ScReelKf"
      },
      "source": [
        "Checking number of classes data contain"
      ]
    },
    {
      "cell_type": "code",
      "metadata": {
        "id": "A72wUUO5ena8",
        "colab": {
          "base_uri": "https://localhost:8080/"
        },
        "outputId": "f150cfc8-e9a6-4f56-e393-ff3bb5422ef8"
      },
      "source": [
        "print(\"Shape of y_train \", y_train.shape)\n",
        "\n",
        "K = len(set(y_train))\n",
        "print(\"number of classes:\", K)\n",
        "# Class Names: T-shirt/top, Trouser/pants, Pullover shirt, Dress, Coat, Sandal, Shirt, Sneaker, Bag, Ankle boot"
      ],
      "execution_count": 3,
      "outputs": [
        {
          "output_type": "stream",
          "text": [
            "Shape of y_train  (50000,)\n",
            "number of classes: 10\n"
          ],
          "name": "stdout"
        }
      ]
    },
    {
      "cell_type": "markdown",
      "metadata": {
        "id": "XsDfsaVHEioK"
      },
      "source": [
        "Build the model using the functional API"
      ]
    },
    {
      "cell_type": "code",
      "metadata": {
        "id": "cLmzY7RtEleu"
      },
      "source": [
        "# Entry block\n",
        "input = tf.keras.layers.Input(shape = X_train[0].shape) # layers.Input(shape=(28, 28, 1))\n",
        "\n",
        "x = tf.keras.layers.Conv2D(32, (3, 3), strides=2, activation='relu')(input)\n",
        "x = tf.keras.layers.Conv2D(64, (3, 3), strides=2, activation='relu')(x)\n",
        "x = tf.keras.layers.Conv2D(128, (3, 3), strides=2, activation='relu')(x)\n",
        "x = tf.keras.layers.Flatten()(x)\n",
        "x = tf.keras.layers.Dropout(0.3)(x)\n",
        "x = tf.keras.layers.Dense(1024, activation='relu')(x)\n",
        "x = tf.keras.layers.Dropout(0.2)(x)\n",
        "x = tf.keras.layers.Dense(K, activation='softmax')(x)\n",
        "\n",
        "model = tf.keras.models.Model(input, x)"
      ],
      "execution_count": 4,
      "outputs": []
    },
    {
      "cell_type": "markdown",
      "metadata": {
        "id": "VfkkMLoPgfwh"
      },
      "source": [
        "Compiling the model"
      ]
    },
    {
      "cell_type": "code",
      "metadata": {
        "id": "ozB-PvkTgizU"
      },
      "source": [
        "# Note: make sure you are using the GPU for this!\n",
        "model.compile(optimizer = 'adam',\n",
        "              loss = 'sparse_categorical_crossentropy',\n",
        "              metrics = ['accuracy'])"
      ],
      "execution_count": 5,
      "outputs": []
    },
    {
      "cell_type": "markdown",
      "metadata": {
        "id": "mTAvae9ChNPW"
      },
      "source": [
        "Training the model"
      ]
    },
    {
      "cell_type": "code",
      "metadata": {
        "id": "YFhKGT_ShQLj",
        "colab": {
          "base_uri": "https://localhost:8080/"
        },
        "outputId": "7c24df23-c454-49b0-9801-de28d5d62499"
      },
      "source": [
        "r = model.fit(X_train, y_train, validation_data=(X_test, y_test), epochs=15)"
      ],
      "execution_count": 6,
      "outputs": [
        {
          "output_type": "stream",
          "text": [
            "Epoch 1/15\n",
            "1563/1563 [==============================] - 41s 7ms/step - loss: 1.7336 - accuracy: 0.3550 - val_loss: 1.2500 - val_accuracy: 0.5488\n",
            "Epoch 2/15\n",
            "1563/1563 [==============================] - 11s 7ms/step - loss: 1.2436 - accuracy: 0.5528 - val_loss: 1.1055 - val_accuracy: 0.5980\n",
            "Epoch 3/15\n",
            "1563/1563 [==============================] - 11s 7ms/step - loss: 1.0689 - accuracy: 0.6162 - val_loss: 0.9979 - val_accuracy: 0.6419\n",
            "Epoch 4/15\n",
            "1563/1563 [==============================] - 11s 7ms/step - loss: 0.9416 - accuracy: 0.6621 - val_loss: 0.9305 - val_accuracy: 0.6735\n",
            "Epoch 5/15\n",
            "1563/1563 [==============================] - 11s 7ms/step - loss: 0.8461 - accuracy: 0.6999 - val_loss: 0.9032 - val_accuracy: 0.6804\n",
            "Epoch 6/15\n",
            "1563/1563 [==============================] - 11s 7ms/step - loss: 0.7656 - accuracy: 0.7270 - val_loss: 0.8995 - val_accuracy: 0.6839\n",
            "Epoch 7/15\n",
            "1563/1563 [==============================] - 11s 7ms/step - loss: 0.7019 - accuracy: 0.7527 - val_loss: 0.8680 - val_accuracy: 0.7003\n",
            "Epoch 8/15\n",
            "1563/1563 [==============================] - 11s 7ms/step - loss: 0.6338 - accuracy: 0.7723 - val_loss: 0.8744 - val_accuracy: 0.7022\n",
            "Epoch 9/15\n",
            "1563/1563 [==============================] - 11s 7ms/step - loss: 0.5755 - accuracy: 0.7959 - val_loss: 0.8713 - val_accuracy: 0.7043\n",
            "Epoch 10/15\n",
            "1563/1563 [==============================] - 11s 7ms/step - loss: 0.5277 - accuracy: 0.8123 - val_loss: 0.9012 - val_accuracy: 0.6957\n",
            "Epoch 11/15\n",
            "1563/1563 [==============================] - 11s 7ms/step - loss: 0.4870 - accuracy: 0.8258 - val_loss: 0.9241 - val_accuracy: 0.6964\n",
            "Epoch 12/15\n",
            "1563/1563 [==============================] - 11s 7ms/step - loss: 0.4457 - accuracy: 0.8419 - val_loss: 0.9055 - val_accuracy: 0.6973\n",
            "Epoch 13/15\n",
            "1563/1563 [==============================] - 11s 7ms/step - loss: 0.4145 - accuracy: 0.8498 - val_loss: 0.9386 - val_accuracy: 0.7041\n",
            "Epoch 14/15\n",
            "1563/1563 [==============================] - 11s 7ms/step - loss: 0.4011 - accuracy: 0.8564 - val_loss: 0.9295 - val_accuracy: 0.7117\n",
            "Epoch 15/15\n",
            "1563/1563 [==============================] - 11s 7ms/step - loss: 0.3607 - accuracy: 0.8724 - val_loss: 1.0019 - val_accuracy: 0.6914\n"
          ],
          "name": "stdout"
        }
      ]
    },
    {
      "cell_type": "markdown",
      "metadata": {
        "id": "d35rIEohhw1Q"
      },
      "source": [
        "Plotting the loss per iteration"
      ]
    },
    {
      "cell_type": "code",
      "metadata": {
        "id": "78o0jZt3h0CN",
        "colab": {
          "base_uri": "https://localhost:8080/",
          "height": 282
        },
        "outputId": "0cf901f5-ec6f-4bf8-90e5-e0dc3b7a8db3"
      },
      "source": [
        "# val_loss is the value of cost function for your cross-validation data\n",
        "# and loss is the value of cost function for your training data.\n",
        "plt.plot(r.history['loss'], label='loss')\n",
        "plt.plot(r.history['val_loss'], label='val_loss')\n",
        "plt.legend()"
      ],
      "execution_count": 7,
      "outputs": [
        {
          "output_type": "execute_result",
          "data": {
            "text/plain": [
              "<matplotlib.legend.Legend at 0x7f775ba87750>"
            ]
          },
          "metadata": {
            "tags": []
          },
          "execution_count": 7
        },
        {
          "output_type": "display_data",
          "data": {
            "image/png": "[encoded data removed]",
            "text/plain": [
              "<Figure size 432x288 with 1 Axes>"
            ]
          },
          "metadata": {
            "tags": [],
            "needs_background": "light"
          }
        }
      ]
    },
    {
      "cell_type": "markdown",
      "metadata": {
        "id": "2mG4_fg9iTTR"
      },
      "source": [
        "Also plotting the accuracy per iteration"
      ]
    },
    {
      "cell_type": "code",
      "metadata": {
        "id": "r0LWNiG2iW8W",
        "colab": {
          "base_uri": "https://localhost:8080/",
          "height": 282
        },
        "outputId": "dc82efab-7a32-41ec-df34-a77096a8d84c"
      },
      "source": [
        "# accuracy refers to accuracy of what was trained against.\n",
        "# 'val_accuracy' refers to validation set.\n",
        "plt.plot(r.history['accuracy'], label = 'accuracy')\n",
        "plt.plot(r.history['val_accuracy'], label = 'val_accuracy')\n",
        "plt.legend()"
      ],
      "execution_count": 8,
      "outputs": [
        {
          "output_type": "execute_result",
          "data": {
            "text/plain": [
              "<matplotlib.legend.Legend at 0x7f775ba798d0>"
            ]
          },
          "metadata": {
            "tags": []
          },
          "execution_count": 8
        },
        {
          "output_type": "display_data",
          "data": {
            "image/png": "[encoded data removed]",
            "text/plain": [
              "<Figure size 432x288 with 1 Axes>"
            ]
          },
          "metadata": {
            "tags": [],
            "needs_background": "light"
          }
        }
      ]
    },
    {
      "cell_type": "markdown",
      "metadata": {
        "id": "s1iiGLV4jbpW"
      },
      "source": [
        "Evaluating the model"
      ]
    },
    {
      "cell_type": "code",
      "metadata": {
        "id": "ORmEzvjEjd-n",
        "colab": {
          "base_uri": "https://localhost:8080/"
        },
        "outputId": "dc8034af-6787-43e6-bd3d-9e0ff47eec62"
      },
      "source": [
        "print(model.evaluate(X_test, y_test))"
      ],
      "execution_count": 9,
      "outputs": [
        {
          "output_type": "stream",
          "text": [
            "313/313 [==============================] - 1s 4ms/step - loss: 1.0019 - accuracy: 0.6914\n",
            "[1.0019396543502808, 0.6913999915122986]\n"
          ],
          "name": "stdout"
        }
      ]
    },
    {
      "cell_type": "markdown",
      "metadata": {
        "id": "toaWghQDj3kH"
      },
      "source": [
        "Creating Confusion Matrix"
      ]
    },
    {
      "cell_type": "code",
      "metadata": {
        "id": "DKF9s0nPj2vo",
        "colab": {
          "base_uri": "https://localhost:8080/",
          "height": 498
        },
        "outputId": "1b9b2203-8829-4906-c179-5d7ed05d35ec"
      },
      "source": [
        "from sklearn.metrics import confusion_matrix\n",
        "import itertools\n",
        "\n",
        "def plot_confusion_matrix(cm, classes,\n",
        "                          normalize=False,\n",
        "                          title='Confusion matrix',\n",
        "                          cmap=plt.cm.Blues):\n",
        "    \"\"\"\n",
        "    This function prints and plots the confusion matrix.\n",
        "    Normalization can be applied by setting `normalize=True`.\n",
        "    \"\"\"\n",
        "    if normalize:\n",
        "        cm = cm.astype('float') / cm.sum(axis=1)[:, np.newaxis]\n",
        "        print(\"Normalized confusion matrix\")\n",
        "    else:\n",
        "        print('Confusion matrix, without normalization')\n",
        "\n",
        "    print(cm)\n",
        "\n",
        "    plt.imshow(cm, interpolation='nearest', cmap=cmap)\n",
        "    plt.title(title)\n",
        "    plt.colorbar()\n",
        "    tick_marks = np.arange(len(classes))\n",
        "    plt.xticks(tick_marks, classes, rotation=45)\n",
        "    plt.yticks(tick_marks, classes)\n",
        "\n",
        "    thresh = cm.max() / 2.\n",
        "    for i, j in itertools.product(range(cm.shape[0]), range(cm.shape[1])):\n",
        "        plt.text(j, i, cm[i, j],\n",
        "                 horizontalalignment=\"center\",\n",
        "                 color=\"white\" if cm[i, j] > thresh else \"black\")\n",
        "\n",
        "    plt.tight_layout()\n",
        "    plt.ylabel('True label')\n",
        "    plt.xlabel('Predicted label')\n",
        "\n",
        "y_pred = model.predict(X_test).argmax(axis = 1)\n",
        "cm = confusion_matrix(y_test, y_pred)\n",
        "plot_confusion_matrix(cm, list(range(10))) # for 10 nodes as we have 0 to 9 digits."
      ],
      "execution_count": 10,
      "outputs": [
        {
          "output_type": "stream",
          "text": [
            "Confusion matrix, without normalization\n",
            "[[745  31  39  24  22  11  13  14  51  50]\n",
            " [ 13 802   8  10   3   6  12   5  16 125]\n",
            " [ 49   7 514  87  78 101 114  28  10  12]\n",
            " [ 22  12  46 509  50 214  89  29   7  22]\n",
            " [ 14   4  52  93 567  42 142  68  10   8]\n",
            " [  8   7  32 214  42 617  40  28   4   8]\n",
            " [  2   7  18  63  16  24 855   5   7   3]\n",
            " [  8   3  24  51  61  87  18 719   7  22]\n",
            " [ 80  43  11  18   7  10  10   8 764  49]\n",
            " [ 23  78   7  15   2  11  15  15  12 822]]\n"
          ],
          "name": "stdout"
        },
        {
          "output_type": "display_data",
          "data": {
            "image/png": "[encoded data removed]",
            "text/plain": [
              "<Figure size 432x288 with 2 Axes>"
            ]
          },
          "metadata": {
            "tags": [],
            "needs_background": "light"
          }
        }
      ]
    },
    {
      "cell_type": "markdown",
      "metadata": {
        "id": "LnH9XjJnFrEI"
      },
      "source": [
        "Label mapping"
      ]
    },
    {
      "cell_type": "code",
      "metadata": {
        "id": "keBht9UGFuCt"
      },
      "source": [
        "labels = '''airplane\n",
        "automobile\n",
        "bird\n",
        "cat\n",
        "deer\n",
        "dog\n",
        "frog\n",
        "horse\n",
        "ship\n",
        "truck'''.split()"
      ],
      "execution_count": 11,
      "outputs": []
    },
    {
      "cell_type": "markdown",
      "metadata": {
        "id": "mcZr6Z5Cq_C3"
      },
      "source": [
        "Predicting for single image"
      ]
    },
    {
      "cell_type": "code",
      "metadata": {
        "id": "6HS9D2I3rBtW",
        "colab": {
          "base_uri": "https://localhost:8080/"
        },
        "outputId": "71084065-ad95-44f1-c428-aa2175c93fb1"
      },
      "source": [
        "from keras.preprocessing import image\n",
        "test_image = image.load_img('cifar_test_airplane.png', color_mode=\"rgb\", target_size=(32,32,3))\n",
        "test_image = image.img_to_array(test_image)\n",
        "test_image = test_image / 255.0\n",
        "test_image = np.expand_dims(test_image, axis = 0)\n",
        "result = model.predict(test_image)\n",
        "\n",
        "classname = result[0]\n",
        "max_value = max(classname)\n",
        "max_index = np.where(classname == max_value)\n",
        "\n",
        "print(\"Predicted value: \", labels[max_index[0][0]])"
      ],
      "execution_count": 12,
      "outputs": [
        {
          "output_type": "stream",
          "text": [
            "Predicted value:  airplane\n"
          ],
          "name": "stdout"
        }
      ]
    },
    {
      "cell_type": "markdown",
      "metadata": {
        "id": "TzMl7Sy_qXrc"
      },
      "source": [
        "Misclassified examples"
      ]
    },
    {
      "cell_type": "code",
      "metadata": {
        "id": "slxe0KLrqVIo",
        "colab": {
          "base_uri": "https://localhost:8080/",
          "height": 298
        },
        "outputId": "bb6a2e7b-d123-4be5-8b4b-2a0f8294f2f3"
      },
      "source": [
        "misclassified_idx = np.where(y_pred != y_test)[0]\n",
        "i = np.random.choice(misclassified_idx)\n",
        "plt.imshow(X_test[i], cmap='gray')\n",
        "plt.title(\"True label: %s Predicted: %s\" % (labels[y_test[i]], labels[y_pred[i]]))"
      ],
      "execution_count": 13,
      "outputs": [
        {
          "output_type": "execute_result",
          "data": {
            "text/plain": [
              "Text(0.5, 1.0, 'True label: airplane Predicted: truck')"
            ]
          },
          "metadata": {
            "tags": []
          },
          "execution_count": 13
        },
        {
          "output_type": "display_data",
          "data": {
            "image/png": "[encoded data removed]",
            "text/plain": [
              "<Figure size 432x288 with 1 Axes>"
            ]
          },
          "metadata": {
            "tags": [],
            "needs_background": "light"
          }
        }
      ]
    }
  ]
}