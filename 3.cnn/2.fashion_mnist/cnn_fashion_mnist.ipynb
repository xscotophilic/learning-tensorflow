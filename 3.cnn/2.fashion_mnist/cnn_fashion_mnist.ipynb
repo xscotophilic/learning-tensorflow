{
  "nbformat": 4,
  "nbformat_minor": 0,
  "metadata": {
    "colab": {
      "name": "ConvolutionalNeuralNetwork_fashion_mnist.ipynb",
      "provenance": [],
      "collapsed_sections": []
    },
    "kernelspec": {
      "name": "python3",
      "display_name": "Python 3"
    },
    "language_info": {
      "name": "python"
    },
    "accelerator": "GPU"
  },
  "cells": [
    {
      "cell_type": "markdown",
      "metadata": {
        "id": "wc1vzsr16IOC"
      },
      "source": [
        "# Convolutional Neural Network (CNN) \n",
        "---\n",
        "*dataset: fashion_mnist*\n",
        "\n"
      ]
    },
    {
      "cell_type": "markdown",
      "metadata": {
        "id": "T6R5C99g6jtN"
      },
      "source": [
        "---\n",
        "Importing libraries"
      ]
    },
    {
      "cell_type": "code",
      "metadata": {
        "id": "pz-LgmzR47j0"
      },
      "source": [
        "import numpy as np\n",
        "import matplotlib.pyplot as plt\n",
        "import pandas as pd\n",
        "import tensorflow as tf"
      ],
      "execution_count": 1,
      "outputs": []
    },
    {
      "cell_type": "markdown",
      "metadata": {
        "id": "1QKRx1CS7B3j"
      },
      "source": [
        "Importing dataset"
      ]
    },
    {
      "cell_type": "code",
      "metadata": {
        "id": "XcrcPpK_8BxB",
        "colab": {
          "base_uri": "https://localhost:8080/"
        },
        "outputId": "89cfe377-c103-4fa3-9c32-cdc0c34944e8"
      },
      "source": [
        "fashion_mnist = tf.keras.datasets.fashion_mnist\n",
        "(X_train, y_train), (X_test, y_test) = fashion_mnist.load_data()\n",
        "\n",
        "# Each pixel has a value between 0–255. We normalize the values to 0–1.\n",
        "X_train, X_test = X_train / 255.0, X_test / 255.0\n",
        "\n",
        "print(\"X_train.shape: \", X_train.shape)\n",
        "print(\"Train set contains \", X_train.shape[0], \" images of dimension \", X_train.shape[1], \"x\", X_train.shape[2])\n",
        "print(\"X_test.shape: \", X_test.shape)\n",
        "print(\"Test set contains \", X_test.shape[0], \" images of dimension \", X_test.shape[1], \"x\", X_test.shape[2])\n",
        "\n",
        "# the data is only 2D!\n",
        "# convolution expects height x width x color"
      ],
      "execution_count": 2,
      "outputs": [
        {
          "output_type": "stream",
          "text": [
            "Downloading data from https://storage.googleapis.com/tensorflow/tf-keras-datasets/train-labels-idx1-ubyte.gz\n",
            "32768/29515 [=================================] - 0s 0us/step\n",
            "Downloading data from https://storage.googleapis.com/tensorflow/tf-keras-datasets/train-images-idx3-ubyte.gz\n",
            "26427392/26421880 [==============================] - 0s 0us/step\n",
            "Downloading data from https://storage.googleapis.com/tensorflow/tf-keras-datasets/t10k-labels-idx1-ubyte.gz\n",
            "8192/5148 [===============================================] - 0s 0us/step\n",
            "Downloading data from https://storage.googleapis.com/tensorflow/tf-keras-datasets/t10k-images-idx3-ubyte.gz\n",
            "4423680/4422102 [==============================] - 0s 0us/step\n",
            "X_train.shape:  (60000, 28, 28)\n",
            "Train set contains  60000  images of dimension  28 x 28\n",
            "X_test.shape:  (10000, 28, 28)\n",
            "Test set contains  10000  images of dimension  28 x 28\n"
          ],
          "name": "stdout"
        }
      ]
    },
    {
      "cell_type": "markdown",
      "metadata": {
        "id": "yga5ScReelKf"
      },
      "source": [
        "Adding one more dimension and the checking number of classes data contain"
      ]
    },
    {
      "cell_type": "code",
      "metadata": {
        "id": "A72wUUO5ena8",
        "colab": {
          "base_uri": "https://localhost:8080/"
        },
        "outputId": "3cefd737-067b-420a-aa0f-6f9caeb0ce40"
      },
      "source": [
        "X_train = np.expand_dims(X_train, -1)\n",
        "X_test = np.expand_dims(X_test, -1)\n",
        "print(\"Test set contains \", X_test.shape[0], \" images of dimension \", X_test.shape[1], \"x\", X_test.shape[2], \"x\", X_test.shape[3])\n",
        "\n",
        "K = len(set(y_train))\n",
        "print(\"number of classes:\", K)\n",
        "# Class Names: T-shirt/top, Trouser/pants, Pullover shirt, Dress, Coat, Sandal, Shirt, Sneaker, Bag, Ankle boot"
      ],
      "execution_count": 3,
      "outputs": [
        {
          "output_type": "stream",
          "text": [
            "Test set contains  10000  images of dimension  28 x 28 x 1\n",
            "number of classes: 10\n"
          ],
          "name": "stdout"
        }
      ]
    },
    {
      "cell_type": "markdown",
      "metadata": {
        "id": "XsDfsaVHEioK"
      },
      "source": [
        "Build the model using the functional API"
      ]
    },
    {
      "cell_type": "code",
      "metadata": {
        "id": "cLmzY7RtEleu"
      },
      "source": [
        "# Entry block\n",
        "input = tf.keras.layers.Input(shape = X_train[0].shape) # layers.Input(shape=(28, 28, 1))\n",
        "\n",
        "x = tf.keras.layers.Conv2D(32, (3, 3), strides=2, activation='relu')(input)\n",
        "x = tf.keras.layers.Conv2D(64, (3, 3), strides=2, activation='relu')(x)\n",
        "x = tf.keras.layers.Conv2D(128, (3, 3), strides=2, activation='relu')(x)\n",
        "x = tf.keras.layers.Flatten()(x)\n",
        "x = tf.keras.layers.Dropout(0.2)(x)\n",
        "x = tf.keras.layers.Dense(512, activation='relu')(x)\n",
        "x = tf.keras.layers.Dropout(0.2)(x)\n",
        "x = tf.keras.layers.Dense(K, activation='softmax')(x)\n",
        "\n",
        "model = tf.keras.models.Model(input, x)"
      ],
      "execution_count": 4,
      "outputs": []
    },
    {
      "cell_type": "markdown",
      "metadata": {
        "id": "VfkkMLoPgfwh"
      },
      "source": [
        "Compiling the model"
      ]
    },
    {
      "cell_type": "code",
      "metadata": {
        "id": "ozB-PvkTgizU"
      },
      "source": [
        "# Note: make sure you are using the GPU for this!\n",
        "model.compile(optimizer = 'adam',\n",
        "              loss = 'sparse_categorical_crossentropy',\n",
        "              metrics = ['accuracy'])"
      ],
      "execution_count": 5,
      "outputs": []
    },
    {
      "cell_type": "markdown",
      "metadata": {
        "id": "mTAvae9ChNPW"
      },
      "source": [
        "Training the model"
      ]
    },
    {
      "cell_type": "code",
      "metadata": {
        "id": "YFhKGT_ShQLj",
        "colab": {
          "base_uri": "https://localhost:8080/"
        },
        "outputId": "333281b5-cbf8-4845-9d2f-1fbae0254ac2"
      },
      "source": [
        "r = model.fit(X_train, y_train, validation_data=(X_test, y_test), epochs=15)"
      ],
      "execution_count": 6,
      "outputs": [
        {
          "output_type": "stream",
          "text": [
            "Epoch 1/15\n",
            "1875/1875 [==============================] - 39s 4ms/step - loss: 0.7001 - accuracy: 0.7437 - val_loss: 0.4070 - val_accuracy: 0.8447\n",
            "Epoch 2/15\n",
            "1875/1875 [==============================] - 6s 3ms/step - loss: 0.3706 - accuracy: 0.8591 - val_loss: 0.3459 - val_accuracy: 0.8736\n",
            "Epoch 3/15\n",
            "1875/1875 [==============================] - 6s 3ms/step - loss: 0.3158 - accuracy: 0.8804 - val_loss: 0.3303 - val_accuracy: 0.8744\n",
            "Epoch 4/15\n",
            "1875/1875 [==============================] - 6s 3ms/step - loss: 0.2777 - accuracy: 0.8930 - val_loss: 0.3263 - val_accuracy: 0.8844\n",
            "Epoch 5/15\n",
            "1875/1875 [==============================] - 6s 3ms/step - loss: 0.2491 - accuracy: 0.9048 - val_loss: 0.2952 - val_accuracy: 0.8914\n",
            "Epoch 6/15\n",
            "1875/1875 [==============================] - 6s 3ms/step - loss: 0.2258 - accuracy: 0.9157 - val_loss: 0.2910 - val_accuracy: 0.8963\n",
            "Epoch 7/15\n",
            "1875/1875 [==============================] - 6s 3ms/step - loss: 0.2088 - accuracy: 0.9205 - val_loss: 0.2961 - val_accuracy: 0.8970\n",
            "Epoch 8/15\n",
            "1875/1875 [==============================] - 6s 3ms/step - loss: 0.1898 - accuracy: 0.9276 - val_loss: 0.3042 - val_accuracy: 0.8953\n",
            "Epoch 9/15\n",
            "1875/1875 [==============================] - 6s 3ms/step - loss: 0.1763 - accuracy: 0.9333 - val_loss: 0.3016 - val_accuracy: 0.9014\n",
            "Epoch 10/15\n",
            "1875/1875 [==============================] - 6s 3ms/step - loss: 0.1608 - accuracy: 0.9390 - val_loss: 0.3055 - val_accuracy: 0.9049\n",
            "Epoch 11/15\n",
            "1875/1875 [==============================] - 6s 3ms/step - loss: 0.1484 - accuracy: 0.9433 - val_loss: 0.3084 - val_accuracy: 0.9018\n",
            "Epoch 12/15\n",
            "1875/1875 [==============================] - 6s 3ms/step - loss: 0.1407 - accuracy: 0.9466 - val_loss: 0.3402 - val_accuracy: 0.9009\n",
            "Epoch 13/15\n",
            "1875/1875 [==============================] - 6s 3ms/step - loss: 0.1356 - accuracy: 0.9479 - val_loss: 0.3203 - val_accuracy: 0.9043\n",
            "Epoch 14/15\n",
            "1875/1875 [==============================] - 6s 3ms/step - loss: 0.1258 - accuracy: 0.9522 - val_loss: 0.3445 - val_accuracy: 0.8987\n",
            "Epoch 15/15\n",
            "1875/1875 [==============================] - 6s 3ms/step - loss: 0.1179 - accuracy: 0.9546 - val_loss: 0.3352 - val_accuracy: 0.9047\n"
          ],
          "name": "stdout"
        }
      ]
    },
    {
      "cell_type": "markdown",
      "metadata": {
        "id": "d35rIEohhw1Q"
      },
      "source": [
        "Plotting the loss per iteration"
      ]
    },
    {
      "cell_type": "code",
      "metadata": {
        "id": "78o0jZt3h0CN",
        "colab": {
          "base_uri": "https://localhost:8080/",
          "height": 282
        },
        "outputId": "f83f2734-60df-4217-ff99-571d41b2053a"
      },
      "source": [
        "# val_loss is the value of cost function for your cross-validation data\n",
        "# and loss is the value of cost function for your training data.\n",
        "plt.plot(r.history['loss'], label='loss')\n",
        "plt.plot(r.history['val_loss'], label='val_loss')\n",
        "plt.legend()"
      ],
      "execution_count": 7,
      "outputs": [
        {
          "output_type": "execute_result",
          "data": {
            "text/plain": [
              "<matplotlib.legend.Legend at 0x7f3cee1ee250>"
            ]
          },
          "metadata": {
            "tags": []
          },
          "execution_count": 7
        },
        {
          "output_type": "display_data",
          "data": {
            "image/png": "[encoded data removed]",
            "text/plain": [
              "<Figure size 432x288 with 1 Axes>"
            ]
          },
          "metadata": {
            "tags": [],
            "needs_background": "light"
          }
        }
      ]
    },
    {
      "cell_type": "markdown",
      "metadata": {
        "id": "2mG4_fg9iTTR"
      },
      "source": [
        "Also plotting the accuracy per iteration"
      ]
    },
    {
      "cell_type": "code",
      "metadata": {
        "id": "r0LWNiG2iW8W",
        "colab": {
          "base_uri": "https://localhost:8080/",
          "height": 282
        },
        "outputId": "b2829d59-9fdb-4d23-a925-19b0814bf98c"
      },
      "source": [
        "# accuracy refers to accuracy of what was trained against.\n",
        "# 'val_accuracy' refers to validation set.\n",
        "plt.plot(r.history['accuracy'], label = 'accuracy')\n",
        "plt.plot(r.history['val_accuracy'], label = 'val_accuracy')\n",
        "plt.legend()"
      ],
      "execution_count": 8,
      "outputs": [
        {
          "output_type": "execute_result",
          "data": {
            "text/plain": [
              "<matplotlib.legend.Legend at 0x7f3cee199750>"
            ]
          },
          "metadata": {
            "tags": []
          },
          "execution_count": 8
        },
        {
          "output_type": "display_data",
          "data": {
            "image/png": "[encoded data removed]",
            "text/plain": [
              "<Figure size 432x288 with 1 Axes>"
            ]
          },
          "metadata": {
            "tags": [],
            "needs_background": "light"
          }
        }
      ]
    },
    {
      "cell_type": "markdown",
      "metadata": {
        "id": "s1iiGLV4jbpW"
      },
      "source": [
        "Evaluating the model"
      ]
    },
    {
      "cell_type": "code",
      "metadata": {
        "id": "ORmEzvjEjd-n",
        "colab": {
          "base_uri": "https://localhost:8080/"
        },
        "outputId": "46e2fbe2-4922-4528-c49f-466e237d6371"
      },
      "source": [
        "print(model.evaluate(X_test, y_test))"
      ],
      "execution_count": 9,
      "outputs": [
        {
          "output_type": "stream",
          "text": [
            "313/313 [==============================] - 1s 2ms/step - loss: 0.3352 - accuracy: 0.9047\n",
            "[0.3352309465408325, 0.904699981212616]\n"
          ],
          "name": "stdout"
        }
      ]
    },
    {
      "cell_type": "markdown",
      "metadata": {
        "id": "toaWghQDj3kH"
      },
      "source": [
        "Creating Confusion Matrix"
      ]
    },
    {
      "cell_type": "code",
      "metadata": {
        "id": "DKF9s0nPj2vo",
        "colab": {
          "base_uri": "https://localhost:8080/",
          "height": 498
        },
        "outputId": "9d3db9fa-bed1-4e11-ecba-2c00349d6582"
      },
      "source": [
        "from sklearn.metrics import confusion_matrix\n",
        "import itertools\n",
        "\n",
        "def plot_confusion_matrix(cm, classes,\n",
        "                          normalize=False,\n",
        "                          title='Confusion matrix',\n",
        "                          cmap=plt.cm.Blues):\n",
        "    \"\"\"\n",
        "    This function prints and plots the confusion matrix.\n",
        "    Normalization can be applied by setting `normalize=True`.\n",
        "    \"\"\"\n",
        "    if normalize:\n",
        "        cm = cm.astype('float') / cm.sum(axis=1)[:, np.newaxis]\n",
        "        print(\"Normalized confusion matrix\")\n",
        "    else:\n",
        "        print('Confusion matrix, without normalization')\n",
        "\n",
        "    print(cm)\n",
        "\n",
        "    plt.imshow(cm, interpolation='nearest', cmap=cmap)\n",
        "    plt.title(title)\n",
        "    plt.colorbar()\n",
        "    tick_marks = np.arange(len(classes))\n",
        "    plt.xticks(tick_marks, classes, rotation=45)\n",
        "    plt.yticks(tick_marks, classes)\n",
        "\n",
        "    thresh = cm.max() / 2.\n",
        "    for i, j in itertools.product(range(cm.shape[0]), range(cm.shape[1])):\n",
        "        plt.text(j, i, cm[i, j],\n",
        "                 horizontalalignment=\"center\",\n",
        "                 color=\"white\" if cm[i, j] > thresh else \"black\")\n",
        "\n",
        "    plt.tight_layout()\n",
        "    plt.ylabel('True label')\n",
        "    plt.xlabel('Predicted label')\n",
        "\n",
        "y_pred = model.predict(X_test).argmax(axis = 1)\n",
        "cm = confusion_matrix(y_test, y_pred)\n",
        "plot_confusion_matrix(cm, list(range(10))) # for 10 nodes as we have 0 to 9 digits."
      ],
      "execution_count": 10,
      "outputs": [
        {
          "output_type": "stream",
          "text": [
            "Confusion matrix, without normalization\n",
            "[[874   1  18  13   5   1  86   0   2   0]\n",
            " [  3 982   0   9   1   0   3   0   2   0]\n",
            " [ 14   0 834   6  55   0  90   0   1   0]\n",
            " [ 14   6  11 919  26   1  22   0   1   0]\n",
            " [  1   0  49  23 821   0 106   0   0   0]\n",
            " [  0   0   0   0   1 968   0  18   0  13]\n",
            " [112   1  45  20  60   0 751   0  11   0]\n",
            " [  0   0   0   0   0   8   0 961   0  31]\n",
            " [  9   0   4   2   4   1   5   2 971   2]\n",
            " [  1   0   0   0   0   4   0  29   0 966]]\n"
          ],
          "name": "stdout"
        },
        {
          "output_type": "display_data",
          "data": {
            "image/png": "[encoded data removed]",
            "text/plain": [
              "<Figure size 432x288 with 2 Axes>"
            ]
          },
          "metadata": {
            "tags": [],
            "needs_background": "light"
          }
        }
      ]
    },
    {
      "cell_type": "markdown",
      "metadata": {
        "id": "LnH9XjJnFrEI"
      },
      "source": [
        "Label mapping"
      ]
    },
    {
      "cell_type": "code",
      "metadata": {
        "id": "keBht9UGFuCt"
      },
      "source": [
        "labels = '''T-shirt/top\n",
        "Trouser\n",
        "Pullover\n",
        "Dress\n",
        "Coat\n",
        "Sandal\n",
        "Shirt\n",
        "Sneaker\n",
        "Bag\n",
        "Ankle boot'''.split(\"\\n\")"
      ],
      "execution_count": 11,
      "outputs": []
    },
    {
      "cell_type": "markdown",
      "metadata": {
        "id": "mcZr6Z5Cq_C3"
      },
      "source": [
        "Predicting for single image"
      ]
    },
    {
      "cell_type": "code",
      "metadata": {
        "id": "6HS9D2I3rBtW",
        "colab": {
          "base_uri": "https://localhost:8080/",
          "height": 282
        },
        "outputId": "1a44495b-e59b-4de2-acef-26740d352a5f"
      },
      "source": [
        "from keras.preprocessing import image\n",
        "test_image = image.load_img('fashion_test_dress.png', color_mode=\"grayscale\", target_size=(28,28,1))\n",
        "test_image = image.img_to_array(test_image)\n",
        "test_image = test_image / 255.0\n",
        "test_image = np.expand_dims(test_image, axis = 0)\n",
        "result = model.predict(test_image)\n",
        "\n",
        "classname = result[0]\n",
        "max_value = max(classname)\n",
        "max_index = np.where(classname == max_value)\n",
        "\n",
        "plt.imshow(test_image.reshape(28,28), cmap='gray')\n",
        "print(\"Predicted value: \", labels[max_index[0][0]])"
      ],
      "execution_count": 12,
      "outputs": [
        {
          "output_type": "stream",
          "text": [
            "Predicted value:  Dress\n"
          ],
          "name": "stdout"
        },
        {
          "output_type": "display_data",
          "data": {
            "image/png": "[encoded data removed]",
            "text/plain": [
              "<Figure size 432x288 with 1 Axes>"
            ]
          },
          "metadata": {
            "tags": [],
            "needs_background": "light"
          }
        }
      ]
    },
    {
      "cell_type": "markdown",
      "metadata": {
        "id": "TzMl7Sy_qXrc"
      },
      "source": [
        "Misclassified examples"
      ]
    },
    {
      "cell_type": "code",
      "metadata": {
        "id": "slxe0KLrqVIo",
        "colab": {
          "base_uri": "https://localhost:8080/",
          "height": 298
        },
        "outputId": "2da35b24-4b47-45fd-a215-8362bc11793b"
      },
      "source": [
        "misclassified_idx = np.where(y_pred != y_test)[0]\n",
        "i = np.random.choice(misclassified_idx)\n",
        "plt.imshow(X_test[i].reshape(28,28), cmap='gray')\n",
        "plt.title(\"True label: %s Predicted: %s\" % (labels[y_test[i]], labels[y_pred[i]]))"
      ],
      "execution_count": 13,
      "outputs": [
        {
          "output_type": "execute_result",
          "data": {
            "text/plain": [
              "Text(0.5, 1.0, 'True label: Coat Predicted: Shirt')"
            ]
          },
          "metadata": {
            "tags": []
          },
          "execution_count": 13
        },
        {
          "output_type": "display_data",
          "data": {
            "image/png": "[encoded data removed]",
            "text/plain": [
              "<Figure size 432x288 with 1 Axes>"
            ]
          },
          "metadata": {
            "tags": [],
            "needs_background": "light"
          }
        }
      ]
    }
  ]
}