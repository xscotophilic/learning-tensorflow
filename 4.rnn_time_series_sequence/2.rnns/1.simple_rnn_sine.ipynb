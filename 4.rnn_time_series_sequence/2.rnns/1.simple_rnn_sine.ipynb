{
  "nbformat": 4,
  "nbformat_minor": 0,
  "metadata": {
    "colab": {
      "name": "SimpleRNNSine.ipynb",
      "provenance": [],
      "collapsed_sections": [],
      "toc_visible": true
    },
    "kernelspec": {
      "display_name": "Python 3",
      "name": "python3"
    },
    "language_info": {
      "name": "python"
    }
  },
  "cells": [
    {
      "cell_type": "markdown",
      "metadata": {
        "id": "qxUo-iaULB32"
      },
      "source": [
        "# Simple Recurrent neural network\n",
        "(Forecasting For Sine wave data)"
      ]
    },
    {
      "cell_type": "code",
      "metadata": {
        "id": "BgyIypbwLAeH"
      },
      "source": [
        "import numpy as np\n",
        "import matplotlib.pyplot as plt\n",
        "import pandas as pd\n",
        "\n",
        "from tensorflow.keras.layers import Input, SimpleRNN, Dense, Flatten\n",
        "from tensorflow.keras.models import Model\n",
        "from tensorflow.keras.optimizers import SGD, Adam"
      ],
      "execution_count": 1,
      "outputs": []
    },
    {
      "cell_type": "markdown",
      "metadata": {
        "id": "mchKzNLocCG7"
      },
      "source": [
        "## ----- Section 01 Importing/ Generating Data -----"
      ]
    },
    {
      "cell_type": "markdown",
      "metadata": {
        "id": "NARerm0TREYQ"
      },
      "source": [
        "### Generating and plotting the original data"
      ]
    },
    {
      "cell_type": "code",
      "metadata": {
        "colab": {
          "base_uri": "https://localhost:8080/",
          "height": 265
        },
        "id": "jvbx1BgKRHSm",
        "outputId": "e9f2df69-4e30-49e8-8b9f-4143f0208564"
      },
      "source": [
        "series = np.sin(0.1*np.arange(200))\n",
        "\n",
        "# plot it\n",
        "plt.plot(series)\n",
        "plt.show()"
      ],
      "execution_count": 2,
      "outputs": [
        {
          "output_type": "display_data",
          "data": {
            "image/png": "[encoded data removed]",
            "text/plain": [
              "<Figure size 432x288 with 1 Axes>"
            ]
          },
          "metadata": {
            "tags": [],
            "needs_background": "light"
          }
        }
      ]
    },
    {
      "cell_type": "markdown",
      "metadata": {
        "id": "TNfNRKUSRQrt"
      },
      "source": [
        "### Building the dataset"
      ]
    },
    {
      "cell_type": "code",
      "metadata": {
        "colab": {
          "base_uri": "https://localhost:8080/"
        },
        "id": "D4932SjPRaZi",
        "outputId": "76d62e80-7c93-4c29-ca83-405d9efe4e85"
      },
      "source": [
        "# let's see if we can use T past values to predict the next value\n",
        "T = 10\n",
        "D = 1\n",
        "X = []\n",
        "Y = []\n",
        "for t in range(len(series) - T):\n",
        "  x = series[t:t+T]\n",
        "  X.append(x)\n",
        "  y = series[t+T]\n",
        "  Y.append(y)\n",
        "\n",
        "X = np.array(X).reshape(-1, T, 1) # Now the data should be N x T x D\n",
        "Y = np.array(Y)\n",
        "N = len(X)\n",
        "print(\"X.shape\", X.shape, \"Y.shape\", Y.shape)"
      ],
      "execution_count": 3,
      "outputs": [
        {
          "output_type": "stream",
          "text": [
            "X.shape (190, 10, 1) Y.shape (190,)\n"
          ],
          "name": "stdout"
        }
      ]
    },
    {
      "cell_type": "markdown",
      "metadata": {
        "id": "lV7LUXWccaK4"
      },
      "source": [
        "## ----- Section 02 Training The Model -----"
      ]
    },
    {
      "cell_type": "markdown",
      "metadata": {
        "id": "9aZ6JJkrWNYK"
      },
      "source": [
        "### Training autoregressive RNN model\n"
      ]
    },
    {
      "cell_type": "code",
      "metadata": {
        "colab": {
          "base_uri": "https://localhost:8080/"
        },
        "id": "lL9vFdTOWVPA",
        "outputId": "82c1cbdc-efab-4a86-f1c8-ea8bbe9e78d2"
      },
      "source": [
        "input = Input(shape=(T, 1))\n",
        "x = SimpleRNN(15, activation='relu')(input)\n",
        "x = Dense(1)(x)\n",
        "model = Model(input, x)\n",
        "model.compile(\n",
        "  loss='mse',\n",
        "  optimizer=Adam(lr=0.001),\n",
        ")\n",
        "\n",
        "# train the RNN\n",
        "history = model.fit(\n",
        "  X[:-N//2], Y[:-N//2],\n",
        "  epochs=80,\n",
        "  validation_data=(X[-N//2:], Y[-N//2:]),\n",
        ")"
      ],
      "execution_count": 4,
      "outputs": [
        {
          "output_type": "stream",
          "text": [
            "Epoch 1/80\n",
            "3/3 [==============================] - 2s 278ms/step - loss: 0.4732 - val_loss: 0.3926\n",
            "Epoch 2/80\n",
            "3/3 [==============================] - 0s 28ms/step - loss: 0.4197 - val_loss: 0.3607\n",
            "Epoch 3/80\n",
            "3/3 [==============================] - 0s 28ms/step - loss: 0.4094 - val_loss: 0.3306\n",
            "Epoch 4/80\n",
            "3/3 [==============================] - 0s 26ms/step - loss: 0.3354 - val_loss: 0.3023\n",
            "Epoch 5/80\n",
            "3/3 [==============================] - 0s 25ms/step - loss: 0.3556 - val_loss: 0.2756\n",
            "Epoch 6/80\n",
            "3/3 [==============================] - 0s 24ms/step - loss: 0.3369 - val_loss: 0.2504\n",
            "Epoch 7/80\n",
            "3/3 [==============================] - 0s 25ms/step - loss: 0.2955 - val_loss: 0.2267\n",
            "Epoch 8/80\n",
            "3/3 [==============================] - 0s 30ms/step - loss: 0.2883 - val_loss: 0.2044\n",
            "Epoch 9/80\n",
            "3/3 [==============================] - 0s 28ms/step - loss: 0.2686 - val_loss: 0.1840\n",
            "Epoch 10/80\n",
            "3/3 [==============================] - 0s 27ms/step - loss: 0.2407 - val_loss: 0.1667\n",
            "Epoch 11/80\n",
            "3/3 [==============================] - 0s 26ms/step - loss: 0.2150 - val_loss: 0.1532\n",
            "Epoch 12/80\n",
            "3/3 [==============================] - 0s 28ms/step - loss: 0.2086 - val_loss: 0.1434\n",
            "Epoch 13/80\n",
            "3/3 [==============================] - 0s 27ms/step - loss: 0.2231 - val_loss: 0.1359\n",
            "Epoch 14/80\n",
            "3/3 [==============================] - 0s 27ms/step - loss: 0.1804 - val_loss: 0.1287\n",
            "Epoch 15/80\n",
            "3/3 [==============================] - 0s 31ms/step - loss: 0.1675 - val_loss: 0.1196\n",
            "Epoch 16/80\n",
            "3/3 [==============================] - 0s 27ms/step - loss: 0.1537 - val_loss: 0.1095\n",
            "Epoch 17/80\n",
            "3/3 [==============================] - 0s 23ms/step - loss: 0.1658 - val_loss: 0.0984\n",
            "Epoch 18/80\n",
            "3/3 [==============================] - 0s 26ms/step - loss: 0.1348 - val_loss: 0.0886\n",
            "Epoch 19/80\n",
            "3/3 [==============================] - 0s 25ms/step - loss: 0.1363 - val_loss: 0.0814\n",
            "Epoch 20/80\n",
            "3/3 [==============================] - 0s 27ms/step - loss: 0.1105 - val_loss: 0.0763\n",
            "Epoch 21/80\n",
            "3/3 [==============================] - 0s 26ms/step - loss: 0.1122 - val_loss: 0.0714\n",
            "Epoch 22/80\n",
            "3/3 [==============================] - 0s 30ms/step - loss: 0.1022 - val_loss: 0.0659\n",
            "Epoch 23/80\n",
            "3/3 [==============================] - 0s 26ms/step - loss: 0.0929 - val_loss: 0.0605\n",
            "Epoch 24/80\n",
            "3/3 [==============================] - 0s 26ms/step - loss: 0.0859 - val_loss: 0.0561\n",
            "Epoch 25/80\n",
            "3/3 [==============================] - 0s 24ms/step - loss: 0.0744 - val_loss: 0.0524\n",
            "Epoch 26/80\n",
            "3/3 [==============================] - 0s 25ms/step - loss: 0.0804 - val_loss: 0.0487\n",
            "Epoch 27/80\n",
            "3/3 [==============================] - 0s 25ms/step - loss: 0.0767 - val_loss: 0.0448\n",
            "Epoch 28/80\n",
            "3/3 [==============================] - 0s 27ms/step - loss: 0.0651 - val_loss: 0.0412\n",
            "Epoch 29/80\n",
            "3/3 [==============================] - 0s 26ms/step - loss: 0.0634 - val_loss: 0.0384\n",
            "Epoch 30/80\n",
            "3/3 [==============================] - 0s 24ms/step - loss: 0.0516 - val_loss: 0.0358\n",
            "Epoch 31/80\n",
            "3/3 [==============================] - 0s 26ms/step - loss: 0.0517 - val_loss: 0.0332\n",
            "Epoch 32/80\n",
            "3/3 [==============================] - 0s 31ms/step - loss: 0.0505 - val_loss: 0.0308\n",
            "Epoch 33/80\n",
            "3/3 [==============================] - 0s 25ms/step - loss: 0.0501 - val_loss: 0.0286\n",
            "Epoch 34/80\n",
            "3/3 [==============================] - 0s 29ms/step - loss: 0.0424 - val_loss: 0.0264\n",
            "Epoch 35/80\n",
            "3/3 [==============================] - 0s 26ms/step - loss: 0.0422 - val_loss: 0.0243\n",
            "Epoch 36/80\n",
            "3/3 [==============================] - 0s 23ms/step - loss: 0.0351 - val_loss: 0.0224\n",
            "Epoch 37/80\n",
            "3/3 [==============================] - 0s 26ms/step - loss: 0.0324 - val_loss: 0.0207\n",
            "Epoch 38/80\n",
            "3/3 [==============================] - 0s 25ms/step - loss: 0.0303 - val_loss: 0.0190\n",
            "Epoch 39/80\n",
            "3/3 [==============================] - 0s 27ms/step - loss: 0.0288 - val_loss: 0.0175\n",
            "Epoch 40/80\n",
            "3/3 [==============================] - 0s 24ms/step - loss: 0.0255 - val_loss: 0.0160\n",
            "Epoch 41/80\n",
            "3/3 [==============================] - 0s 24ms/step - loss: 0.0248 - val_loss: 0.0146\n",
            "Epoch 42/80\n",
            "3/3 [==============================] - 0s 25ms/step - loss: 0.0215 - val_loss: 0.0132\n",
            "Epoch 43/80\n",
            "3/3 [==============================] - 0s 27ms/step - loss: 0.0195 - val_loss: 0.0120\n",
            "Epoch 44/80\n",
            "3/3 [==============================] - 0s 26ms/step - loss: 0.0176 - val_loss: 0.0108\n",
            "Epoch 45/80\n",
            "3/3 [==============================] - 0s 26ms/step - loss: 0.0148 - val_loss: 0.0096\n",
            "Epoch 46/80\n",
            "3/3 [==============================] - 0s 25ms/step - loss: 0.0144 - val_loss: 0.0087\n",
            "Epoch 47/80\n",
            "3/3 [==============================] - 0s 26ms/step - loss: 0.0133 - val_loss: 0.0079\n",
            "Epoch 48/80\n",
            "3/3 [==============================] - 0s 26ms/step - loss: 0.0107 - val_loss: 0.0072\n",
            "Epoch 49/80\n",
            "3/3 [==============================] - 0s 25ms/step - loss: 0.0102 - val_loss: 0.0065\n",
            "Epoch 50/80\n",
            "3/3 [==============================] - 0s 25ms/step - loss: 0.0096 - val_loss: 0.0059\n",
            "Epoch 51/80\n",
            "3/3 [==============================] - 0s 24ms/step - loss: 0.0074 - val_loss: 0.0052\n",
            "Epoch 52/80\n",
            "3/3 [==============================] - 0s 26ms/step - loss: 0.0077 - val_loss: 0.0047\n",
            "Epoch 53/80\n",
            "3/3 [==============================] - 0s 26ms/step - loss: 0.0059 - val_loss: 0.0042\n",
            "Epoch 54/80\n",
            "3/3 [==============================] - 0s 27ms/step - loss: 0.0061 - val_loss: 0.0038\n",
            "Epoch 55/80\n",
            "3/3 [==============================] - 0s 27ms/step - loss: 0.0057 - val_loss: 0.0034\n",
            "Epoch 56/80\n",
            "3/3 [==============================] - 0s 25ms/step - loss: 0.0044 - val_loss: 0.0031\n",
            "Epoch 57/80\n",
            "3/3 [==============================] - 0s 26ms/step - loss: 0.0048 - val_loss: 0.0029\n",
            "Epoch 58/80\n",
            "3/3 [==============================] - 0s 31ms/step - loss: 0.0039 - val_loss: 0.0026\n",
            "Epoch 59/80\n",
            "3/3 [==============================] - 0s 30ms/step - loss: 0.0034 - val_loss: 0.0024\n",
            "Epoch 60/80\n",
            "3/3 [==============================] - 0s 25ms/step - loss: 0.0029 - val_loss: 0.0022\n",
            "Epoch 61/80\n",
            "3/3 [==============================] - 0s 28ms/step - loss: 0.0027 - val_loss: 0.0020\n",
            "Epoch 62/80\n",
            "3/3 [==============================] - 0s 29ms/step - loss: 0.0026 - val_loss: 0.0018\n",
            "Epoch 63/80\n",
            "3/3 [==============================] - 0s 27ms/step - loss: 0.0020 - val_loss: 0.0017\n",
            "Epoch 64/80\n",
            "3/3 [==============================] - 0s 28ms/step - loss: 0.0022 - val_loss: 0.0015\n",
            "Epoch 65/80\n",
            "3/3 [==============================] - 0s 27ms/step - loss: 0.0020 - val_loss: 0.0014\n",
            "Epoch 66/80\n",
            "3/3 [==============================] - 0s 29ms/step - loss: 0.0018 - val_loss: 0.0013\n",
            "Epoch 67/80\n",
            "3/3 [==============================] - 0s 28ms/step - loss: 0.0016 - val_loss: 0.0012\n",
            "Epoch 68/80\n",
            "3/3 [==============================] - 0s 28ms/step - loss: 0.0015 - val_loss: 0.0011\n",
            "Epoch 69/80\n",
            "3/3 [==============================] - 0s 28ms/step - loss: 0.0013 - val_loss: 9.8558e-04\n",
            "Epoch 70/80\n",
            "3/3 [==============================] - 0s 26ms/step - loss: 0.0012 - val_loss: 9.0570e-04\n",
            "Epoch 71/80\n",
            "3/3 [==============================] - 0s 28ms/step - loss: 0.0013 - val_loss: 8.3547e-04\n",
            "Epoch 72/80\n",
            "3/3 [==============================] - 0s 24ms/step - loss: 0.0011 - val_loss: 7.8832e-04\n",
            "Epoch 73/80\n",
            "3/3 [==============================] - 0s 26ms/step - loss: 8.5077e-04 - val_loss: 7.1439e-04\n",
            "Epoch 74/80\n",
            "3/3 [==============================] - 0s 32ms/step - loss: 8.8876e-04 - val_loss: 6.4935e-04\n",
            "Epoch 75/80\n",
            "3/3 [==============================] - 0s 27ms/step - loss: 8.1455e-04 - val_loss: 5.9864e-04\n",
            "Epoch 76/80\n",
            "3/3 [==============================] - 0s 29ms/step - loss: 6.8385e-04 - val_loss: 5.5250e-04\n",
            "Epoch 77/80\n",
            "3/3 [==============================] - 0s 25ms/step - loss: 6.5814e-04 - val_loss: 5.2375e-04\n",
            "Epoch 78/80\n",
            "3/3 [==============================] - 0s 27ms/step - loss: 6.0943e-04 - val_loss: 4.7767e-04\n",
            "Epoch 79/80\n",
            "3/3 [==============================] - 0s 27ms/step - loss: 5.8112e-04 - val_loss: 4.3530e-04\n",
            "Epoch 80/80\n",
            "3/3 [==============================] - 0s 29ms/step - loss: 4.6199e-04 - val_loss: 4.0237e-04\n"
          ],
          "name": "stdout"
        }
      ]
    },
    {
      "cell_type": "markdown",
      "metadata": {
        "id": "P9DXVnjwWw1i"
      },
      "source": [
        "### Plotting loss per iteration"
      ]
    },
    {
      "cell_type": "code",
      "metadata": {
        "colab": {
          "base_uri": "https://localhost:8080/",
          "height": 282
        },
        "id": "Qdy2XpZhWia-",
        "outputId": "d0c02c5f-fd50-48b8-afdd-4710b5fef750"
      },
      "source": [
        "plt.plot(history.history['loss'], label='loss')\n",
        "plt.plot(history.history['val_loss'], label='val_loss')\n",
        "plt.legend()"
      ],
      "execution_count": 5,
      "outputs": [
        {
          "output_type": "execute_result",
          "data": {
            "text/plain": [
              "<matplotlib.legend.Legend at 0x7f15a85040d0>"
            ]
          },
          "metadata": {
            "tags": []
          },
          "execution_count": 5
        },
        {
          "output_type": "display_data",
          "data": {
            "image/png": "[encoded data removed]",
            "text/plain": [
              "<Figure size 432x288 with 1 Axes>"
            ]
          },
          "metadata": {
            "tags": [],
            "needs_background": "light"
          }
        }
      ]
    },
    {
      "cell_type": "markdown",
      "metadata": {
        "id": "HF0OX1PlcjbV"
      },
      "source": [
        "## ----- Section 03 Making Predictions -----"
      ]
    },
    {
      "cell_type": "markdown",
      "metadata": {
        "id": "0EQW-wqdPjz3"
      },
      "source": [
        "### \"Wrong\" forecast using true targets\n",
        "#### This block will not return an error, but that does not mean we are correctly predicting the outcome. This block demonstrates the wrong way to forecast."
      ]
    },
    {
      "cell_type": "code",
      "metadata": {
        "colab": {
          "base_uri": "https://localhost:8080/",
          "height": 282
        },
        "id": "SoIGNyzSXFZN",
        "outputId": "f27ba456-472c-4fac-abba-beb710f1acaf"
      },
      "source": [
        "validation_target = Y[-N//2:]\n",
        "validation_predictions = []\n",
        "\n",
        "# index of first validation input\n",
        "i = -N//2\n",
        "\n",
        "while len(validation_predictions) < len(validation_target):\n",
        "  p = model.predict(X[i].reshape(1, -1, 1))[0,0] # 1x1 array -> scalar\n",
        "  i += 1\n",
        "  \n",
        "  # update the predictions list\n",
        "  validation_predictions.append(p)\n",
        "\n",
        "# Plotting the forecast\n",
        "plt.plot(validation_target, label='forecast target')\n",
        "plt.plot(validation_predictions, label='forecast prediction')\n",
        "plt.legend()"
      ],
      "execution_count": 6,
      "outputs": [
        {
          "output_type": "execute_result",
          "data": {
            "text/plain": [
              "<matplotlib.legend.Legend at 0x7f15a82fbc90>"
            ]
          },
          "metadata": {
            "tags": []
          },
          "execution_count": 6
        },
        {
          "output_type": "display_data",
          "data": {
            "image/png": "[encoded data removed]",
            "text/plain": [
              "<Figure size 432x288 with 1 Axes>"
            ]
          },
          "metadata": {
            "tags": [],
            "needs_background": "light"
          }
        }
      ]
    },
    {
      "cell_type": "markdown",
      "metadata": {
        "id": "kZn_xPaIXiOt"
      },
      "source": [
        "### Right way to forecast"
      ]
    },
    {
      "cell_type": "code",
      "metadata": {
        "colab": {
          "base_uri": "https://localhost:8080/",
          "height": 282
        },
        "id": "FAATk2jSXO4b",
        "outputId": "2a381240-1f16-4ae7-9e4a-768a379afacd"
      },
      "source": [
        "# Forecast future values (use only self-predictions for making future predictions)\n",
        "\n",
        "validation_target = Y[-N//2:]\n",
        "validation_predictions = []\n",
        "\n",
        "# first validation input\n",
        "last_x = X[-N//2] # 1-D array of length T\n",
        "\n",
        "while len(validation_predictions) < len(validation_target):\n",
        "  p = model.predict(last_x.reshape(1, -1, 1))[0,0] # 1x1 array -> scalar\n",
        "  \n",
        "  # update the predictions list\n",
        "  validation_predictions.append(p)\n",
        "  \n",
        "  # make the new input\n",
        "  last_x = np.roll(last_x, -1)\n",
        "  last_x[-1] = p\n",
        "\n",
        "# Plotting the forecast\n",
        "plt.plot(validation_target, label='forecast target')\n",
        "plt.plot(validation_predictions, label='forecast prediction')\n",
        "plt.legend()"
      ],
      "execution_count": 7,
      "outputs": [
        {
          "output_type": "execute_result",
          "data": {
            "text/plain": [
              "<matplotlib.legend.Legend at 0x7f15a8195610>"
            ]
          },
          "metadata": {
            "tags": []
          },
          "execution_count": 7
        },
        {
          "output_type": "display_data",
          "data": {
            "image/png": "[encoded data removed]",
            "text/plain": [
              "<Figure size 432x288 with 1 Axes>"
            ]
          },
          "metadata": {
            "tags": [],
            "needs_background": "light"
          }
        }
      ]
    },
    {
      "cell_type": "markdown",
      "metadata": {
        "id": "Cr_27cotcrGV"
      },
      "source": [
        "## ----- Section 04 Evaluating a model -----"
      ]
    },
    {
      "cell_type": "code",
      "metadata": {
        "colab": {
          "base_uri": "https://localhost:8080/"
        },
        "id": "-oqrNdS9nevv",
        "outputId": "8daf092d-f19b-4020-eab4-28edfe46d2cd"
      },
      "source": [
        "print(model.summary())\n",
        "print(history.history)\n",
        "# Replace old series (in section 1) with the given noisy one for test. Then run the all cells again\n",
        "# series = np.sin(0.1*np.arange(1000)) + np.random.randn(200)*0.1"
      ],
      "execution_count": 8,
      "outputs": [
        {
          "output_type": "stream",
          "text": [
            "Model: \"model\"\n",
            "_________________________________________________________________\n",
            "Layer (type)                 Output Shape              Param #   \n",
            "=================================================================\n",
            "input_1 (InputLayer)         [(None, 10, 1)]           0         \n",
            "_________________________________________________________________\n",
            "simple_rnn (SimpleRNN)       (None, 15)                255       \n",
            "_________________________________________________________________\n",
            "dense (Dense)                (None, 1)                 16        \n",
            "=================================================================\n",
            "Total params: 271\n",
            "Trainable params: 271\n",
            "Non-trainable params: 0\n",
            "_________________________________________________________________\n",
            "None\n",
            "{'loss': [0.4652082622051239, 0.4330722689628601, 0.4032031297683716, 0.37202733755111694, 0.3472350239753723, 0.32275518774986267, 0.29929018020629883, 0.27749520540237427, 0.25724923610687256, 0.23865514993667603, 0.2212207168340683, 0.2069307416677475, 0.1948205977678299, 0.18247467279434204, 0.17114616930484772, 0.1593257039785385, 0.14834973216056824, 0.13646957278251648, 0.12616057693958282, 0.11701659113168716, 0.11026377230882645, 0.10300610959529877, 0.09567417204380035, 0.08869781345129013, 0.08228184282779694, 0.07694485038518906, 0.07159876078367233, 0.06609127670526505, 0.06148943677544594, 0.05709100514650345, 0.053098708391189575, 0.049270134419202805, 0.045778900384902954, 0.04216824471950531, 0.038990311324596405, 0.035792816430330276, 0.03302370384335518, 0.030349405482411385, 0.027906589210033417, 0.02551013045012951, 0.023377209901809692, 0.02121727541089058, 0.019233789294958115, 0.017286283895373344, 0.015437860041856766, 0.013843277469277382, 0.012405809946358204, 0.010982321575284004, 0.009911870583891869, 0.008924904279410839, 0.007941828109323978, 0.007184972986578941, 0.006356620695441961, 0.005769643466919661, 0.005171637982130051, 0.004598116967827082, 0.004183266777545214, 0.0037323704455047846, 0.0033869424369186163, 0.003054926870390773, 0.0027857611421495676, 0.002542745554819703, 0.0023006496485322714, 0.0021073813550174236, 0.00191466452088207, 0.0017450136365368962, 0.0015839275438338518, 0.001455620746128261, 0.001319675357080996, 0.0012085111811757088, 0.0011160606518387794, 0.0010043762158602476, 0.0009279603254981339, 0.0008511945488862693, 0.000786054297350347, 0.000721620861440897, 0.0006677362252958119, 0.0006169194239191711, 0.0005742123466916382, 0.0005301663186401129], 'val_loss': [0.3926151394844055, 0.3606765866279602, 0.3306092321872711, 0.30231449007987976, 0.2756144106388092, 0.250413715839386, 0.2267102152109146, 0.2043789178133011, 0.18403711915016174, 0.16674646735191345, 0.15317745506763458, 0.14342568814754486, 0.13589999079704285, 0.12872441112995148, 0.11963898688554764, 0.10945869982242584, 0.09841642528772354, 0.08856192231178284, 0.08136570453643799, 0.07628168910741806, 0.07138042896986008, 0.06585194170475006, 0.060510870069265366, 0.05610176548361778, 0.05242970213294029, 0.04867091029882431, 0.04475529491901398, 0.04124508053064346, 0.038360655307769775, 0.03576846048235893, 0.03319747373461723, 0.03078756295144558, 0.02863290160894394, 0.02639598771929741, 0.024296341463923454, 0.022427234798669815, 0.02066068723797798, 0.01902211643755436, 0.017480816692113876, 0.015981825068593025, 0.014560963027179241, 0.013236627914011478, 0.011985586024820805, 0.01078617200255394, 0.009618150070309639, 0.008664632216095924, 0.007865214720368385, 0.007152109406888485, 0.006499099545180798, 0.0058783721178770065, 0.00523132411763072, 0.004664926789700985, 0.004222298972308636, 0.003823381382972002, 0.003435166785493493, 0.003125831950455904, 0.002858327003195882, 0.002627266338095069, 0.0023965321015566587, 0.0021880394779145718, 0.002009461633861065, 0.0018332547042518854, 0.0016732767689973116, 0.0015266117407009006, 0.0014060812536627054, 0.0013093861052766442, 0.0012001999421045184, 0.001085030846297741, 0.0009855825919657946, 0.000905700318980962, 0.0008354674791917205, 0.0007883239886723459, 0.0007143946131691337, 0.0006493529072031379, 0.0005986408796161413, 0.0005525003653019667, 0.0005237521836534142, 0.00047766967327333987, 0.00043530159746296704, 0.0004023740184493363]}\n"
          ],
          "name": "stdout"
        }
      ]
    }
  ]
}