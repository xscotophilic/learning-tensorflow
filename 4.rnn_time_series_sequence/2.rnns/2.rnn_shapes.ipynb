{
  "nbformat": 4,
  "nbformat_minor": 0,
  "metadata": {
    "colab": {
      "name": "RNNShapes.ipynb",
      "provenance": [],
      "collapsed_sections": [],
      "toc_visible": true
    },
    "kernelspec": {
      "name": "python3",
      "display_name": "Python 3"
    },
    "language_info": {
      "name": "python"
    }
  },
  "cells": [
    {
      "cell_type": "markdown",
      "metadata": {
        "id": "pssudmcdlDtj"
      },
      "source": [
        "# RNN Shapes\n",
        "> Understanding Input and Output shapes\n",
        "\n"
      ]
    },
    {
      "cell_type": "markdown",
      "metadata": {
        "id": "MkB_0IbbmgA5"
      },
      "source": [
        "Importing the libraries"
      ]
    },
    {
      "cell_type": "code",
      "metadata": {
        "id": "Jl8zf2weDiLM"
      },
      "source": [
        "import numpy as np\n",
        "import matplotlib.pyplot as plt\n",
        "import pandas as pd\n",
        "\n",
        "from tensorflow.keras.layers import Input, SimpleRNN, Dense, Flatten\n",
        "from tensorflow.keras.models import Model\n",
        "from tensorflow.keras.optimizers import SGD, Adam"
      ],
      "execution_count": 1,
      "outputs": []
    },
    {
      "cell_type": "markdown",
      "metadata": {
        "id": "IUYTPe2rmpR6"
      },
      "source": [
        "Usually\n",
        "\n",
        "```\n",
        "N is number of samples,\n",
        "T is sequence length,\n",
        "D is number of input features,\n",
        "M is number of hidden units,\n",
        "K is number of output units.\n",
        "```"
      ]
    },
    {
      "cell_type": "markdown",
      "metadata": {
        "id": "_ndA78cbn-4x"
      },
      "source": [
        "## ----- Section 01 Importing/ Generating Data -----"
      ]
    },
    {
      "cell_type": "code",
      "metadata": {
        "id": "XUM469Z7Dndx"
      },
      "source": [
        "N = 1\n",
        "T = 10\n",
        "D = 3\n",
        "\n",
        "M = 5 # M is number of hidden units.\n",
        "K = 2 # K is number of output units.\n",
        "X = np.random.randn(N, T, D) # X is input data for which we will make predicton using RNN."
      ],
      "execution_count": 2,
      "outputs": []
    },
    {
      "cell_type": "markdown",
      "metadata": {
        "id": "AXvQDaauoier"
      },
      "source": [
        "## ----- Section 02 Building The Model -----"
      ]
    },
    {
      "cell_type": "markdown",
      "metadata": {
        "id": "eVOm-3wwojL1"
      },
      "source": [
        "### Building RNN model"
      ]
    },
    {
      "cell_type": "code",
      "metadata": {
        "id": "F8ZZ1E2TDxOt"
      },
      "source": [
        "# As we are not passing batch size Shape of Input layer  will be (None, 10, 3)\n",
        "input = Input(shape=(T, D)) \n",
        "\n",
        "# The shape of this output is (batch_size, units)\n",
        "# where units corresponds to the units argument passed to the layer's constructor.\n",
        "x = SimpleRNN(M)(input) # M is number of hidden units. Shape of SimpleRNN layer will be (None, 5)\n",
        "\n",
        "# K is number of output units. Shape of Output layer will be (None, 2)\n",
        "x = Dense(K)(x)\n",
        "\n",
        "model = Model(input, x)"
      ],
      "execution_count": 3,
      "outputs": []
    },
    {
      "cell_type": "markdown",
      "metadata": {
        "id": "3X74wIz2pzZ1"
      },
      "source": [
        "## ----- Section 03 Making Predictions -----"
      ]
    },
    {
      "cell_type": "code",
      "metadata": {
        "id": "hLjIp7eZEApH",
        "colab": {
          "base_uri": "https://localhost:8080/"
        },
        "outputId": "dccca162-655d-4f7a-95fc-ef0d98047659"
      },
      "source": [
        "# Predicting single output of X\n",
        "Yhat = model.predict(X)\n",
        "print(Yhat)"
      ],
      "execution_count": 4,
      "outputs": [
        {
          "output_type": "stream",
          "text": [
            "[[-0.36932418 -0.08493592]]\n"
          ],
          "name": "stdout"
        }
      ]
    },
    {
      "cell_type": "markdown",
      "metadata": {
        "id": "140Mu-eip5pB"
      },
      "source": [
        "## ----- Section 04 Checking the shape of layers -----"
      ]
    },
    {
      "cell_type": "code",
      "metadata": {
        "id": "V-3JmKEgEGc9",
        "colab": {
          "base_uri": "https://localhost:8080/"
        },
        "outputId": "907efc97-dcf6-4248-e519-ef8ff1904c53"
      },
      "source": [
        "# See if we can replicate this output\n",
        "# Get the weights first\n",
        "model.summary()"
      ],
      "execution_count": 5,
      "outputs": [
        {
          "output_type": "stream",
          "text": [
            "Model: \"model\"\n",
            "_________________________________________________________________\n",
            "Layer (type)                 Output Shape              Param #   \n",
            "=================================================================\n",
            "input_1 (InputLayer)         [(None, 10, 3)]           0         \n",
            "_________________________________________________________________\n",
            "simple_rnn (SimpleRNN)       (None, 5)                 45        \n",
            "_________________________________________________________________\n",
            "dense (Dense)                (None, 2)                 12        \n",
            "=================================================================\n",
            "Total params: 57\n",
            "Trainable params: 57\n",
            "Non-trainable params: 0\n",
            "_________________________________________________________________\n"
          ],
          "name": "stdout"
        }
      ]
    }
  ]
}