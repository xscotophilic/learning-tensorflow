{
  "nbformat": 4,
  "nbformat_minor": 0,
  "metadata": {
    "colab": {
      "name": "RNN_for_Image_Classification.ipynb",
      "provenance": [],
      "collapsed_sections": [],
      "toc_visible": true
    },
    "kernelspec": {
      "name": "python3",
      "display_name": "Python 3"
    },
    "language_info": {
      "name": "python"
    },
    "accelerator": "GPU"
  },
  "cells": [
    {
      "cell_type": "markdown",
      "metadata": {
        "id": "FzJdmAxhHeXl"
      },
      "source": [
        "# RNN for Image Classification\n",
        "(On MNIST Dataset)"
      ]
    },
    {
      "cell_type": "markdown",
      "metadata": {
        "id": "Qypdo_7qmZL1"
      },
      "source": [
        "Importing the libraries"
      ]
    },
    {
      "cell_type": "code",
      "metadata": {
        "id": "BgyIypbwLAeH"
      },
      "source": [
        "import numpy as np\n",
        "import matplotlib.pyplot as plt\n",
        "import pandas as pd\n",
        "import tensorflow as tf\n",
        "\n",
        "from tensorflow.keras.layers import Input, SimpleRNN, GRU, LSTM, Dense, Flatten\n",
        "from tensorflow.keras.models import Model\n",
        "from tensorflow.keras.optimizers import SGD, Adam"
      ],
      "execution_count": 1,
      "outputs": []
    },
    {
      "cell_type": "markdown",
      "metadata": {
        "id": "mchKzNLocCG7"
      },
      "source": [
        "## ::::: Section 01 Importing Data :::::"
      ]
    },
    {
      "cell_type": "markdown",
      "metadata": {
        "id": "KK0HxkKQKWtN"
      },
      "source": [
        "### -|- Importing the data -|-"
      ]
    },
    {
      "cell_type": "code",
      "metadata": {
        "colab": {
          "base_uri": "https://localhost:8080/"
        },
        "id": "LRQQ2-2HH3Aa",
        "outputId": "1250ee93-351d-4696-e806-cc2de9c561ed"
      },
      "source": [
        "mnist = tf.keras.datasets.mnist\n",
        "\n",
        "(x_train, y_train), (x_test, y_test) = mnist.load_data()\n",
        "x_train, x_test = x_train / 255.0, x_test / 255.0\n",
        "\n",
        "print(\"x_train.shape:\", x_train.shape) # Printing the shape of x"
      ],
      "execution_count": 2,
      "outputs": [
        {
          "output_type": "stream",
          "text": [
            "Downloading data from https://storage.googleapis.com/tensorflow/tf-keras-datasets/mnist.npz\n",
            "11493376/11490434 [==============================] - 0s 0us/step\n",
            "x_train.shape: (60000, 28, 28)\n"
          ],
          "name": "stdout"
        }
      ]
    },
    {
      "cell_type": "markdown",
      "metadata": {
        "id": "0Hpzf-rgILH3"
      },
      "source": [
        "## ::::: Section 2 Building and Training the LSTM model for image classification :::::"
      ]
    },
    {
      "cell_type": "markdown",
      "metadata": {
        "id": "7TN4sc-WInEy"
      },
      "source": [
        "### -|- Building the model -|-"
      ]
    },
    {
      "cell_type": "code",
      "metadata": {
        "id": "OzVT6On0IJLV"
      },
      "source": [
        "input = Input(shape=x_train[0].shape) # input shape of individual image\n",
        "x = LSTM(128)(input)\n",
        "x = Dense(10, activation='softmax')(x) # for 10 output units\n",
        "\n",
        "model = Model(input, x)"
      ],
      "execution_count": 3,
      "outputs": []
    },
    {
      "cell_type": "markdown",
      "metadata": {
        "id": "LaqP7wzHIyly"
      },
      "source": [
        "### -|- Compiling and training the model -|-"
      ]
    },
    {
      "cell_type": "code",
      "metadata": {
        "colab": {
          "base_uri": "https://localhost:8080/"
        },
        "id": "Dv7PgzCjIzYm",
        "outputId": "1cb54eb7-585a-45a7-da5b-b6774514bbad"
      },
      "source": [
        "model.compile(optimizer='adam',\n",
        "              loss='sparse_categorical_crossentropy',\n",
        "              metrics=['accuracy'])\n",
        "\n",
        "history = model.fit(x_train, y_train, validation_data=(x_test, y_test), epochs=10)"
      ],
      "execution_count": 4,
      "outputs": [
        {
          "output_type": "stream",
          "text": [
            "Epoch 1/10\n",
            "1875/1875 [==============================] - 41s 5ms/step - loss: 0.6371 - accuracy: 0.7858 - val_loss: 0.1436 - val_accuracy: 0.9546\n",
            "Epoch 2/10\n",
            "1875/1875 [==============================] - 9s 5ms/step - loss: 0.1142 - accuracy: 0.9651 - val_loss: 0.0914 - val_accuracy: 0.9726\n",
            "Epoch 3/10\n",
            "1875/1875 [==============================] - 9s 5ms/step - loss: 0.0770 - accuracy: 0.9758 - val_loss: 0.0747 - val_accuracy: 0.9770\n",
            "Epoch 4/10\n",
            "1875/1875 [==============================] - 9s 5ms/step - loss: 0.0576 - accuracy: 0.9820 - val_loss: 0.0545 - val_accuracy: 0.9833\n",
            "Epoch 5/10\n",
            "1875/1875 [==============================] - 9s 5ms/step - loss: 0.0450 - accuracy: 0.9856 - val_loss: 0.0530 - val_accuracy: 0.9842\n",
            "Epoch 6/10\n",
            "1875/1875 [==============================] - 8s 5ms/step - loss: 0.0369 - accuracy: 0.9887 - val_loss: 0.0487 - val_accuracy: 0.9863\n",
            "Epoch 7/10\n",
            "1875/1875 [==============================] - 9s 5ms/step - loss: 0.0331 - accuracy: 0.9897 - val_loss: 0.0415 - val_accuracy: 0.9869\n",
            "Epoch 8/10\n",
            "1875/1875 [==============================] - 9s 5ms/step - loss: 0.0289 - accuracy: 0.9908 - val_loss: 0.0426 - val_accuracy: 0.9867\n",
            "Epoch 9/10\n",
            "1875/1875 [==============================] - 8s 5ms/step - loss: 0.0207 - accuracy: 0.9938 - val_loss: 0.0441 - val_accuracy: 0.9861\n",
            "Epoch 10/10\n",
            "1875/1875 [==============================] - 9s 5ms/step - loss: 0.0204 - accuracy: 0.9933 - val_loss: 0.0504 - val_accuracy: 0.9866\n"
          ],
          "name": "stdout"
        }
      ]
    },
    {
      "cell_type": "markdown",
      "metadata": {
        "id": "Ptx144O6Jctz"
      },
      "source": [
        "## ::::: Section 3 Plotting graphs :::::"
      ]
    },
    {
      "cell_type": "markdown",
      "metadata": {
        "id": "qgMZguyfJG-O"
      },
      "source": [
        "### -|- Plotting the loss per iteration -|-"
      ]
    },
    {
      "cell_type": "code",
      "metadata": {
        "id": "l_ycVbiVJEfi",
        "colab": {
          "base_uri": "https://localhost:8080/",
          "height": 282
        },
        "outputId": "9355f76b-5b74-466e-8586-7d0118f8850f"
      },
      "source": [
        "plt.plot(history.history['loss'], label='loss')\n",
        "plt.plot(history.history['val_loss'], label='val_loss')\n",
        "plt.legend()"
      ],
      "execution_count": 5,
      "outputs": [
        {
          "output_type": "execute_result",
          "data": {
            "text/plain": [
              "<matplotlib.legend.Legend at 0x7f11a676b790>"
            ]
          },
          "metadata": {
            "tags": []
          },
          "execution_count": 5
        },
        {
          "output_type": "display_data",
          "data": {
            "image/png": "[encoded data removed]",
            "text/plain": [
              "<Figure size 432x288 with 1 Axes>"
            ]
          },
          "metadata": {
            "tags": [],
            "needs_background": "light"
          }
        }
      ]
    },
    {
      "cell_type": "markdown",
      "metadata": {
        "id": "J-TlhkxiJPUA"
      },
      "source": [
        "### -|- Plotting the accuracy per iteration -|-"
      ]
    },
    {
      "cell_type": "code",
      "metadata": {
        "id": "eJVw9tBxJRKh",
        "colab": {
          "base_uri": "https://localhost:8080/",
          "height": 282
        },
        "outputId": "0b5bc1fb-cdbf-4239-cd45-5665bea88fa9"
      },
      "source": [
        "plt.plot(history.history['accuracy'], label='acc')\n",
        "plt.plot(history.history['val_accuracy'], label='val_acc')\n",
        "plt.legend()"
      ],
      "execution_count": 6,
      "outputs": [
        {
          "output_type": "execute_result",
          "data": {
            "text/plain": [
              "<matplotlib.legend.Legend at 0x7f11a0f9b550>"
            ]
          },
          "metadata": {
            "tags": []
          },
          "execution_count": 6
        },
        {
          "output_type": "display_data",
          "data": {
            "image/png": "[encoded data removed]",
            "text/plain": [
              "<Figure size 432x288 with 1 Axes>"
            ]
          },
          "metadata": {
            "tags": [],
            "needs_background": "light"
          }
        }
      ]
    },
    {
      "cell_type": "markdown",
      "metadata": {
        "id": "5Cf4msnaJj2S"
      },
      "source": [
        "## ::::: Section 4 Generating confusion matrix and Showing misclassified examples :::::"
      ]
    },
    {
      "cell_type": "markdown",
      "metadata": {
        "id": "ab3A1qTbJxZt"
      },
      "source": [
        " ### -|- Generating confusion matrix -|-"
      ]
    },
    {
      "cell_type": "code",
      "metadata": {
        "id": "dqJ-BkPBKMr_",
        "colab": {
          "base_uri": "https://localhost:8080/",
          "height": 498
        },
        "outputId": "96423bed-bf31-44c4-f8e3-3303568923c7"
      },
      "source": [
        "from sklearn.metrics import confusion_matrix\n",
        "import itertools\n",
        "\n",
        "def plot_confusion_matrix(cm, classes,\n",
        "                          normalize=False,\n",
        "                          title='Confusion matrix',\n",
        "                          cmap=plt.cm.Blues):\n",
        "  if normalize:\n",
        "      cm = cm.astype('float') / cm.sum(axis=1)[:, np.newaxis]\n",
        "      print(\"Normalized confusion matrix\")\n",
        "  else:\n",
        "      print('Confusion matrix, without normalization')\n",
        "\n",
        "  print(cm)\n",
        "\n",
        "  plt.imshow(cm, interpolation='nearest', cmap=cmap)\n",
        "  plt.title(title)\n",
        "  plt.colorbar()\n",
        "  tick_marks = np.arange(len(classes))\n",
        "  plt.xticks(tick_marks, classes, rotation=45)\n",
        "  plt.yticks(tick_marks, classes)\n",
        "\n",
        "  fmt = '.2f' if normalize else 'd'\n",
        "  thresh = cm.max() / 2.\n",
        "  for i, j in itertools.product(range(cm.shape[0]), range(cm.shape[1])):\n",
        "      plt.text(j, i, format(cm[i, j], fmt),\n",
        "               horizontalalignment=\"center\",\n",
        "               color=\"white\" if cm[i, j] > thresh else \"black\")\n",
        "\n",
        "  plt.tight_layout()\n",
        "  plt.ylabel('True label')\n",
        "  plt.xlabel('Predicted label')\n",
        "  plt.show()\n",
        "\n",
        "\n",
        "p_test = model.predict(x_test).argmax(axis=1)\n",
        "cm = confusion_matrix(y_test, p_test)\n",
        "plot_confusion_matrix(cm, list(range(10)))"
      ],
      "execution_count": 7,
      "outputs": [
        {
          "output_type": "stream",
          "text": [
            "Confusion matrix, without normalization\n",
            "[[ 970    0    1    0    0    0    2    1    6    0]\n",
            " [   0 1133    1    0    0    0    0    1    0    0]\n",
            " [   2    1 1023    0    1    0    1    3    1    0]\n",
            " [   0    0    5  993    0    5    0    1    5    1]\n",
            " [   0    0    1    0  968    0    4    2    1    6]\n",
            " [   2    1    0    5    0  872    2    0    5    5]\n",
            " [   4    5    1    0    1    2  944    0    1    0]\n",
            " [   1    4    5    2    0    0    0 1004    1   11]\n",
            " [   0    0    3    1    1    2    0    1  963    3]\n",
            " [   0    0    0    0    7    1    0    3    2  996]]\n"
          ],
          "name": "stdout"
        },
        {
          "output_type": "display_data",
          "data": {
            "image/png": "[encoded data removed]",
            "text/plain": [
              "<Figure size 432x288 with 2 Axes>"
            ]
          },
          "metadata": {
            "tags": [],
            "needs_background": "light"
          }
        }
      ]
    },
    {
      "cell_type": "markdown",
      "metadata": {
        "id": "PaI6flPSJ1Hc"
      },
      "source": [
        " ### -|- Showing misclassified examples -|-"
      ]
    },
    {
      "cell_type": "code",
      "metadata": {
        "id": "vRCo17jZJ-nG",
        "colab": {
          "base_uri": "https://localhost:8080/",
          "height": 281
        },
        "outputId": "07a09d21-05f6-4341-cce6-0d90f930bd0c"
      },
      "source": [
        "misclassified_idx = np.where(p_test != y_test)[0]\n",
        "i = np.random.choice(misclassified_idx)\n",
        "\n",
        "plt.imshow(x_test[i], cmap='gray')\n",
        "plt.title(\"True label: %s Predicted: %s\" % (y_test[i], p_test[i]));"
      ],
      "execution_count": 8,
      "outputs": [
        {
          "output_type": "display_data",
          "data": {
            "image/png": "[encoded data removed]",
            "text/plain": [
              "<Figure size 432x288 with 1 Axes>"
            ]
          },
          "metadata": {
            "tags": [],
            "needs_background": "light"
          }
        }
      ]
    }
  ]
}