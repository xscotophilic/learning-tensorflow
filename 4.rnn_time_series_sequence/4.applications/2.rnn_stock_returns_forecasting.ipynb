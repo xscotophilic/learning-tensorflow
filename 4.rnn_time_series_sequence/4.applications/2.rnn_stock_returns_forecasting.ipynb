{
  "nbformat": 4,
  "nbformat_minor": 0,
  "metadata": {
    "colab": {
      "name": "Stock_Returns.ipynb",
      "provenance": [],
      "collapsed_sections": [],
      "toc_visible": true
    },
    "kernelspec": {
      "name": "python3",
      "display_name": "Python 3"
    },
    "language_info": {
      "name": "python"
    }
  },
  "cells": [
    {
      "cell_type": "markdown",
      "metadata": {
        "id": "FzJdmAxhHeXl"
      },
      "source": [
        "# RNN for Stock Returns\n",
        "\n",
        "download starbucks stocks file from: https://github.com/xscotophilic/Learning-Tensorflow/files/6488775/starbucks.csv"
      ]
    },
    {
      "cell_type": "markdown",
      "metadata": {
        "id": "Qypdo_7qmZL1"
      },
      "source": [
        "Importing the libraries"
      ]
    },
    {
      "cell_type": "code",
      "metadata": {
        "id": "61Dqqlu78dMV"
      },
      "source": [
        "import numpy as np\n",
        "import matplotlib.pyplot as plt\n",
        "import pandas as pd\n",
        "import tensorflow as tf"
      ],
      "execution_count": null,
      "outputs": []
    },
    {
      "cell_type": "markdown",
      "metadata": {
        "id": "Tt-sUlK0rnCz"
      },
      "source": [
        "## ::::: Section 1 Importing and preprocessing data :::::\n",
        "\n",
        "The **high** and **low** prices in stock trading refer to the highest and lowest prices in a given time period.\n",
        "\n",
        "The **open** and **close** prices of a stock are the prices at which it began and ended trading in the same period.\n",
        "\n",
        "**Volume** is the total number of shares traded in a security over a period."
      ]
    },
    {
      "cell_type": "markdown",
      "metadata": {
        "id": "vK8b9bTprwei"
      },
      "source": [
        "### -x- Importing csv and inspecting it. -x-"
      ]
    },
    {
      "cell_type": "code",
      "metadata": {
        "id": "RjggEjNt_2SA",
        "colab": {
          "base_uri": "https://localhost:8080/"
        },
        "outputId": "8070dd70-27a8-4ad5-f31e-87dc82462e6d"
      },
      "source": [
        "dataframe = pd.read_csv('starbucks.csv')\n",
        "\n",
        "print(\"Inspecting the data of csv file.\")\n",
        "print()\n",
        "print(dataframe.head())\n",
        "print()\n",
        "print(dataframe.tail())"
      ],
      "execution_count": null,
      "outputs": [
        {
          "output_type": "stream",
          "text": [
            "Inspecting the data of csv file.\n",
            "\n",
            "         date    open    high     low   close   volume  Name\n",
            "0  2013-02-08  27.920  28.325  27.920  28.185  7146296  SBUX\n",
            "1  2013-02-11  28.260  28.260  27.930  28.070  5457354  SBUX\n",
            "2  2013-02-12  28.000  28.275  27.975  28.130  8665592  SBUX\n",
            "3  2013-02-13  28.230  28.230  27.750  27.915  7022056  SBUX\n",
            "4  2013-02-14  27.765  27.905  27.675  27.775  8899188  SBUX\n",
            "\n",
            "            date    open   high    low  close    volume  Name\n",
            "1254  2018-02-01  56.280  56.42  55.89  56.00  14690146  SBUX\n",
            "1255  2018-02-02  55.900  56.32  55.70  55.77  15358909  SBUX\n",
            "1256  2018-02-05  55.530  56.26  54.57  54.69  16059955  SBUX\n",
            "1257  2018-02-06  53.685  56.06  53.56  55.61  17415065  SBUX\n",
            "1258  2018-02-07  55.080  55.43  54.44  54.46  13927022  SBUX\n"
          ],
          "name": "stdout"
        }
      ]
    },
    {
      "cell_type": "markdown",
      "metadata": {
        "id": "pELzZcp2sNnx"
      },
      "source": [
        "## ::::: Section 2 What not to start with? :::::\n",
        "\n",
        "What we should not do is predict the price of the stock itself (which means predicting the close price); it is a terrible place to start learning."
      ]
    },
    {
      "cell_type": "code",
      "metadata": {
        "id": "UYAWamTAA_Xx"
      },
      "source": [
        "series = dataframe['close'].values.reshape(-1, 1)"
      ],
      "execution_count": null,
      "outputs": []
    },
    {
      "cell_type": "markdown",
      "metadata": {
        "id": "CJiQvHyXsU6H"
      },
      "source": [
        "### -x- Preprocessing data. -x-"
      ]
    },
    {
      "cell_type": "code",
      "metadata": {
        "id": "b4UIpCBe_wxS"
      },
      "source": [
        "from sklearn.preprocessing import StandardScaler\n",
        "\n",
        "# Normalizing the data\n",
        "# Note: I didn't think about where the true boundary is, this is just approx.\n",
        "sc = StandardScaler()\n",
        "sc.fit(series[:len(series) // 2])\n",
        "series = sc.transform(series).flatten()"
      ],
      "execution_count": null,
      "outputs": []
    },
    {
      "cell_type": "markdown",
      "metadata": {
        "id": "WWGGJKw9sfXd"
      },
      "source": [
        "### -x- Building the dataset -x-\n",
        "Creating a series of T previous values to predict the next value and dividing them into x and y."
      ]
    },
    {
      "cell_type": "code",
      "metadata": {
        "id": "n9X-zAtUrXFs",
        "colab": {
          "base_uri": "https://localhost:8080/"
        },
        "outputId": "9b9a585a-3a2b-43d9-ab7b-d46035b20ead"
      },
      "source": [
        "# let's see if we can use T past values to predict the next value\n",
        "T = 10\n",
        "D = 1\n",
        "X = []\n",
        "Y = []\n",
        "for t in range(len(series) - T):\n",
        "  x = series[t:t+T]\n",
        "  X.append(x)\n",
        "  y = series[t+T]\n",
        "  Y.append(y)\n",
        "\n",
        "X = np.array(X).reshape(-1, T, 1) # Now the data should be N x T x D\n",
        "Y = np.array(Y)\n",
        "N = len(X)\n",
        "print(\"X.shape\", X.shape, \"Y.shape\", Y.shape)"
      ],
      "execution_count": null,
      "outputs": [
        {
          "output_type": "stream",
          "text": [
            "X.shape (1249, 10, 1) Y.shape (1249,)\n"
          ],
          "name": "stdout"
        }
      ]
    },
    {
      "cell_type": "markdown",
      "metadata": {
        "id": "1r491J00vRVt"
      },
      "source": [
        "### -x- Trying autoregressive RNN model -x-"
      ]
    },
    {
      "cell_type": "markdown",
      "metadata": {
        "id": "Uj4EeO-2vxCE"
      },
      "source": [
        "#### -o- Training the model -o-"
      ]
    },
    {
      "cell_type": "code",
      "metadata": {
        "id": "Z807BvaKvPsk",
        "colab": {
          "base_uri": "https://localhost:8080/"
        },
        "outputId": "f2f1f264-d43a-44b7-d03e-a5f114523c75"
      },
      "source": [
        "input = tf.keras.layers.Input(shape=(T, 1))\n",
        "x = tf.keras.layers.LSTM(5)(input)\n",
        "x = tf.keras.layers.Dense(1)(x)\n",
        "\n",
        "model = tf.keras.models.Model(input, x)\n",
        "model.compile(\n",
        "  loss='mse',\n",
        "  optimizer=tf.keras.optimizers.Adam(lr=0.1),\n",
        ")\n",
        "\n",
        "# training the RNN\n",
        "history = model.fit(\n",
        "  X[:-N//2], Y[:-N//2],\n",
        "  epochs=80,\n",
        "  validation_data=(X[-N//2:], Y[-N//2:]),\n",
        ")"
      ],
      "execution_count": null,
      "outputs": [
        {
          "output_type": "stream",
          "text": [
            "Epoch 1/80\n",
            "20/20 [==============================] - 2s 41ms/step - loss: 0.3679 - val_loss: 0.2625\n",
            "Epoch 2/80\n",
            "20/20 [==============================] - 0s 8ms/step - loss: 0.0188 - val_loss: 0.0285\n",
            "Epoch 3/80\n",
            "20/20 [==============================] - 0s 8ms/step - loss: 0.0127 - val_loss: 0.0239\n",
            "Epoch 4/80\n",
            "20/20 [==============================] - 0s 7ms/step - loss: 0.0080 - val_loss: 0.0219\n",
            "Epoch 5/80\n",
            "20/20 [==============================] - 0s 7ms/step - loss: 0.0062 - val_loss: 0.0485\n",
            "Epoch 6/80\n",
            "20/20 [==============================] - 0s 7ms/step - loss: 0.0081 - val_loss: 0.0305\n",
            "Epoch 7/80\n",
            "20/20 [==============================] - 0s 7ms/step - loss: 0.0063 - val_loss: 0.0360\n",
            "Epoch 8/80\n",
            "20/20 [==============================] - 0s 7ms/step - loss: 0.0065 - val_loss: 0.0333\n",
            "Epoch 9/80\n",
            "20/20 [==============================] - 0s 7ms/step - loss: 0.0062 - val_loss: 0.0293\n",
            "Epoch 10/80\n",
            "20/20 [==============================] - 0s 7ms/step - loss: 0.0072 - val_loss: 0.0369\n",
            "Epoch 11/80\n",
            "20/20 [==============================] - 0s 7ms/step - loss: 0.0075 - val_loss: 0.0507\n",
            "Epoch 12/80\n",
            "20/20 [==============================] - 0s 8ms/step - loss: 0.0100 - val_loss: 0.0640\n",
            "Epoch 13/80\n",
            "20/20 [==============================] - 0s 7ms/step - loss: 0.0089 - val_loss: 0.0456\n",
            "Epoch 14/80\n",
            "20/20 [==============================] - 0s 7ms/step - loss: 0.0067 - val_loss: 0.0517\n",
            "Epoch 15/80\n",
            "20/20 [==============================] - 0s 7ms/step - loss: 0.0089 - val_loss: 0.0772\n",
            "Epoch 16/80\n",
            "20/20 [==============================] - 0s 6ms/step - loss: 0.0068 - val_loss: 0.0409\n",
            "Epoch 17/80\n",
            "20/20 [==============================] - 0s 7ms/step - loss: 0.0073 - val_loss: 0.0512\n",
            "Epoch 18/80\n",
            "20/20 [==============================] - 0s 8ms/step - loss: 0.0054 - val_loss: 0.0348\n",
            "Epoch 19/80\n",
            "20/20 [==============================] - 0s 7ms/step - loss: 0.0070 - val_loss: 0.0397\n",
            "Epoch 20/80\n",
            "20/20 [==============================] - 0s 7ms/step - loss: 0.0080 - val_loss: 0.0466\n",
            "Epoch 21/80\n",
            "20/20 [==============================] - 0s 7ms/step - loss: 0.0114 - val_loss: 0.0484\n",
            "Epoch 22/80\n",
            "20/20 [==============================] - 0s 7ms/step - loss: 0.0056 - val_loss: 0.0391\n",
            "Epoch 23/80\n",
            "20/20 [==============================] - 0s 7ms/step - loss: 0.0074 - val_loss: 0.0452\n",
            "Epoch 24/80\n",
            "20/20 [==============================] - 0s 7ms/step - loss: 0.0070 - val_loss: 0.0401\n",
            "Epoch 25/80\n",
            "20/20 [==============================] - 0s 7ms/step - loss: 0.0072 - val_loss: 0.0418\n",
            "Epoch 26/80\n",
            "20/20 [==============================] - 0s 7ms/step - loss: 0.0060 - val_loss: 0.0235\n",
            "Epoch 27/80\n",
            "20/20 [==============================] - 0s 7ms/step - loss: 0.0069 - val_loss: 0.0354\n",
            "Epoch 28/80\n",
            "20/20 [==============================] - 0s 8ms/step - loss: 0.0054 - val_loss: 0.0354\n",
            "Epoch 29/80\n",
            "20/20 [==============================] - 0s 7ms/step - loss: 0.0051 - val_loss: 0.0309\n",
            "Epoch 30/80\n",
            "20/20 [==============================] - 0s 7ms/step - loss: 0.0060 - val_loss: 0.0420\n",
            "Epoch 31/80\n",
            "20/20 [==============================] - 0s 7ms/step - loss: 0.0064 - val_loss: 0.0356\n",
            "Epoch 32/80\n",
            "20/20 [==============================] - 0s 7ms/step - loss: 0.0074 - val_loss: 0.0465\n",
            "Epoch 33/80\n",
            "20/20 [==============================] - 0s 7ms/step - loss: 0.0075 - val_loss: 0.0357\n",
            "Epoch 34/80\n",
            "20/20 [==============================] - 0s 7ms/step - loss: 0.0077 - val_loss: 0.0272\n",
            "Epoch 35/80\n",
            "20/20 [==============================] - 0s 7ms/step - loss: 0.0054 - val_loss: 0.0338\n",
            "Epoch 36/80\n",
            "20/20 [==============================] - 0s 6ms/step - loss: 0.0055 - val_loss: 0.0687\n",
            "Epoch 37/80\n",
            "20/20 [==============================] - 0s 7ms/step - loss: 0.0106 - val_loss: 0.0452\n",
            "Epoch 38/80\n",
            "20/20 [==============================] - 0s 7ms/step - loss: 0.0093 - val_loss: 0.0254\n",
            "Epoch 39/80\n",
            "20/20 [==============================] - 0s 7ms/step - loss: 0.0076 - val_loss: 0.0425\n",
            "Epoch 40/80\n",
            "20/20 [==============================] - 0s 7ms/step - loss: 0.0075 - val_loss: 0.0283\n",
            "Epoch 41/80\n",
            "20/20 [==============================] - 0s 6ms/step - loss: 0.0063 - val_loss: 0.0425\n",
            "Epoch 42/80\n",
            "20/20 [==============================] - 0s 6ms/step - loss: 0.0075 - val_loss: 0.0296\n",
            "Epoch 43/80\n",
            "20/20 [==============================] - 0s 6ms/step - loss: 0.0053 - val_loss: 0.0563\n",
            "Epoch 44/80\n",
            "20/20 [==============================] - 0s 6ms/step - loss: 0.0059 - val_loss: 0.0382\n",
            "Epoch 45/80\n",
            "20/20 [==============================] - 0s 6ms/step - loss: 0.0051 - val_loss: 0.0229\n",
            "Epoch 46/80\n",
            "20/20 [==============================] - 0s 7ms/step - loss: 0.0062 - val_loss: 0.0364\n",
            "Epoch 47/80\n",
            "20/20 [==============================] - 0s 7ms/step - loss: 0.0064 - val_loss: 0.0307\n",
            "Epoch 48/80\n",
            "20/20 [==============================] - 0s 6ms/step - loss: 0.0065 - val_loss: 0.0276\n",
            "Epoch 49/80\n",
            "20/20 [==============================] - 0s 7ms/step - loss: 0.0056 - val_loss: 0.0302\n",
            "Epoch 50/80\n",
            "20/20 [==============================] - 0s 6ms/step - loss: 0.0056 - val_loss: 0.0233\n",
            "Epoch 51/80\n",
            "20/20 [==============================] - 0s 6ms/step - loss: 0.0058 - val_loss: 0.0174\n",
            "Epoch 52/80\n",
            "20/20 [==============================] - 0s 6ms/step - loss: 0.0070 - val_loss: 0.0278\n",
            "Epoch 53/80\n",
            "20/20 [==============================] - 0s 7ms/step - loss: 0.0061 - val_loss: 0.0220\n",
            "Epoch 54/80\n",
            "20/20 [==============================] - 0s 7ms/step - loss: 0.0059 - val_loss: 0.0264\n",
            "Epoch 55/80\n",
            "20/20 [==============================] - 0s 8ms/step - loss: 0.0052 - val_loss: 0.0415\n",
            "Epoch 56/80\n",
            "20/20 [==============================] - 0s 6ms/step - loss: 0.0052 - val_loss: 0.0192\n",
            "Epoch 57/80\n",
            "20/20 [==============================] - 0s 6ms/step - loss: 0.0057 - val_loss: 0.0268\n",
            "Epoch 58/80\n",
            "20/20 [==============================] - 0s 7ms/step - loss: 0.0069 - val_loss: 0.0361\n",
            "Epoch 59/80\n",
            "20/20 [==============================] - 0s 7ms/step - loss: 0.0062 - val_loss: 0.0209\n",
            "Epoch 60/80\n",
            "20/20 [==============================] - 0s 6ms/step - loss: 0.0070 - val_loss: 0.0188\n",
            "Epoch 61/80\n",
            "20/20 [==============================] - 0s 7ms/step - loss: 0.0074 - val_loss: 0.0219\n",
            "Epoch 62/80\n",
            "20/20 [==============================] - 0s 7ms/step - loss: 0.0093 - val_loss: 0.0371\n",
            "Epoch 63/80\n",
            "20/20 [==============================] - 0s 7ms/step - loss: 0.0066 - val_loss: 0.0235\n",
            "Epoch 64/80\n",
            "20/20 [==============================] - 0s 6ms/step - loss: 0.0059 - val_loss: 0.0359\n",
            "Epoch 65/80\n",
            "20/20 [==============================] - 0s 6ms/step - loss: 0.0057 - val_loss: 0.0228\n",
            "Epoch 66/80\n",
            "20/20 [==============================] - 0s 7ms/step - loss: 0.0081 - val_loss: 0.0251\n",
            "Epoch 67/80\n",
            "20/20 [==============================] - 0s 6ms/step - loss: 0.0069 - val_loss: 0.0275\n",
            "Epoch 68/80\n",
            "20/20 [==============================] - 0s 7ms/step - loss: 0.0055 - val_loss: 0.0191\n",
            "Epoch 69/80\n",
            "20/20 [==============================] - 0s 6ms/step - loss: 0.0057 - val_loss: 0.0285\n",
            "Epoch 70/80\n",
            "20/20 [==============================] - 0s 6ms/step - loss: 0.0062 - val_loss: 0.0305\n",
            "Epoch 71/80\n",
            "20/20 [==============================] - 0s 7ms/step - loss: 0.0075 - val_loss: 0.0311\n",
            "Epoch 72/80\n",
            "20/20 [==============================] - 0s 6ms/step - loss: 0.0088 - val_loss: 0.0280\n",
            "Epoch 73/80\n",
            "20/20 [==============================] - 0s 7ms/step - loss: 0.0067 - val_loss: 0.0142\n",
            "Epoch 74/80\n",
            "20/20 [==============================] - 0s 6ms/step - loss: 0.0057 - val_loss: 0.0272\n",
            "Epoch 75/80\n",
            "20/20 [==============================] - 0s 6ms/step - loss: 0.0047 - val_loss: 0.0204\n",
            "Epoch 76/80\n",
            "20/20 [==============================] - 0s 7ms/step - loss: 0.0058 - val_loss: 0.0157\n",
            "Epoch 77/80\n",
            "20/20 [==============================] - 0s 7ms/step - loss: 0.0056 - val_loss: 0.0311\n",
            "Epoch 78/80\n",
            "20/20 [==============================] - 0s 7ms/step - loss: 0.0056 - val_loss: 0.0231\n",
            "Epoch 79/80\n",
            "20/20 [==============================] - 0s 6ms/step - loss: 0.0051 - val_loss: 0.0238\n",
            "Epoch 80/80\n",
            "20/20 [==============================] - 0s 7ms/step - loss: 0.0056 - val_loss: 0.0343\n"
          ],
          "name": "stdout"
        }
      ]
    },
    {
      "cell_type": "markdown",
      "metadata": {
        "id": "1rL2H9CAvn2M"
      },
      "source": [
        "#### -o- Plotting loss per iteration -o-\n"
      ]
    },
    {
      "cell_type": "code",
      "metadata": {
        "id": "XXhLhRR_vrpN",
        "colab": {
          "base_uri": "https://localhost:8080/",
          "height": 282
        },
        "outputId": "13c43e49-1795-41ea-dd83-d3c92d0d9a1d"
      },
      "source": [
        "plt.plot(history.history['loss'], label='loss')\n",
        "plt.plot(history.history['val_loss'], label='val_loss')\n",
        "plt.legend()"
      ],
      "execution_count": null,
      "outputs": [
        {
          "output_type": "execute_result",
          "data": {
            "text/plain": [
              "<matplotlib.legend.Legend at 0x7fb3c8ced990>"
            ]
          },
          "metadata": {
            "tags": []
          },
          "execution_count": 7
        },
        {
          "output_type": "display_data",
          "data": {
            "image/png": "[encoded data removed]",
            "text/plain": [
              "<Figure size 432x288 with 1 Axes>"
            ]
          },
          "metadata": {
            "tags": [],
            "needs_background": "light"
          }
        }
      ]
    },
    {
      "cell_type": "markdown",
      "metadata": {
        "id": "E-tKJub9v52g"
      },
      "source": [
        "#### -o- One-step forecast using true targets -o-\n"
      ]
    },
    {
      "cell_type": "code",
      "metadata": {
        "id": "XF7gTnJ4v52h",
        "colab": {
          "base_uri": "https://localhost:8080/",
          "height": 282
        },
        "outputId": "38e2feac-ae75-44a3-b01b-e7c1f7620a56"
      },
      "source": [
        "outputs = model.predict(X)\n",
        "print(outputs.shape)\n",
        "\n",
        "predictions = outputs[:,0]\n",
        "\n",
        "plt.plot(Y, label='targets')\n",
        "plt.plot(predictions, label='predictions')\n",
        "plt.legend()\n",
        "plt.show()"
      ],
      "execution_count": null,
      "outputs": [
        {
          "output_type": "stream",
          "text": [
            "(1249, 1)\n"
          ],
          "name": "stdout"
        },
        {
          "output_type": "display_data",
          "data": {
            "image/png": "[encoded data removed]",
            "text/plain": [
              "<Figure size 432x288 with 1 Axes>"
            ]
          },
          "metadata": {
            "tags": [],
            "needs_background": "light"
          }
        }
      ]
    },
    {
      "cell_type": "markdown",
      "metadata": {
        "id": "VKLVVjSVxFqY"
      },
      "source": [
        "#### -o- Multi-step forecast -o-"
      ]
    },
    {
      "cell_type": "code",
      "metadata": {
        "id": "urmK7Ru1xECL",
        "colab": {
          "base_uri": "https://localhost:8080/",
          "height": 282
        },
        "outputId": "cb4103a1-d855-4100-f984-23029d7403cd"
      },
      "source": [
        "validation_target = Y[-N//2:]\n",
        "validation_predictions = []\n",
        "\n",
        "# first validation input\n",
        "last_x = X[-N//2] # 1-D array of length T\n",
        "\n",
        "while len(validation_predictions) < len(validation_target):\n",
        "  p = model.predict(last_x.reshape(1, T, 1))[0,0] # 1x1 array -> scalar\n",
        "  \n",
        "  # update the predictions list\n",
        "  validation_predictions.append(p)\n",
        "  \n",
        "  # make the new input\n",
        "  last_x = np.roll(last_x, -1)\n",
        "  last_x[-1] = p\n",
        "\n",
        "plt.plot(validation_target, label='forecast target')\n",
        "plt.plot(validation_predictions, label='forecast prediction')\n",
        "plt.legend()"
      ],
      "execution_count": null,
      "outputs": [
        {
          "output_type": "execute_result",
          "data": {
            "text/plain": [
              "<matplotlib.legend.Legend at 0x7fb3ba0f73d0>"
            ]
          },
          "metadata": {
            "tags": []
          },
          "execution_count": 9
        },
        {
          "output_type": "display_data",
          "data": {
            "image/png": "[encoded data removed]",
            "text/plain": [
              "<Figure size 432x288 with 1 Axes>"
            ]
          },
          "metadata": {
            "tags": [],
            "needs_background": "light"
          }
        }
      ]
    },
    {
      "cell_type": "markdown",
      "metadata": {
        "id": "L4lWqHDL7GZc"
      },
      "source": [
        "## ::::: Section 3 What to predict if not price of the stock itself? :::::\n",
        "\n",
        "When it comes to modelling a stock market, the most important object we can model is the return rather than the price.\n",
        "\n",
        "If we consider a particular day n and its previous day n-1 the return is calculated as:\n",
        "\n",
        "![return.png](data:image/png;base64,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)"
      ]
    },
    {
      "cell_type": "markdown",
      "metadata": {
        "id": "5iuwAx507xIU"
      },
      "source": [
        "### -x- Aligning particular day n and its previous day n-1's data -x-"
      ]
    },
    {
      "cell_type": "code",
      "metadata": {
        "id": "_4i5gA1N9JF9"
      },
      "source": [
        "# calculate returns by first shifting the data\n",
        "dataframe['PrevClose'] = dataframe['close'].shift(1)\n",
        "\n",
        "# so now it's like\n",
        "# close / prev close (eg. yesterday's closing price will be aligned with today's closing price)\n",
        "\n",
        "# x[-2] (day before yesterday's closing)      x[-1] (yesterday's closing)\n",
        "# x[-1] (yesterday's closing)                 x[0] (today's closing)\n",
        "# x[0] (today's closing)                      x[1] (tomorrow's closing)\n",
        "# ...                                         ...\n",
        "# x[t]                                        x[t-1]"
      ],
      "execution_count": null,
      "outputs": []
    },
    {
      "cell_type": "markdown",
      "metadata": {
        "id": "4mJv6Jpc-QvY"
      },
      "source": [
        "### -x- Inspecting the dataframe (aligned particular day n and its previous day n-1's data) -x-"
      ]
    },
    {
      "cell_type": "code",
      "metadata": {
        "id": "Wf7yDNQ0-CdE",
        "colab": {
          "base_uri": "https://localhost:8080/"
        },
        "outputId": "33f0428e-4708-418b-c615-5367a732b657"
      },
      "source": [
        "print(\"Inspecting the dataframe.\")\n",
        "print()\n",
        "print(dataframe.head())"
      ],
      "execution_count": null,
      "outputs": [
        {
          "output_type": "stream",
          "text": [
            "Inspecting the dataframe.\n",
            "\n",
            "         date    open    high     low   close   volume  Name  PrevClose\n",
            "0  2013-02-08  27.920  28.325  27.920  28.185  7146296  SBUX        NaN\n",
            "1  2013-02-11  28.260  28.260  27.930  28.070  5457354  SBUX     28.185\n",
            "2  2013-02-12  28.000  28.275  27.975  28.130  8665592  SBUX     28.070\n",
            "3  2013-02-13  28.230  28.230  27.750  27.915  7022056  SBUX     28.130\n",
            "4  2013-02-14  27.765  27.905  27.675  27.775  8899188  SBUX     27.915\n"
          ],
          "name": "stdout"
        }
      ]
    },
    {
      "cell_type": "markdown",
      "metadata": {
        "id": "u-g-yJzaB3O7"
      },
      "source": [
        "### -x- Calculating the returns -x-"
      ]
    },
    {
      "cell_type": "code",
      "metadata": {
        "id": "KPpliUd-ABt0"
      },
      "source": [
        "dataframe['Return'] = (dataframe['close'] - dataframe['PrevClose']) / dataframe['PrevClose']"
      ],
      "execution_count": null,
      "outputs": []
    },
    {
      "cell_type": "markdown",
      "metadata": {
        "id": "5QeQgRIoAIX6"
      },
      "source": [
        "### -x- Inspecting the dataframe (Returns) -x-"
      ]
    },
    {
      "cell_type": "code",
      "metadata": {
        "id": "3vEA9UJzAIX7",
        "colab": {
          "base_uri": "https://localhost:8080/"
        },
        "outputId": "ecae7ca3-f6ed-428e-be99-9b809067ee3e"
      },
      "source": [
        "print(\"Inspecting the dataframe.\")\n",
        "print()\n",
        "print(dataframe.head())"
      ],
      "execution_count": null,
      "outputs": [
        {
          "output_type": "stream",
          "text": [
            "Inspecting the dataframe.\n",
            "\n",
            "         date    open    high     low  ...   volume  Name PrevClose    Return\n",
            "0  2013-02-08  27.920  28.325  27.920  ...  7146296  SBUX       NaN       NaN\n",
            "1  2013-02-11  28.260  28.260  27.930  ...  5457354  SBUX    28.185 -0.004080\n",
            "2  2013-02-12  28.000  28.275  27.975  ...  8665592  SBUX    28.070  0.002138\n",
            "3  2013-02-13  28.230  28.230  27.750  ...  7022056  SBUX    28.130 -0.007643\n",
            "4  2013-02-14  27.765  27.905  27.675  ...  8899188  SBUX    27.915 -0.005015\n",
            "\n",
            "[5 rows x 9 columns]\n"
          ],
          "name": "stdout"
        }
      ]
    },
    {
      "cell_type": "markdown",
      "metadata": {
        "id": "uATrQXGa-jPB"
      },
      "source": [
        "### -x- Plotting the histogram of return -x-"
      ]
    },
    {
      "cell_type": "code",
      "metadata": {
        "id": "Op2hDW06-gqx",
        "colab": {
          "base_uri": "https://localhost:8080/",
          "height": 282
        },
        "outputId": "fd426436-1c59-4b3c-94e1-5938399cb3e2"
      },
      "source": [
        "dataframe['Return'].hist()"
      ],
      "execution_count": null,
      "outputs": [
        {
          "output_type": "execute_result",
          "data": {
            "text/plain": [
              "<matplotlib.axes._subplots.AxesSubplot at 0x7fb3b9476290>"
            ]
          },
          "metadata": {
            "tags": []
          },
          "execution_count": 14
        },
        {
          "output_type": "display_data",
          "data": {
            "image/png": "[encoded data removed]",
            "text/plain": [
              "<Figure size 432x288 with 1 Axes>"
            ]
          },
          "metadata": {
            "tags": [],
            "needs_background": "light"
          }
        }
      ]
    },
    {
      "cell_type": "markdown",
      "metadata": {
        "id": "B3fAndFvBOiL"
      },
      "source": [
        "### -x- Applying scalar and flattening data -x-"
      ]
    },
    {
      "cell_type": "code",
      "metadata": {
        "id": "P_bF2c3zBDYM"
      },
      "source": [
        "series = dataframe['Return'].values[1:].reshape(-1, 1)\n",
        "\n",
        "# Normalizing the data\n",
        "# Note: I didn't think about where the true boundary is, this is just approx.\n",
        "sc = StandardScaler()\n",
        "sc.fit(series[:len(series) // 2])\n",
        "series = sc.transform(series).flatten()"
      ],
      "execution_count": null,
      "outputs": []
    },
    {
      "cell_type": "markdown",
      "metadata": {
        "id": "xziSorwc-wTH"
      },
      "source": [
        "### -x- Building the dataset -x-\n",
        "Creating a series of T previous values to predict the next value and dividing them into x and y."
      ]
    },
    {
      "cell_type": "code",
      "metadata": {
        "id": "k_2BuKUDCZQR",
        "colab": {
          "base_uri": "https://localhost:8080/"
        },
        "outputId": "b97c1458-de31-48b7-d150-b8b14b561df5"
      },
      "source": [
        "# let's see if we can use T past values to predict the next value\n",
        "T = 10\n",
        "D = 1\n",
        "X = []\n",
        "Y = []\n",
        "for t in range(len(series) - T):\n",
        "  x = series[t:t+T]\n",
        "  X.append(x)\n",
        "  y = series[t+T]\n",
        "  Y.append(y)\n",
        "\n",
        "X = np.array(X).reshape(-1, T, 1) # Now the data should be N x T x D\n",
        "Y = np.array(Y)\n",
        "N = len(X)\n",
        "\n",
        "print(\"X.shape\", X.shape, \"Y.shape\", Y.shape)"
      ],
      "execution_count": null,
      "outputs": [
        {
          "output_type": "stream",
          "text": [
            "X.shape (1248, 10, 1) Y.shape (1248,)\n"
          ],
          "name": "stdout"
        }
      ]
    },
    {
      "cell_type": "markdown",
      "metadata": {
        "id": "co9Y_mjCCr_y"
      },
      "source": [
        "### -x- Trying autoregressive RNN model -x-"
      ]
    },
    {
      "cell_type": "markdown",
      "metadata": {
        "id": "FBUPrflnCr_y"
      },
      "source": [
        "#### -o- Training the model -o-"
      ]
    },
    {
      "cell_type": "code",
      "metadata": {
        "id": "lnLElUxjCr_z",
        "colab": {
          "base_uri": "https://localhost:8080/"
        },
        "outputId": "35d91971-a722-45a7-8881-74bd45745812"
      },
      "source": [
        "input = tf.keras.layers.Input(shape=(T, 1))\n",
        "x = tf.keras.layers.LSTM(5)(input)\n",
        "x = tf.keras.layers.Dense(1)(x)\n",
        "\n",
        "model = tf.keras.models.Model(input, x)\n",
        "model.compile(\n",
        "  loss='mse',\n",
        "  optimizer=tf.keras.optimizers.Adam(lr=0.01),\n",
        ")\n",
        "\n",
        "# training the RNN\n",
        "history = model.fit(\n",
        "  X[:-N//2], Y[:-N//2],\n",
        "  epochs=80,\n",
        "  validation_data=(X[-N//2:], Y[-N//2:]),\n",
        ")"
      ],
      "execution_count": null,
      "outputs": [
        {
          "output_type": "stream",
          "text": [
            "Epoch 1/80\n",
            "20/20 [==============================] - 2s 25ms/step - loss: 1.0496 - val_loss: 1.1452\n",
            "Epoch 2/80\n",
            "20/20 [==============================] - 0s 8ms/step - loss: 0.9861 - val_loss: 1.1448\n",
            "Epoch 3/80\n",
            "20/20 [==============================] - 0s 8ms/step - loss: 0.8919 - val_loss: 1.1492\n",
            "Epoch 4/80\n",
            "20/20 [==============================] - 0s 7ms/step - loss: 1.0798 - val_loss: 1.1414\n",
            "Epoch 5/80\n",
            "20/20 [==============================] - 0s 8ms/step - loss: 0.9692 - val_loss: 1.1486\n",
            "Epoch 6/80\n",
            "20/20 [==============================] - 0s 7ms/step - loss: 0.8767 - val_loss: 1.1493\n",
            "Epoch 7/80\n",
            "20/20 [==============================] - 0s 7ms/step - loss: 0.8656 - val_loss: 1.1454\n",
            "Epoch 8/80\n",
            "20/20 [==============================] - 0s 8ms/step - loss: 1.0272 - val_loss: 1.1452\n",
            "Epoch 9/80\n",
            "20/20 [==============================] - 0s 7ms/step - loss: 1.0751 - val_loss: 1.1457\n",
            "Epoch 10/80\n",
            "20/20 [==============================] - 0s 8ms/step - loss: 0.8991 - val_loss: 1.1500\n",
            "Epoch 11/80\n",
            "20/20 [==============================] - 0s 7ms/step - loss: 1.0420 - val_loss: 1.1498\n",
            "Epoch 12/80\n",
            "20/20 [==============================] - 0s 7ms/step - loss: 0.9759 - val_loss: 1.1503\n",
            "Epoch 13/80\n",
            "20/20 [==============================] - 0s 7ms/step - loss: 0.8572 - val_loss: 1.1397\n",
            "Epoch 14/80\n",
            "20/20 [==============================] - 0s 7ms/step - loss: 1.0830 - val_loss: 1.1448\n",
            "Epoch 15/80\n",
            "20/20 [==============================] - 0s 8ms/step - loss: 0.8980 - val_loss: 1.1509\n",
            "Epoch 16/80\n",
            "20/20 [==============================] - 0s 7ms/step - loss: 1.0665 - val_loss: 1.1567\n",
            "Epoch 17/80\n",
            "20/20 [==============================] - 0s 7ms/step - loss: 0.9195 - val_loss: 1.1610\n",
            "Epoch 18/80\n",
            "20/20 [==============================] - 0s 7ms/step - loss: 0.9299 - val_loss: 1.1510\n",
            "Epoch 19/80\n",
            "20/20 [==============================] - 0s 7ms/step - loss: 1.1487 - val_loss: 1.1564\n",
            "Epoch 20/80\n",
            "20/20 [==============================] - 0s 8ms/step - loss: 1.0219 - val_loss: 1.1613\n",
            "Epoch 21/80\n",
            "20/20 [==============================] - 0s 7ms/step - loss: 1.1259 - val_loss: 1.1536\n",
            "Epoch 22/80\n",
            "20/20 [==============================] - 0s 7ms/step - loss: 1.1537 - val_loss: 1.1660\n",
            "Epoch 23/80\n",
            "20/20 [==============================] - 0s 7ms/step - loss: 0.9756 - val_loss: 1.1735\n",
            "Epoch 24/80\n",
            "20/20 [==============================] - 0s 7ms/step - loss: 0.9931 - val_loss: 1.1679\n",
            "Epoch 25/80\n",
            "20/20 [==============================] - 0s 7ms/step - loss: 1.0621 - val_loss: 1.1745\n",
            "Epoch 26/80\n",
            "20/20 [==============================] - 0s 7ms/step - loss: 0.9570 - val_loss: 1.1754\n",
            "Epoch 27/80\n",
            "20/20 [==============================] - 0s 7ms/step - loss: 1.0256 - val_loss: 1.1769\n",
            "Epoch 28/80\n",
            "20/20 [==============================] - 0s 7ms/step - loss: 0.9112 - val_loss: 1.1900\n",
            "Epoch 29/80\n",
            "20/20 [==============================] - 0s 7ms/step - loss: 0.9944 - val_loss: 1.2026\n",
            "Epoch 30/80\n",
            "20/20 [==============================] - 0s 7ms/step - loss: 1.0671 - val_loss: 1.1994\n",
            "Epoch 31/80\n",
            "20/20 [==============================] - 0s 7ms/step - loss: 0.9924 - val_loss: 1.2139\n",
            "Epoch 32/80\n",
            "20/20 [==============================] - 0s 7ms/step - loss: 0.9420 - val_loss: 1.2083\n",
            "Epoch 33/80\n",
            "20/20 [==============================] - 0s 7ms/step - loss: 0.9195 - val_loss: 1.2531\n",
            "Epoch 34/80\n",
            "20/20 [==============================] - 0s 7ms/step - loss: 0.8975 - val_loss: 1.2211\n",
            "Epoch 35/80\n",
            "20/20 [==============================] - 0s 7ms/step - loss: 0.8233 - val_loss: 1.2423\n",
            "Epoch 36/80\n",
            "20/20 [==============================] - 0s 7ms/step - loss: 0.9014 - val_loss: 1.2773\n",
            "Epoch 37/80\n",
            "20/20 [==============================] - 0s 7ms/step - loss: 0.8763 - val_loss: 1.2395\n",
            "Epoch 38/80\n",
            "20/20 [==============================] - 0s 7ms/step - loss: 0.8577 - val_loss: 1.3006\n",
            "Epoch 39/80\n",
            "20/20 [==============================] - 0s 7ms/step - loss: 1.0416 - val_loss: 1.2645\n",
            "Epoch 40/80\n",
            "20/20 [==============================] - 0s 7ms/step - loss: 0.8899 - val_loss: 1.2438\n",
            "Epoch 41/80\n",
            "20/20 [==============================] - 0s 7ms/step - loss: 0.9616 - val_loss: 1.3092\n",
            "Epoch 42/80\n",
            "20/20 [==============================] - 0s 7ms/step - loss: 1.0088 - val_loss: 1.3069\n",
            "Epoch 43/80\n",
            "20/20 [==============================] - 0s 7ms/step - loss: 1.0479 - val_loss: 1.3077\n",
            "Epoch 44/80\n",
            "20/20 [==============================] - 0s 7ms/step - loss: 0.8833 - val_loss: 1.2883\n",
            "Epoch 45/80\n",
            "20/20 [==============================] - 0s 7ms/step - loss: 0.8586 - val_loss: 1.2888\n",
            "Epoch 46/80\n",
            "20/20 [==============================] - 0s 7ms/step - loss: 0.8540 - val_loss: 1.2947\n",
            "Epoch 47/80\n",
            "20/20 [==============================] - 0s 7ms/step - loss: 0.9527 - val_loss: 1.2769\n",
            "Epoch 48/80\n",
            "20/20 [==============================] - 0s 7ms/step - loss: 0.9059 - val_loss: 1.2960\n",
            "Epoch 49/80\n",
            "20/20 [==============================] - 0s 7ms/step - loss: 0.9521 - val_loss: 1.3025\n",
            "Epoch 50/80\n",
            "20/20 [==============================] - 0s 7ms/step - loss: 0.8852 - val_loss: 1.3532\n",
            "Epoch 51/80\n",
            "20/20 [==============================] - 0s 7ms/step - loss: 0.8558 - val_loss: 1.2997\n",
            "Epoch 52/80\n",
            "20/20 [==============================] - 0s 7ms/step - loss: 0.8172 - val_loss: 1.3590\n",
            "Epoch 53/80\n",
            "20/20 [==============================] - 0s 7ms/step - loss: 0.8835 - val_loss: 1.3067\n",
            "Epoch 54/80\n",
            "20/20 [==============================] - 0s 7ms/step - loss: 1.0251 - val_loss: 1.3378\n",
            "Epoch 55/80\n",
            "20/20 [==============================] - 0s 8ms/step - loss: 0.8285 - val_loss: 1.3352\n",
            "Epoch 56/80\n",
            "20/20 [==============================] - 0s 7ms/step - loss: 0.8146 - val_loss: 1.3110\n",
            "Epoch 57/80\n",
            "20/20 [==============================] - 0s 7ms/step - loss: 0.7338 - val_loss: 1.2965\n",
            "Epoch 58/80\n",
            "20/20 [==============================] - 0s 7ms/step - loss: 0.8359 - val_loss: 1.3769\n",
            "Epoch 59/80\n",
            "20/20 [==============================] - 0s 6ms/step - loss: 0.8774 - val_loss: 1.3349\n",
            "Epoch 60/80\n",
            "20/20 [==============================] - 0s 7ms/step - loss: 0.7888 - val_loss: 1.4063\n",
            "Epoch 61/80\n",
            "20/20 [==============================] - 0s 7ms/step - loss: 1.0184 - val_loss: 1.3438\n",
            "Epoch 62/80\n",
            "20/20 [==============================] - 0s 7ms/step - loss: 0.8458 - val_loss: 1.3597\n",
            "Epoch 63/80\n",
            "20/20 [==============================] - 0s 7ms/step - loss: 0.7959 - val_loss: 1.3635\n",
            "Epoch 64/80\n",
            "20/20 [==============================] - 0s 7ms/step - loss: 0.8483 - val_loss: 1.3441\n",
            "Epoch 65/80\n",
            "20/20 [==============================] - 0s 7ms/step - loss: 0.8782 - val_loss: 1.3640\n",
            "Epoch 66/80\n",
            "20/20 [==============================] - 0s 6ms/step - loss: 0.8534 - val_loss: 1.3692\n",
            "Epoch 67/80\n",
            "20/20 [==============================] - 0s 7ms/step - loss: 0.8556 - val_loss: 1.3857\n",
            "Epoch 68/80\n",
            "20/20 [==============================] - 0s 7ms/step - loss: 0.8025 - val_loss: 1.3730\n",
            "Epoch 69/80\n",
            "20/20 [==============================] - 0s 7ms/step - loss: 0.6920 - val_loss: 1.3772\n",
            "Epoch 70/80\n",
            "20/20 [==============================] - 0s 7ms/step - loss: 0.8211 - val_loss: 1.3989\n",
            "Epoch 71/80\n",
            "20/20 [==============================] - 0s 7ms/step - loss: 0.8264 - val_loss: 1.4076\n",
            "Epoch 72/80\n",
            "20/20 [==============================] - 0s 7ms/step - loss: 0.8603 - val_loss: 1.4184\n",
            "Epoch 73/80\n",
            "20/20 [==============================] - 0s 7ms/step - loss: 0.7883 - val_loss: 1.4180\n",
            "Epoch 74/80\n",
            "20/20 [==============================] - 0s 7ms/step - loss: 0.8437 - val_loss: 1.4349\n",
            "Epoch 75/80\n",
            "20/20 [==============================] - 0s 7ms/step - loss: 0.8499 - val_loss: 1.3749\n",
            "Epoch 76/80\n",
            "20/20 [==============================] - 0s 6ms/step - loss: 0.8011 - val_loss: 1.3796\n",
            "Epoch 77/80\n",
            "20/20 [==============================] - 0s 7ms/step - loss: 0.7821 - val_loss: 1.4396\n",
            "Epoch 78/80\n",
            "20/20 [==============================] - 0s 7ms/step - loss: 0.8357 - val_loss: 1.3892\n",
            "Epoch 79/80\n",
            "20/20 [==============================] - 0s 7ms/step - loss: 0.8029 - val_loss: 1.4334\n",
            "Epoch 80/80\n",
            "20/20 [==============================] - 0s 7ms/step - loss: 0.8632 - val_loss: 1.4580\n"
          ],
          "name": "stdout"
        }
      ]
    },
    {
      "cell_type": "markdown",
      "metadata": {
        "id": "wBFnGr0iCr_z"
      },
      "source": [
        "#### -o- Plotting loss per iteration -o-\n"
      ]
    },
    {
      "cell_type": "code",
      "metadata": {
        "id": "oEnyRXAFCr_z",
        "colab": {
          "base_uri": "https://localhost:8080/",
          "height": 282
        },
        "outputId": "af4d0b23-bf91-4a64-be5b-b084f4417f1b"
      },
      "source": [
        "plt.plot(history.history['loss'], label='loss')\n",
        "plt.plot(history.history['val_loss'], label='val_loss')\n",
        "plt.legend()"
      ],
      "execution_count": null,
      "outputs": [
        {
          "output_type": "execute_result",
          "data": {
            "text/plain": [
              "<matplotlib.legend.Legend at 0x7fb3b94d3c10>"
            ]
          },
          "metadata": {
            "tags": []
          },
          "execution_count": 18
        },
        {
          "output_type": "display_data",
          "data": {
            "image/png": "[encoded data removed]",
            "text/plain": [
              "<Figure size 432x288 with 1 Axes>"
            ]
          },
          "metadata": {
            "tags": [],
            "needs_background": "light"
          }
        }
      ]
    },
    {
      "cell_type": "markdown",
      "metadata": {
        "id": "PigzCq5NCr_0"
      },
      "source": [
        "#### -o- One-step forecast using true targets -o-\n"
      ]
    },
    {
      "cell_type": "code",
      "metadata": {
        "id": "yUWgK3oECr_0",
        "colab": {
          "base_uri": "https://localhost:8080/",
          "height": 282
        },
        "outputId": "b84c587f-72c1-445d-a63d-5a7a4bead6ab"
      },
      "source": [
        "outputs = model.predict(X)\n",
        "print(outputs.shape)\n",
        "\n",
        "predictions = outputs[:,0]\n",
        "\n",
        "plt.plot(Y, label='targets')\n",
        "plt.plot(predictions, label='predictions')\n",
        "plt.legend()\n",
        "plt.show()"
      ],
      "execution_count": null,
      "outputs": [
        {
          "output_type": "stream",
          "text": [
            "(1248, 1)\n"
          ],
          "name": "stdout"
        },
        {
          "output_type": "display_data",
          "data": {
            "image/png": "[encoded data removed]",
            "text/plain": [
              "<Figure size 432x288 with 1 Axes>"
            ]
          },
          "metadata": {
            "tags": [],
            "needs_background": "light"
          }
        }
      ]
    },
    {
      "cell_type": "markdown",
      "metadata": {
        "id": "CDmccdxCCr_1"
      },
      "source": [
        "#### -o- Multi-step forecast -o-"
      ]
    },
    {
      "cell_type": "code",
      "metadata": {
        "id": "ujcak_PNCr_2",
        "colab": {
          "base_uri": "https://localhost:8080/",
          "height": 282
        },
        "outputId": "fa89adb6-85de-43bb-9951-db73e03dd9a7"
      },
      "source": [
        "validation_target = Y[-N//2:]\n",
        "validation_predictions = []\n",
        "\n",
        "# first validation input\n",
        "last_x = X[-N//2] # 1-D array of length T\n",
        "\n",
        "while len(validation_predictions) < len(validation_target):\n",
        "  p = model.predict(last_x.reshape(1, T, 1))[0,0] # 1x1 array -> scalar\n",
        "  \n",
        "  # update the predictions list\n",
        "  validation_predictions.append(p)\n",
        "  \n",
        "  # make the new input\n",
        "  last_x = np.roll(last_x, -1)\n",
        "  last_x[-1] = p\n",
        "\n",
        "plt.plot(validation_target, label='forecast target')\n",
        "plt.plot(validation_predictions, label='forecast prediction')\n",
        "plt.legend()"
      ],
      "execution_count": null,
      "outputs": [
        {
          "output_type": "execute_result",
          "data": {
            "text/plain": [
              "<matplotlib.legend.Legend at 0x7fb3b9aa0f50>"
            ]
          },
          "metadata": {
            "tags": []
          },
          "execution_count": 20
        },
        {
          "output_type": "display_data",
          "data": {
            "image/png": "[encoded data removed]",
            "text/plain": [
              "<Figure size 432x288 with 1 Axes>"
            ]
          },
          "metadata": {
            "tags": [],
            "needs_background": "light"
          }
        }
      ]
    },
    {
      "cell_type": "markdown",
      "metadata": {
        "id": "Kl82HHPMSzz8"
      },
      "source": [
        "## ::::: Section 4 Using open, high, low, close, volume for prediction :::::\n",
        "\n",
        "Now, simply predicting if price will go up or down (Binary Classification)."
      ]
    },
    {
      "cell_type": "markdown",
      "metadata": {
        "id": "4M_LmUtmT22g"
      },
      "source": [
        "### -x- Converting data into numpy arrays. -x-"
      ]
    },
    {
      "cell_type": "code",
      "metadata": {
        "id": "c5o8SfC_T22h"
      },
      "source": [
        "# Not yet in the final \"X\" format!\n",
        "input_data = dataframe[['open', 'high', 'low', 'close', 'volume']].values\n",
        "targets = dataframe['Return'].values"
      ],
      "execution_count": null,
      "outputs": []
    },
    {
      "cell_type": "markdown",
      "metadata": {
        "id": "1aGZzCw8VfbK"
      },
      "source": [
        "### -x- N x T x D shape -x-"
      ]
    },
    {
      "cell_type": "code",
      "metadata": {
        "id": "ptqRSd5DVK7U"
      },
      "source": [
        "N = len(input_data) - T # (e.g. if T=10 and you have 11 data points then you'd only have 1 sample)\n",
        "T = 10 # the number of time steps to look at to make a prediction for the next day\n",
        "D = input_data.shape[1]"
      ],
      "execution_count": null,
      "outputs": []
    },
    {
      "cell_type": "markdown",
      "metadata": {
        "id": "1okOFoo-VseK"
      },
      "source": [
        "### -x- Applying scalar -x-"
      ]
    },
    {
      "cell_type": "code",
      "metadata": {
        "id": "w6zpXDt5VseL"
      },
      "source": [
        "Ntrain = len(input_data) * 2 // 3\n",
        "\n",
        "sc = StandardScaler()\n",
        "sc.fit(input_data[:Ntrain + T - 1])\n",
        "input_data = sc.transform(input_data)"
      ],
      "execution_count": null,
      "outputs": []
    },
    {
      "cell_type": "markdown",
      "metadata": {
        "id": "HyZUJMDaWIl1"
      },
      "source": [
        "### -x- Setting up X_train and Y_train -x-"
      ]
    },
    {
      "cell_type": "code",
      "metadata": {
        "id": "m85G2v-iWG8Q"
      },
      "source": [
        "X_train = np.zeros((Ntrain, T, D))\n",
        "Y_train = np.zeros(Ntrain)\n",
        "\n",
        "for t in range(Ntrain):\n",
        "  X_train[t, :, :] = input_data[t:t+T]\n",
        "  Y_train[t] = (targets[t+T] > 0)"
      ],
      "execution_count": null,
      "outputs": []
    },
    {
      "cell_type": "markdown",
      "metadata": {
        "id": "Ez-B2B1LWJgZ"
      },
      "source": [
        "### -x- Setting up X_test and Y_test -x-"
      ]
    },
    {
      "cell_type": "code",
      "metadata": {
        "id": "mCQPuNKZWZPj"
      },
      "source": [
        "X_test = np.zeros((N - Ntrain, T, D))\n",
        "Y_test = np.zeros(N - Ntrain)\n",
        "\n",
        "for u in range(N - Ntrain):\n",
        "  # u counts from 0...(N - Ntrain)\n",
        "  # t counts from Ntrain...N\n",
        "  t = u + Ntrain\n",
        "  X_test[u, :, :] = input_data[t:t+T]\n",
        "  Y_test[u] = (targets[t+T] > 0)"
      ],
      "execution_count": null,
      "outputs": []
    },
    {
      "cell_type": "markdown",
      "metadata": {
        "id": "y5Q4LVeMWmPR"
      },
      "source": [
        "### -x- Trying RNN model -x-"
      ]
    },
    {
      "cell_type": "markdown",
      "metadata": {
        "id": "y8_EAofbWmPS"
      },
      "source": [
        "#### -o- Compiling the model -o-"
      ]
    },
    {
      "cell_type": "code",
      "metadata": {
        "id": "wzOykVINWmPS"
      },
      "source": [
        "input = tf.keras.layers.Input(shape=(T, D))\n",
        "x = tf.keras.layers.LSTM(50)(input)\n",
        "x = tf.keras.layers.Dense(1, activation='sigmoid')(x)\n",
        "\n",
        "model = tf.keras.models.Model(input, x)\n",
        "model.compile(\n",
        "  loss='binary_crossentropy',\n",
        "  optimizer=tf.keras.optimizers.Adam(lr=0.001),\n",
        "  metrics=['accuracy'],\n",
        ")"
      ],
      "execution_count": null,
      "outputs": []
    },
    {
      "cell_type": "markdown",
      "metadata": {
        "id": "sGy-MLprXI5U"
      },
      "source": [
        "#### -o- Training the RNN -o-"
      ]
    },
    {
      "cell_type": "code",
      "metadata": {
        "id": "3tMqNjKyXE6D",
        "colab": {
          "base_uri": "https://localhost:8080/"
        },
        "outputId": "1e26b067-40c2-43be-81a3-a05788350b0c"
      },
      "source": [
        "history = model.fit(\n",
        "  X_train, Y_train,\n",
        "  batch_size=32,\n",
        "  epochs=300,\n",
        "  validation_data=(X_test, Y_test),\n",
        ")"
      ],
      "execution_count": null,
      "outputs": [
        {
          "output_type": "stream",
          "text": [
            "Epoch 1/300\n",
            "27/27 [==============================] - 2s 24ms/step - loss: 0.6990 - accuracy: 0.4496 - val_loss: 0.6940 - val_accuracy: 0.4854\n",
            "Epoch 2/300\n",
            "27/27 [==============================] - 0s 7ms/step - loss: 0.6937 - accuracy: 0.5111 - val_loss: 0.6948 - val_accuracy: 0.4854\n",
            "Epoch 3/300\n",
            "27/27 [==============================] - 0s 7ms/step - loss: 0.6923 - accuracy: 0.4952 - val_loss: 0.6925 - val_accuracy: 0.5244\n",
            "Epoch 4/300\n",
            "27/27 [==============================] - 0s 7ms/step - loss: 0.6941 - accuracy: 0.5288 - val_loss: 0.6924 - val_accuracy: 0.5171\n",
            "Epoch 5/300\n",
            "27/27 [==============================] - 0s 7ms/step - loss: 0.6878 - accuracy: 0.5447 - val_loss: 0.6940 - val_accuracy: 0.4951\n",
            "Epoch 6/300\n",
            "27/27 [==============================] - 0s 7ms/step - loss: 0.6910 - accuracy: 0.5069 - val_loss: 0.6930 - val_accuracy: 0.4805\n",
            "Epoch 7/300\n",
            "27/27 [==============================] - 0s 8ms/step - loss: 0.6908 - accuracy: 0.5156 - val_loss: 0.6937 - val_accuracy: 0.4951\n",
            "Epoch 8/300\n",
            "27/27 [==============================] - 0s 7ms/step - loss: 0.6899 - accuracy: 0.5496 - val_loss: 0.6913 - val_accuracy: 0.5366\n",
            "Epoch 9/300\n",
            "27/27 [==============================] - 0s 7ms/step - loss: 0.6917 - accuracy: 0.5021 - val_loss: 0.6940 - val_accuracy: 0.4927\n",
            "Epoch 10/300\n",
            "27/27 [==============================] - 0s 7ms/step - loss: 0.6921 - accuracy: 0.5187 - val_loss: 0.6935 - val_accuracy: 0.5000\n",
            "Epoch 11/300\n",
            "27/27 [==============================] - 0s 7ms/step - loss: 0.6882 - accuracy: 0.5300 - val_loss: 0.6941 - val_accuracy: 0.4976\n",
            "Epoch 12/300\n",
            "27/27 [==============================] - 0s 7ms/step - loss: 0.6897 - accuracy: 0.5287 - val_loss: 0.6940 - val_accuracy: 0.4976\n",
            "Epoch 13/300\n",
            "27/27 [==============================] - 0s 7ms/step - loss: 0.6871 - accuracy: 0.5286 - val_loss: 0.6929 - val_accuracy: 0.4951\n",
            "Epoch 14/300\n",
            "27/27 [==============================] - 0s 7ms/step - loss: 0.6833 - accuracy: 0.5602 - val_loss: 0.6901 - val_accuracy: 0.5341\n",
            "Epoch 15/300\n",
            "27/27 [==============================] - 0s 7ms/step - loss: 0.6874 - accuracy: 0.5288 - val_loss: 0.6920 - val_accuracy: 0.5122\n",
            "Epoch 16/300\n",
            "27/27 [==============================] - 0s 7ms/step - loss: 0.6849 - accuracy: 0.5464 - val_loss: 0.6929 - val_accuracy: 0.5000\n",
            "Epoch 17/300\n",
            "27/27 [==============================] - 0s 7ms/step - loss: 0.6808 - accuracy: 0.5482 - val_loss: 0.6920 - val_accuracy: 0.5171\n",
            "Epoch 18/300\n",
            "27/27 [==============================] - 0s 8ms/step - loss: 0.6844 - accuracy: 0.5290 - val_loss: 0.6899 - val_accuracy: 0.5512\n",
            "Epoch 19/300\n",
            "27/27 [==============================] - 0s 8ms/step - loss: 0.6833 - accuracy: 0.5636 - val_loss: 0.6987 - val_accuracy: 0.4976\n",
            "Epoch 20/300\n",
            "27/27 [==============================] - 0s 8ms/step - loss: 0.6844 - accuracy: 0.5505 - val_loss: 0.6941 - val_accuracy: 0.4951\n",
            "Epoch 21/300\n",
            "27/27 [==============================] - 0s 7ms/step - loss: 0.6884 - accuracy: 0.5258 - val_loss: 0.6956 - val_accuracy: 0.4951\n",
            "Epoch 22/300\n",
            "27/27 [==============================] - 0s 8ms/step - loss: 0.6874 - accuracy: 0.5306 - val_loss: 0.6917 - val_accuracy: 0.5220\n",
            "Epoch 23/300\n",
            "27/27 [==============================] - 0s 7ms/step - loss: 0.6864 - accuracy: 0.5576 - val_loss: 0.6946 - val_accuracy: 0.4951\n",
            "Epoch 24/300\n",
            "27/27 [==============================] - 0s 7ms/step - loss: 0.6833 - accuracy: 0.5606 - val_loss: 0.6982 - val_accuracy: 0.4902\n",
            "Epoch 25/300\n",
            "27/27 [==============================] - 0s 7ms/step - loss: 0.6889 - accuracy: 0.5266 - val_loss: 0.6923 - val_accuracy: 0.5171\n",
            "Epoch 26/300\n",
            "27/27 [==============================] - 0s 7ms/step - loss: 0.6858 - accuracy: 0.5334 - val_loss: 0.6946 - val_accuracy: 0.5146\n",
            "Epoch 27/300\n",
            "27/27 [==============================] - 0s 8ms/step - loss: 0.6817 - accuracy: 0.5603 - val_loss: 0.6925 - val_accuracy: 0.5195\n",
            "Epoch 28/300\n",
            "27/27 [==============================] - 0s 8ms/step - loss: 0.6838 - accuracy: 0.5842 - val_loss: 0.6924 - val_accuracy: 0.5220\n",
            "Epoch 29/300\n",
            "27/27 [==============================] - 0s 7ms/step - loss: 0.6801 - accuracy: 0.5747 - val_loss: 0.6929 - val_accuracy: 0.5317\n",
            "Epoch 30/300\n",
            "27/27 [==============================] - 0s 7ms/step - loss: 0.6822 - accuracy: 0.5713 - val_loss: 0.6981 - val_accuracy: 0.4756\n",
            "Epoch 31/300\n",
            "27/27 [==============================] - 0s 7ms/step - loss: 0.6841 - accuracy: 0.5486 - val_loss: 0.6973 - val_accuracy: 0.5024\n",
            "Epoch 32/300\n",
            "27/27 [==============================] - 0s 7ms/step - loss: 0.6801 - accuracy: 0.5694 - val_loss: 0.6941 - val_accuracy: 0.5195\n",
            "Epoch 33/300\n",
            "27/27 [==============================] - 0s 7ms/step - loss: 0.6782 - accuracy: 0.5962 - val_loss: 0.6933 - val_accuracy: 0.5341\n",
            "Epoch 34/300\n",
            "27/27 [==============================] - 0s 7ms/step - loss: 0.6765 - accuracy: 0.5901 - val_loss: 0.7003 - val_accuracy: 0.4927\n",
            "Epoch 35/300\n",
            "27/27 [==============================] - 0s 7ms/step - loss: 0.6803 - accuracy: 0.5546 - val_loss: 0.6963 - val_accuracy: 0.5049\n",
            "Epoch 36/300\n",
            "27/27 [==============================] - 0s 8ms/step - loss: 0.6778 - accuracy: 0.5631 - val_loss: 0.6959 - val_accuracy: 0.5098\n",
            "Epoch 37/300\n",
            "27/27 [==============================] - 0s 7ms/step - loss: 0.6744 - accuracy: 0.5733 - val_loss: 0.6950 - val_accuracy: 0.5220\n",
            "Epoch 38/300\n",
            "27/27 [==============================] - 0s 7ms/step - loss: 0.6812 - accuracy: 0.5768 - val_loss: 0.6938 - val_accuracy: 0.5366\n",
            "Epoch 39/300\n",
            "27/27 [==============================] - 0s 7ms/step - loss: 0.6845 - accuracy: 0.5474 - val_loss: 0.6958 - val_accuracy: 0.5098\n",
            "Epoch 40/300\n",
            "27/27 [==============================] - 0s 9ms/step - loss: 0.6857 - accuracy: 0.5491 - val_loss: 0.6938 - val_accuracy: 0.5293\n",
            "Epoch 41/300\n",
            "27/27 [==============================] - 0s 8ms/step - loss: 0.6751 - accuracy: 0.5847 - val_loss: 0.7004 - val_accuracy: 0.5049\n",
            "Epoch 42/300\n",
            "27/27 [==============================] - 0s 7ms/step - loss: 0.6711 - accuracy: 0.5867 - val_loss: 0.6963 - val_accuracy: 0.5293\n",
            "Epoch 43/300\n",
            "27/27 [==============================] - 0s 7ms/step - loss: 0.6730 - accuracy: 0.5584 - val_loss: 0.6963 - val_accuracy: 0.5098\n",
            "Epoch 44/300\n",
            "27/27 [==============================] - 0s 7ms/step - loss: 0.6753 - accuracy: 0.5597 - val_loss: 0.6956 - val_accuracy: 0.5146\n",
            "Epoch 45/300\n",
            "27/27 [==============================] - 0s 7ms/step - loss: 0.6834 - accuracy: 0.5515 - val_loss: 0.6992 - val_accuracy: 0.4951\n",
            "Epoch 46/300\n",
            "27/27 [==============================] - 0s 7ms/step - loss: 0.6879 - accuracy: 0.5278 - val_loss: 0.6991 - val_accuracy: 0.4976\n",
            "Epoch 47/300\n",
            "27/27 [==============================] - 0s 7ms/step - loss: 0.6731 - accuracy: 0.5553 - val_loss: 0.6985 - val_accuracy: 0.5146\n",
            "Epoch 48/300\n",
            "27/27 [==============================] - 0s 7ms/step - loss: 0.6669 - accuracy: 0.5800 - val_loss: 0.6981 - val_accuracy: 0.5049\n",
            "Epoch 49/300\n",
            "27/27 [==============================] - 0s 7ms/step - loss: 0.6672 - accuracy: 0.5630 - val_loss: 0.6987 - val_accuracy: 0.5268\n",
            "Epoch 50/300\n",
            "27/27 [==============================] - 0s 7ms/step - loss: 0.6703 - accuracy: 0.5705 - val_loss: 0.7008 - val_accuracy: 0.5049\n",
            "Epoch 51/300\n",
            "27/27 [==============================] - 0s 8ms/step - loss: 0.6625 - accuracy: 0.5823 - val_loss: 0.6976 - val_accuracy: 0.5244\n",
            "Epoch 52/300\n",
            "27/27 [==============================] - 0s 8ms/step - loss: 0.6691 - accuracy: 0.5712 - val_loss: 0.6992 - val_accuracy: 0.5122\n",
            "Epoch 53/300\n",
            "27/27 [==============================] - 0s 8ms/step - loss: 0.6652 - accuracy: 0.5644 - val_loss: 0.7011 - val_accuracy: 0.5073\n",
            "Epoch 54/300\n",
            "27/27 [==============================] - 0s 7ms/step - loss: 0.6680 - accuracy: 0.5951 - val_loss: 0.7040 - val_accuracy: 0.4780\n",
            "Epoch 55/300\n",
            "27/27 [==============================] - 0s 7ms/step - loss: 0.6625 - accuracy: 0.5742 - val_loss: 0.7002 - val_accuracy: 0.5073\n",
            "Epoch 56/300\n",
            "27/27 [==============================] - 0s 7ms/step - loss: 0.6598 - accuracy: 0.5741 - val_loss: 0.6975 - val_accuracy: 0.4780\n",
            "Epoch 57/300\n",
            "27/27 [==============================] - 0s 8ms/step - loss: 0.6712 - accuracy: 0.5751 - val_loss: 0.6972 - val_accuracy: 0.5122\n",
            "Epoch 58/300\n",
            "27/27 [==============================] - 0s 8ms/step - loss: 0.6670 - accuracy: 0.5773 - val_loss: 0.7053 - val_accuracy: 0.4902\n",
            "Epoch 59/300\n",
            "27/27 [==============================] - 0s 9ms/step - loss: 0.6645 - accuracy: 0.5737 - val_loss: 0.7028 - val_accuracy: 0.5024\n",
            "Epoch 60/300\n",
            "27/27 [==============================] - 0s 8ms/step - loss: 0.6689 - accuracy: 0.5901 - val_loss: 0.7038 - val_accuracy: 0.4927\n",
            "Epoch 61/300\n",
            "27/27 [==============================] - 0s 7ms/step - loss: 0.6614 - accuracy: 0.5867 - val_loss: 0.7067 - val_accuracy: 0.4902\n",
            "Epoch 62/300\n",
            "27/27 [==============================] - 0s 7ms/step - loss: 0.6481 - accuracy: 0.6138 - val_loss: 0.7029 - val_accuracy: 0.4902\n",
            "Epoch 63/300\n",
            "27/27 [==============================] - 0s 7ms/step - loss: 0.6618 - accuracy: 0.5946 - val_loss: 0.7012 - val_accuracy: 0.5000\n",
            "Epoch 64/300\n",
            "27/27 [==============================] - 0s 7ms/step - loss: 0.6548 - accuracy: 0.5900 - val_loss: 0.7043 - val_accuracy: 0.5024\n",
            "Epoch 65/300\n",
            "27/27 [==============================] - 0s 7ms/step - loss: 0.6652 - accuracy: 0.5885 - val_loss: 0.7086 - val_accuracy: 0.5024\n",
            "Epoch 66/300\n",
            "27/27 [==============================] - 0s 7ms/step - loss: 0.6661 - accuracy: 0.5535 - val_loss: 0.7102 - val_accuracy: 0.4902\n",
            "Epoch 67/300\n",
            "27/27 [==============================] - 0s 7ms/step - loss: 0.6532 - accuracy: 0.5766 - val_loss: 0.7100 - val_accuracy: 0.5024\n",
            "Epoch 68/300\n",
            "27/27 [==============================] - 0s 7ms/step - loss: 0.6486 - accuracy: 0.5911 - val_loss: 0.7134 - val_accuracy: 0.4829\n",
            "Epoch 69/300\n",
            "27/27 [==============================] - 0s 8ms/step - loss: 0.6532 - accuracy: 0.6050 - val_loss: 0.7114 - val_accuracy: 0.4902\n",
            "Epoch 70/300\n",
            "27/27 [==============================] - 0s 7ms/step - loss: 0.6592 - accuracy: 0.5782 - val_loss: 0.7140 - val_accuracy: 0.4854\n",
            "Epoch 71/300\n",
            "27/27 [==============================] - 0s 7ms/step - loss: 0.6478 - accuracy: 0.5926 - val_loss: 0.7134 - val_accuracy: 0.4829\n",
            "Epoch 72/300\n",
            "27/27 [==============================] - 0s 8ms/step - loss: 0.6382 - accuracy: 0.6182 - val_loss: 0.7178 - val_accuracy: 0.4829\n",
            "Epoch 73/300\n",
            "27/27 [==============================] - 0s 7ms/step - loss: 0.6449 - accuracy: 0.6049 - val_loss: 0.7189 - val_accuracy: 0.4805\n",
            "Epoch 74/300\n",
            "27/27 [==============================] - 0s 7ms/step - loss: 0.6521 - accuracy: 0.5861 - val_loss: 0.7240 - val_accuracy: 0.4732\n",
            "Epoch 75/300\n",
            "27/27 [==============================] - 0s 8ms/step - loss: 0.6420 - accuracy: 0.6132 - val_loss: 0.7162 - val_accuracy: 0.4756\n",
            "Epoch 76/300\n",
            "27/27 [==============================] - 0s 8ms/step - loss: 0.6390 - accuracy: 0.6156 - val_loss: 0.7245 - val_accuracy: 0.4829\n",
            "Epoch 77/300\n",
            "27/27 [==============================] - 0s 8ms/step - loss: 0.6332 - accuracy: 0.6441 - val_loss: 0.7232 - val_accuracy: 0.5244\n",
            "Epoch 78/300\n",
            "27/27 [==============================] - 0s 7ms/step - loss: 0.6544 - accuracy: 0.5866 - val_loss: 0.7175 - val_accuracy: 0.4878\n",
            "Epoch 79/300\n",
            "27/27 [==============================] - 0s 7ms/step - loss: 0.6398 - accuracy: 0.6289 - val_loss: 0.7191 - val_accuracy: 0.4805\n",
            "Epoch 80/300\n",
            "27/27 [==============================] - 0s 7ms/step - loss: 0.6294 - accuracy: 0.6311 - val_loss: 0.7230 - val_accuracy: 0.4902\n",
            "Epoch 81/300\n",
            "27/27 [==============================] - 0s 8ms/step - loss: 0.6360 - accuracy: 0.6152 - val_loss: 0.7219 - val_accuracy: 0.4659\n",
            "Epoch 82/300\n",
            "27/27 [==============================] - 0s 7ms/step - loss: 0.6417 - accuracy: 0.6278 - val_loss: 0.7292 - val_accuracy: 0.5098\n",
            "Epoch 83/300\n",
            "27/27 [==============================] - 0s 8ms/step - loss: 0.6209 - accuracy: 0.6382 - val_loss: 0.7324 - val_accuracy: 0.4829\n",
            "Epoch 84/300\n",
            "27/27 [==============================] - 0s 9ms/step - loss: 0.6354 - accuracy: 0.6182 - val_loss: 0.7232 - val_accuracy: 0.4927\n",
            "Epoch 85/300\n",
            "27/27 [==============================] - 0s 8ms/step - loss: 0.6253 - accuracy: 0.6419 - val_loss: 0.7339 - val_accuracy: 0.4659\n",
            "Epoch 86/300\n",
            "27/27 [==============================] - 0s 7ms/step - loss: 0.6257 - accuracy: 0.6239 - val_loss: 0.7305 - val_accuracy: 0.4805\n",
            "Epoch 87/300\n",
            "27/27 [==============================] - 0s 8ms/step - loss: 0.6189 - accuracy: 0.6430 - val_loss: 0.7324 - val_accuracy: 0.4927\n",
            "Epoch 88/300\n",
            "27/27 [==============================] - 0s 7ms/step - loss: 0.6196 - accuracy: 0.6557 - val_loss: 0.7392 - val_accuracy: 0.4683\n",
            "Epoch 89/300\n",
            "27/27 [==============================] - 0s 8ms/step - loss: 0.6222 - accuracy: 0.6297 - val_loss: 0.7355 - val_accuracy: 0.4732\n",
            "Epoch 90/300\n",
            "27/27 [==============================] - 0s 7ms/step - loss: 0.6068 - accuracy: 0.6440 - val_loss: 0.7347 - val_accuracy: 0.4976\n",
            "Epoch 91/300\n",
            "27/27 [==============================] - 0s 7ms/step - loss: 0.6107 - accuracy: 0.6563 - val_loss: 0.7410 - val_accuracy: 0.4780\n",
            "Epoch 92/300\n",
            "27/27 [==============================] - 0s 7ms/step - loss: 0.6046 - accuracy: 0.6580 - val_loss: 0.7384 - val_accuracy: 0.4854\n",
            "Epoch 93/300\n",
            "27/27 [==============================] - 0s 7ms/step - loss: 0.6109 - accuracy: 0.6493 - val_loss: 0.7458 - val_accuracy: 0.4927\n",
            "Epoch 94/300\n",
            "27/27 [==============================] - 0s 7ms/step - loss: 0.6104 - accuracy: 0.6431 - val_loss: 0.7430 - val_accuracy: 0.5073\n",
            "Epoch 95/300\n",
            "27/27 [==============================] - 0s 8ms/step - loss: 0.6287 - accuracy: 0.6142 - val_loss: 0.7412 - val_accuracy: 0.4780\n",
            "Epoch 96/300\n",
            "27/27 [==============================] - 0s 9ms/step - loss: 0.6076 - accuracy: 0.6660 - val_loss: 0.7462 - val_accuracy: 0.5000\n",
            "Epoch 97/300\n",
            "27/27 [==============================] - 0s 9ms/step - loss: 0.6270 - accuracy: 0.6324 - val_loss: 0.7493 - val_accuracy: 0.4732\n",
            "Epoch 98/300\n",
            "27/27 [==============================] - 0s 9ms/step - loss: 0.6081 - accuracy: 0.6556 - val_loss: 0.7539 - val_accuracy: 0.4927\n",
            "Epoch 99/300\n",
            "27/27 [==============================] - 0s 8ms/step - loss: 0.6010 - accuracy: 0.6685 - val_loss: 0.7419 - val_accuracy: 0.4780\n",
            "Epoch 100/300\n",
            "27/27 [==============================] - 0s 7ms/step - loss: 0.5852 - accuracy: 0.6884 - val_loss: 0.7492 - val_accuracy: 0.5024\n",
            "Epoch 101/300\n",
            "27/27 [==============================] - 0s 8ms/step - loss: 0.5887 - accuracy: 0.6633 - val_loss: 0.7549 - val_accuracy: 0.4902\n",
            "Epoch 102/300\n",
            "27/27 [==============================] - 0s 8ms/step - loss: 0.5910 - accuracy: 0.6741 - val_loss: 0.7607 - val_accuracy: 0.4805\n",
            "Epoch 103/300\n",
            "27/27 [==============================] - 0s 9ms/step - loss: 0.5928 - accuracy: 0.6764 - val_loss: 0.7529 - val_accuracy: 0.5073\n",
            "Epoch 104/300\n",
            "27/27 [==============================] - 0s 8ms/step - loss: 0.5981 - accuracy: 0.6630 - val_loss: 0.7534 - val_accuracy: 0.5024\n",
            "Epoch 105/300\n",
            "27/27 [==============================] - 0s 7ms/step - loss: 0.5866 - accuracy: 0.6886 - val_loss: 0.7657 - val_accuracy: 0.4902\n",
            "Epoch 106/300\n",
            "27/27 [==============================] - 0s 7ms/step - loss: 0.5868 - accuracy: 0.6758 - val_loss: 0.7592 - val_accuracy: 0.4951\n",
            "Epoch 107/300\n",
            "27/27 [==============================] - 0s 7ms/step - loss: 0.5809 - accuracy: 0.6620 - val_loss: 0.7703 - val_accuracy: 0.4732\n",
            "Epoch 108/300\n",
            "27/27 [==============================] - 0s 8ms/step - loss: 0.5791 - accuracy: 0.6674 - val_loss: 0.7591 - val_accuracy: 0.5049\n",
            "Epoch 109/300\n",
            "27/27 [==============================] - 0s 7ms/step - loss: 0.5783 - accuracy: 0.6800 - val_loss: 0.7605 - val_accuracy: 0.4951\n",
            "Epoch 110/300\n",
            "27/27 [==============================] - 0s 7ms/step - loss: 0.5847 - accuracy: 0.6671 - val_loss: 0.7731 - val_accuracy: 0.4927\n",
            "Epoch 111/300\n",
            "27/27 [==============================] - 0s 7ms/step - loss: 0.5892 - accuracy: 0.6539 - val_loss: 0.7695 - val_accuracy: 0.4805\n",
            "Epoch 112/300\n",
            "27/27 [==============================] - 0s 7ms/step - loss: 0.5892 - accuracy: 0.6640 - val_loss: 0.7735 - val_accuracy: 0.4829\n",
            "Epoch 113/300\n",
            "27/27 [==============================] - 0s 8ms/step - loss: 0.5654 - accuracy: 0.6920 - val_loss: 0.7724 - val_accuracy: 0.4951\n",
            "Epoch 114/300\n",
            "27/27 [==============================] - 0s 7ms/step - loss: 0.5720 - accuracy: 0.6766 - val_loss: 0.7774 - val_accuracy: 0.4854\n",
            "Epoch 115/300\n",
            "27/27 [==============================] - 0s 8ms/step - loss: 0.5649 - accuracy: 0.6863 - val_loss: 0.7703 - val_accuracy: 0.5073\n",
            "Epoch 116/300\n",
            "27/27 [==============================] - 0s 7ms/step - loss: 0.5651 - accuracy: 0.6833 - val_loss: 0.7741 - val_accuracy: 0.5000\n",
            "Epoch 117/300\n",
            "27/27 [==============================] - 0s 7ms/step - loss: 0.5510 - accuracy: 0.6870 - val_loss: 0.7808 - val_accuracy: 0.4927\n",
            "Epoch 118/300\n",
            "27/27 [==============================] - 0s 8ms/step - loss: 0.5424 - accuracy: 0.7167 - val_loss: 0.7725 - val_accuracy: 0.4878\n",
            "Epoch 119/300\n",
            "27/27 [==============================] - 0s 7ms/step - loss: 0.5547 - accuracy: 0.6960 - val_loss: 0.7870 - val_accuracy: 0.4951\n",
            "Epoch 120/300\n",
            "27/27 [==============================] - 0s 7ms/step - loss: 0.5531 - accuracy: 0.6791 - val_loss: 0.7870 - val_accuracy: 0.4854\n",
            "Epoch 121/300\n",
            "27/27 [==============================] - 0s 8ms/step - loss: 0.5502 - accuracy: 0.7014 - val_loss: 0.7986 - val_accuracy: 0.4927\n",
            "Epoch 122/300\n",
            "27/27 [==============================] - 0s 7ms/step - loss: 0.5417 - accuracy: 0.6957 - val_loss: 0.7848 - val_accuracy: 0.4805\n",
            "Epoch 123/300\n",
            "27/27 [==============================] - 0s 7ms/step - loss: 0.5199 - accuracy: 0.7448 - val_loss: 0.7869 - val_accuracy: 0.5049\n",
            "Epoch 124/300\n",
            "27/27 [==============================] - 0s 7ms/step - loss: 0.5460 - accuracy: 0.7071 - val_loss: 0.7901 - val_accuracy: 0.4756\n",
            "Epoch 125/300\n",
            "27/27 [==============================] - 0s 7ms/step - loss: 0.5320 - accuracy: 0.7172 - val_loss: 0.8039 - val_accuracy: 0.5098\n",
            "Epoch 126/300\n",
            "27/27 [==============================] - 0s 7ms/step - loss: 0.5509 - accuracy: 0.7094 - val_loss: 0.8008 - val_accuracy: 0.4951\n",
            "Epoch 127/300\n",
            "27/27 [==============================] - 0s 7ms/step - loss: 0.5409 - accuracy: 0.7105 - val_loss: 0.7876 - val_accuracy: 0.5049\n",
            "Epoch 128/300\n",
            "27/27 [==============================] - 0s 8ms/step - loss: 0.5112 - accuracy: 0.7275 - val_loss: 0.7909 - val_accuracy: 0.5024\n",
            "Epoch 129/300\n",
            "27/27 [==============================] - 0s 7ms/step - loss: 0.5442 - accuracy: 0.7160 - val_loss: 0.8058 - val_accuracy: 0.4854\n",
            "Epoch 130/300\n",
            "27/27 [==============================] - 0s 7ms/step - loss: 0.5327 - accuracy: 0.7015 - val_loss: 0.7990 - val_accuracy: 0.5024\n",
            "Epoch 131/300\n",
            "27/27 [==============================] - 0s 7ms/step - loss: 0.5241 - accuracy: 0.7250 - val_loss: 0.7986 - val_accuracy: 0.5049\n",
            "Epoch 132/300\n",
            "27/27 [==============================] - 0s 7ms/step - loss: 0.5112 - accuracy: 0.7299 - val_loss: 0.8157 - val_accuracy: 0.4878\n",
            "Epoch 133/300\n",
            "27/27 [==============================] - 0s 8ms/step - loss: 0.5039 - accuracy: 0.7403 - val_loss: 0.8137 - val_accuracy: 0.5000\n",
            "Epoch 134/300\n",
            "27/27 [==============================] - 0s 8ms/step - loss: 0.5063 - accuracy: 0.7386 - val_loss: 0.8163 - val_accuracy: 0.5195\n",
            "Epoch 135/300\n",
            "27/27 [==============================] - 0s 7ms/step - loss: 0.5109 - accuracy: 0.7207 - val_loss: 0.8158 - val_accuracy: 0.5098\n",
            "Epoch 136/300\n",
            "27/27 [==============================] - 0s 7ms/step - loss: 0.4881 - accuracy: 0.7522 - val_loss: 0.8254 - val_accuracy: 0.5049\n",
            "Epoch 137/300\n",
            "27/27 [==============================] - 0s 8ms/step - loss: 0.5037 - accuracy: 0.7301 - val_loss: 0.8217 - val_accuracy: 0.4951\n",
            "Epoch 138/300\n",
            "27/27 [==============================] - 0s 7ms/step - loss: 0.5025 - accuracy: 0.7230 - val_loss: 0.8261 - val_accuracy: 0.5171\n",
            "Epoch 139/300\n",
            "27/27 [==============================] - 0s 7ms/step - loss: 0.4813 - accuracy: 0.7415 - val_loss: 0.8334 - val_accuracy: 0.5244\n",
            "Epoch 140/300\n",
            "27/27 [==============================] - 0s 8ms/step - loss: 0.4842 - accuracy: 0.7476 - val_loss: 0.8461 - val_accuracy: 0.5049\n",
            "Epoch 141/300\n",
            "27/27 [==============================] - 0s 7ms/step - loss: 0.4970 - accuracy: 0.7591 - val_loss: 0.8466 - val_accuracy: 0.4951\n",
            "Epoch 142/300\n",
            "27/27 [==============================] - 0s 8ms/step - loss: 0.5089 - accuracy: 0.7372 - val_loss: 0.8260 - val_accuracy: 0.5220\n",
            "Epoch 143/300\n",
            "27/27 [==============================] - 0s 7ms/step - loss: 0.4873 - accuracy: 0.7680 - val_loss: 0.8416 - val_accuracy: 0.4902\n",
            "Epoch 144/300\n",
            "27/27 [==============================] - 0s 7ms/step - loss: 0.4861 - accuracy: 0.7526 - val_loss: 0.8429 - val_accuracy: 0.5171\n",
            "Epoch 145/300\n",
            "27/27 [==============================] - 0s 7ms/step - loss: 0.4912 - accuracy: 0.7511 - val_loss: 0.8466 - val_accuracy: 0.5171\n",
            "Epoch 146/300\n",
            "27/27 [==============================] - 0s 7ms/step - loss: 0.4842 - accuracy: 0.7346 - val_loss: 0.8503 - val_accuracy: 0.5073\n",
            "Epoch 147/300\n",
            "27/27 [==============================] - 0s 8ms/step - loss: 0.4612 - accuracy: 0.7726 - val_loss: 0.8542 - val_accuracy: 0.5317\n",
            "Epoch 148/300\n",
            "27/27 [==============================] - 0s 7ms/step - loss: 0.4614 - accuracy: 0.7619 - val_loss: 0.8617 - val_accuracy: 0.5146\n",
            "Epoch 149/300\n",
            "27/27 [==============================] - 0s 7ms/step - loss: 0.4620 - accuracy: 0.7746 - val_loss: 0.8586 - val_accuracy: 0.5098\n",
            "Epoch 150/300\n",
            "27/27 [==============================] - 0s 7ms/step - loss: 0.4585 - accuracy: 0.7755 - val_loss: 0.8698 - val_accuracy: 0.5098\n",
            "Epoch 151/300\n",
            "27/27 [==============================] - 0s 7ms/step - loss: 0.4454 - accuracy: 0.7876 - val_loss: 0.8574 - val_accuracy: 0.5171\n",
            "Epoch 152/300\n",
            "27/27 [==============================] - 0s 7ms/step - loss: 0.4643 - accuracy: 0.7777 - val_loss: 0.8675 - val_accuracy: 0.5317\n",
            "Epoch 153/300\n",
            "27/27 [==============================] - 0s 8ms/step - loss: 0.4537 - accuracy: 0.7715 - val_loss: 0.8802 - val_accuracy: 0.5195\n",
            "Epoch 154/300\n",
            "27/27 [==============================] - 0s 7ms/step - loss: 0.4495 - accuracy: 0.7814 - val_loss: 0.8883 - val_accuracy: 0.4976\n",
            "Epoch 155/300\n",
            "27/27 [==============================] - 0s 8ms/step - loss: 0.4491 - accuracy: 0.7876 - val_loss: 0.8768 - val_accuracy: 0.5244\n",
            "Epoch 156/300\n",
            "27/27 [==============================] - 0s 7ms/step - loss: 0.4351 - accuracy: 0.7966 - val_loss: 0.8885 - val_accuracy: 0.5244\n",
            "Epoch 157/300\n",
            "27/27 [==============================] - 0s 7ms/step - loss: 0.4353 - accuracy: 0.7889 - val_loss: 0.8973 - val_accuracy: 0.5024\n",
            "Epoch 158/300\n",
            "27/27 [==============================] - 0s 7ms/step - loss: 0.4466 - accuracy: 0.7801 - val_loss: 0.8996 - val_accuracy: 0.4927\n",
            "Epoch 159/300\n",
            "27/27 [==============================] - 0s 8ms/step - loss: 0.4296 - accuracy: 0.7957 - val_loss: 0.9045 - val_accuracy: 0.4951\n",
            "Epoch 160/300\n",
            "27/27 [==============================] - 0s 7ms/step - loss: 0.4129 - accuracy: 0.8017 - val_loss: 0.8968 - val_accuracy: 0.5122\n",
            "Epoch 161/300\n",
            "27/27 [==============================] - 0s 7ms/step - loss: 0.4328 - accuracy: 0.7953 - val_loss: 0.9157 - val_accuracy: 0.4902\n",
            "Epoch 162/300\n",
            "27/27 [==============================] - 0s 7ms/step - loss: 0.3950 - accuracy: 0.8282 - val_loss: 0.9188 - val_accuracy: 0.5146\n",
            "Epoch 163/300\n",
            "27/27 [==============================] - 0s 7ms/step - loss: 0.4265 - accuracy: 0.7931 - val_loss: 0.9048 - val_accuracy: 0.5195\n",
            "Epoch 164/300\n",
            "27/27 [==============================] - 0s 7ms/step - loss: 0.4334 - accuracy: 0.7952 - val_loss: 0.9267 - val_accuracy: 0.4902\n",
            "Epoch 165/300\n",
            "27/27 [==============================] - 0s 7ms/step - loss: 0.4192 - accuracy: 0.8159 - val_loss: 0.9095 - val_accuracy: 0.5268\n",
            "Epoch 166/300\n",
            "27/27 [==============================] - 0s 7ms/step - loss: 0.3957 - accuracy: 0.8255 - val_loss: 0.9238 - val_accuracy: 0.5049\n",
            "Epoch 167/300\n",
            "27/27 [==============================] - 0s 8ms/step - loss: 0.3901 - accuracy: 0.8416 - val_loss: 0.9224 - val_accuracy: 0.5098\n",
            "Epoch 168/300\n",
            "27/27 [==============================] - 0s 7ms/step - loss: 0.4116 - accuracy: 0.8102 - val_loss: 0.9278 - val_accuracy: 0.4976\n",
            "Epoch 169/300\n",
            "27/27 [==============================] - 0s 7ms/step - loss: 0.4057 - accuracy: 0.8161 - val_loss: 0.9277 - val_accuracy: 0.4878\n",
            "Epoch 170/300\n",
            "27/27 [==============================] - 0s 7ms/step - loss: 0.4038 - accuracy: 0.8135 - val_loss: 0.9415 - val_accuracy: 0.5000\n",
            "Epoch 171/300\n",
            "27/27 [==============================] - 0s 7ms/step - loss: 0.3813 - accuracy: 0.8304 - val_loss: 0.9523 - val_accuracy: 0.4829\n",
            "Epoch 172/300\n",
            "27/27 [==============================] - 0s 8ms/step - loss: 0.3876 - accuracy: 0.8246 - val_loss: 0.9520 - val_accuracy: 0.5098\n",
            "Epoch 173/300\n",
            "27/27 [==============================] - 0s 7ms/step - loss: 0.3845 - accuracy: 0.8289 - val_loss: 0.9450 - val_accuracy: 0.5073\n",
            "Epoch 174/300\n",
            "27/27 [==============================] - 0s 8ms/step - loss: 0.3849 - accuracy: 0.8285 - val_loss: 0.9615 - val_accuracy: 0.4829\n",
            "Epoch 175/300\n",
            "27/27 [==============================] - 0s 7ms/step - loss: 0.3770 - accuracy: 0.8293 - val_loss: 0.9475 - val_accuracy: 0.4902\n",
            "Epoch 176/300\n",
            "27/27 [==============================] - 0s 7ms/step - loss: 0.3780 - accuracy: 0.8337 - val_loss: 0.9577 - val_accuracy: 0.5049\n",
            "Epoch 177/300\n",
            "27/27 [==============================] - 0s 8ms/step - loss: 0.3792 - accuracy: 0.8261 - val_loss: 0.9661 - val_accuracy: 0.4854\n",
            "Epoch 178/300\n",
            "27/27 [==============================] - 0s 7ms/step - loss: 0.3683 - accuracy: 0.8427 - val_loss: 0.9812 - val_accuracy: 0.5000\n",
            "Epoch 179/300\n",
            "27/27 [==============================] - 0s 8ms/step - loss: 0.3673 - accuracy: 0.8333 - val_loss: 0.9777 - val_accuracy: 0.4902\n",
            "Epoch 180/300\n",
            "27/27 [==============================] - 0s 7ms/step - loss: 0.3748 - accuracy: 0.8242 - val_loss: 0.9763 - val_accuracy: 0.5000\n",
            "Epoch 181/300\n",
            "27/27 [==============================] - 0s 7ms/step - loss: 0.3595 - accuracy: 0.8552 - val_loss: 0.9943 - val_accuracy: 0.4927\n",
            "Epoch 182/300\n",
            "27/27 [==============================] - 0s 8ms/step - loss: 0.3656 - accuracy: 0.8230 - val_loss: 0.9725 - val_accuracy: 0.5073\n",
            "Epoch 183/300\n",
            "27/27 [==============================] - 0s 7ms/step - loss: 0.3655 - accuracy: 0.8433 - val_loss: 0.9861 - val_accuracy: 0.5244\n",
            "Epoch 184/300\n",
            "27/27 [==============================] - 0s 8ms/step - loss: 0.3536 - accuracy: 0.8396 - val_loss: 1.0076 - val_accuracy: 0.5049\n",
            "Epoch 185/300\n",
            "27/27 [==============================] - 0s 8ms/step - loss: 0.3605 - accuracy: 0.8538 - val_loss: 1.0133 - val_accuracy: 0.4854\n",
            "Epoch 186/300\n",
            "27/27 [==============================] - 0s 7ms/step - loss: 0.3518 - accuracy: 0.8453 - val_loss: 1.0195 - val_accuracy: 0.5171\n",
            "Epoch 187/300\n",
            "27/27 [==============================] - 0s 9ms/step - loss: 0.3637 - accuracy: 0.8250 - val_loss: 1.0144 - val_accuracy: 0.5073\n",
            "Epoch 188/300\n",
            "27/27 [==============================] - 0s 7ms/step - loss: 0.3624 - accuracy: 0.8588 - val_loss: 1.0174 - val_accuracy: 0.4976\n",
            "Epoch 189/300\n",
            "27/27 [==============================] - 0s 7ms/step - loss: 0.3359 - accuracy: 0.8734 - val_loss: 1.0378 - val_accuracy: 0.4976\n",
            "Epoch 190/300\n",
            "27/27 [==============================] - 0s 7ms/step - loss: 0.3339 - accuracy: 0.8607 - val_loss: 1.0249 - val_accuracy: 0.5220\n",
            "Epoch 191/300\n",
            "27/27 [==============================] - 0s 8ms/step - loss: 0.3408 - accuracy: 0.8399 - val_loss: 1.0358 - val_accuracy: 0.5098\n",
            "Epoch 192/300\n",
            "27/27 [==============================] - 0s 7ms/step - loss: 0.3214 - accuracy: 0.8637 - val_loss: 1.0316 - val_accuracy: 0.4976\n",
            "Epoch 193/300\n",
            "27/27 [==============================] - 0s 8ms/step - loss: 0.3538 - accuracy: 0.8447 - val_loss: 1.0493 - val_accuracy: 0.5146\n",
            "Epoch 194/300\n",
            "27/27 [==============================] - 0s 7ms/step - loss: 0.3307 - accuracy: 0.8541 - val_loss: 1.0435 - val_accuracy: 0.4927\n",
            "Epoch 195/300\n",
            "27/27 [==============================] - 0s 8ms/step - loss: 0.3207 - accuracy: 0.8574 - val_loss: 1.0398 - val_accuracy: 0.5024\n",
            "Epoch 196/300\n",
            "27/27 [==============================] - 0s 8ms/step - loss: 0.3377 - accuracy: 0.8569 - val_loss: 1.0303 - val_accuracy: 0.5073\n",
            "Epoch 197/300\n",
            "27/27 [==============================] - 0s 7ms/step - loss: 0.3297 - accuracy: 0.8775 - val_loss: 1.0620 - val_accuracy: 0.5000\n",
            "Epoch 198/300\n",
            "27/27 [==============================] - 0s 7ms/step - loss: 0.3397 - accuracy: 0.8373 - val_loss: 1.0598 - val_accuracy: 0.5122\n",
            "Epoch 199/300\n",
            "27/27 [==============================] - 0s 7ms/step - loss: 0.3431 - accuracy: 0.8439 - val_loss: 1.0444 - val_accuracy: 0.5171\n",
            "Epoch 200/300\n",
            "27/27 [==============================] - 0s 7ms/step - loss: 0.3042 - accuracy: 0.8692 - val_loss: 1.0715 - val_accuracy: 0.5146\n",
            "Epoch 201/300\n",
            "27/27 [==============================] - 0s 7ms/step - loss: 0.3184 - accuracy: 0.8646 - val_loss: 1.0755 - val_accuracy: 0.5244\n",
            "Epoch 202/300\n",
            "27/27 [==============================] - 0s 7ms/step - loss: 0.3040 - accuracy: 0.8668 - val_loss: 1.0623 - val_accuracy: 0.5220\n",
            "Epoch 203/300\n",
            "27/27 [==============================] - 0s 8ms/step - loss: 0.2977 - accuracy: 0.8725 - val_loss: 1.0812 - val_accuracy: 0.5268\n",
            "Epoch 204/300\n",
            "27/27 [==============================] - 0s 7ms/step - loss: 0.2948 - accuracy: 0.8847 - val_loss: 1.0720 - val_accuracy: 0.5293\n",
            "Epoch 205/300\n",
            "27/27 [==============================] - 0s 8ms/step - loss: 0.2976 - accuracy: 0.8673 - val_loss: 1.0903 - val_accuracy: 0.5146\n",
            "Epoch 206/300\n",
            "27/27 [==============================] - 0s 7ms/step - loss: 0.3008 - accuracy: 0.8477 - val_loss: 1.0742 - val_accuracy: 0.5293\n",
            "Epoch 207/300\n",
            "27/27 [==============================] - 0s 8ms/step - loss: 0.2709 - accuracy: 0.8953 - val_loss: 1.0891 - val_accuracy: 0.5122\n",
            "Epoch 208/300\n",
            "27/27 [==============================] - 0s 7ms/step - loss: 0.2866 - accuracy: 0.8889 - val_loss: 1.0933 - val_accuracy: 0.5366\n",
            "Epoch 209/300\n",
            "27/27 [==============================] - 0s 8ms/step - loss: 0.2925 - accuracy: 0.8794 - val_loss: 1.0962 - val_accuracy: 0.5268\n",
            "Epoch 210/300\n",
            "27/27 [==============================] - 0s 7ms/step - loss: 0.2884 - accuracy: 0.8892 - val_loss: 1.1151 - val_accuracy: 0.5122\n",
            "Epoch 211/300\n",
            "27/27 [==============================] - 0s 8ms/step - loss: 0.2905 - accuracy: 0.8675 - val_loss: 1.1133 - val_accuracy: 0.5317\n",
            "Epoch 212/300\n",
            "27/27 [==============================] - 0s 7ms/step - loss: 0.2686 - accuracy: 0.8827 - val_loss: 1.1154 - val_accuracy: 0.5146\n",
            "Epoch 213/300\n",
            "27/27 [==============================] - 0s 8ms/step - loss: 0.2887 - accuracy: 0.8635 - val_loss: 1.1203 - val_accuracy: 0.5049\n",
            "Epoch 214/300\n",
            "27/27 [==============================] - 0s 7ms/step - loss: 0.2582 - accuracy: 0.8931 - val_loss: 1.1151 - val_accuracy: 0.5073\n",
            "Epoch 215/300\n",
            "27/27 [==============================] - 0s 8ms/step - loss: 0.2790 - accuracy: 0.8694 - val_loss: 1.1258 - val_accuracy: 0.5024\n",
            "Epoch 216/300\n",
            "27/27 [==============================] - 0s 8ms/step - loss: 0.2705 - accuracy: 0.8938 - val_loss: 1.1029 - val_accuracy: 0.5122\n",
            "Epoch 217/300\n",
            "27/27 [==============================] - 0s 9ms/step - loss: 0.2790 - accuracy: 0.8707 - val_loss: 1.0994 - val_accuracy: 0.5098\n",
            "Epoch 218/300\n",
            "27/27 [==============================] - 0s 8ms/step - loss: 0.2771 - accuracy: 0.8786 - val_loss: 1.1031 - val_accuracy: 0.5171\n",
            "Epoch 219/300\n",
            "27/27 [==============================] - 0s 9ms/step - loss: 0.2706 - accuracy: 0.8814 - val_loss: 1.1432 - val_accuracy: 0.5098\n",
            "Epoch 220/300\n",
            "27/27 [==============================] - 0s 10ms/step - loss: 0.2841 - accuracy: 0.8682 - val_loss: 1.1380 - val_accuracy: 0.5122\n",
            "Epoch 221/300\n",
            "27/27 [==============================] - 0s 7ms/step - loss: 0.2771 - accuracy: 0.8723 - val_loss: 1.1460 - val_accuracy: 0.5049\n",
            "Epoch 222/300\n",
            "27/27 [==============================] - 0s 7ms/step - loss: 0.2691 - accuracy: 0.8737 - val_loss: 1.1597 - val_accuracy: 0.5293\n",
            "Epoch 223/300\n",
            "27/27 [==============================] - 0s 7ms/step - loss: 0.2598 - accuracy: 0.8785 - val_loss: 1.1456 - val_accuracy: 0.5073\n",
            "Epoch 224/300\n",
            "27/27 [==============================] - 0s 7ms/step - loss: 0.2600 - accuracy: 0.8948 - val_loss: 1.1532 - val_accuracy: 0.5146\n",
            "Epoch 225/300\n",
            "27/27 [==============================] - 0s 8ms/step - loss: 0.2597 - accuracy: 0.8897 - val_loss: 1.1530 - val_accuracy: 0.5049\n",
            "Epoch 226/300\n",
            "27/27 [==============================] - 0s 7ms/step - loss: 0.2611 - accuracy: 0.8853 - val_loss: 1.1593 - val_accuracy: 0.5098\n",
            "Epoch 227/300\n",
            "27/27 [==============================] - 0s 8ms/step - loss: 0.2334 - accuracy: 0.9147 - val_loss: 1.1693 - val_accuracy: 0.5171\n",
            "Epoch 228/300\n",
            "27/27 [==============================] - 0s 8ms/step - loss: 0.2621 - accuracy: 0.8938 - val_loss: 1.1757 - val_accuracy: 0.5220\n",
            "Epoch 229/300\n",
            "27/27 [==============================] - 0s 8ms/step - loss: 0.2436 - accuracy: 0.8914 - val_loss: 1.1865 - val_accuracy: 0.5171\n",
            "Epoch 230/300\n",
            "27/27 [==============================] - 0s 8ms/step - loss: 0.2306 - accuracy: 0.9160 - val_loss: 1.1913 - val_accuracy: 0.5146\n",
            "Epoch 231/300\n",
            "27/27 [==============================] - 0s 7ms/step - loss: 0.2536 - accuracy: 0.8871 - val_loss: 1.2044 - val_accuracy: 0.5000\n",
            "Epoch 232/300\n",
            "27/27 [==============================] - 0s 8ms/step - loss: 0.2299 - accuracy: 0.8955 - val_loss: 1.1895 - val_accuracy: 0.4976\n",
            "Epoch 233/300\n",
            "27/27 [==============================] - 0s 7ms/step - loss: 0.2601 - accuracy: 0.8776 - val_loss: 1.1909 - val_accuracy: 0.5146\n",
            "Epoch 234/300\n",
            "27/27 [==============================] - 0s 8ms/step - loss: 0.2301 - accuracy: 0.9088 - val_loss: 1.1813 - val_accuracy: 0.5171\n",
            "Epoch 235/300\n",
            "27/27 [==============================] - 0s 9ms/step - loss: 0.2361 - accuracy: 0.9093 - val_loss: 1.2147 - val_accuracy: 0.5171\n",
            "Epoch 236/300\n",
            "27/27 [==============================] - 0s 8ms/step - loss: 0.2239 - accuracy: 0.9061 - val_loss: 1.2053 - val_accuracy: 0.5244\n",
            "Epoch 237/300\n",
            "27/27 [==============================] - 0s 8ms/step - loss: 0.2346 - accuracy: 0.9064 - val_loss: 1.2123 - val_accuracy: 0.5244\n",
            "Epoch 238/300\n",
            "27/27 [==============================] - 0s 8ms/step - loss: 0.2370 - accuracy: 0.8982 - val_loss: 1.2265 - val_accuracy: 0.5122\n",
            "Epoch 239/300\n",
            "27/27 [==============================] - 0s 8ms/step - loss: 0.2302 - accuracy: 0.8875 - val_loss: 1.2294 - val_accuracy: 0.5073\n",
            "Epoch 240/300\n",
            "27/27 [==============================] - 0s 8ms/step - loss: 0.2135 - accuracy: 0.9139 - val_loss: 1.2192 - val_accuracy: 0.5098\n",
            "Epoch 241/300\n",
            "27/27 [==============================] - 0s 8ms/step - loss: 0.2247 - accuracy: 0.9045 - val_loss: 1.2439 - val_accuracy: 0.5024\n",
            "Epoch 242/300\n",
            "27/27 [==============================] - 0s 7ms/step - loss: 0.2110 - accuracy: 0.9245 - val_loss: 1.2492 - val_accuracy: 0.5024\n",
            "Epoch 243/300\n",
            "27/27 [==============================] - 0s 8ms/step - loss: 0.2269 - accuracy: 0.8827 - val_loss: 1.2225 - val_accuracy: 0.5073\n",
            "Epoch 244/300\n",
            "27/27 [==============================] - 0s 8ms/step - loss: 0.2250 - accuracy: 0.9023 - val_loss: 1.2492 - val_accuracy: 0.4976\n",
            "Epoch 245/300\n",
            "27/27 [==============================] - 0s 7ms/step - loss: 0.2260 - accuracy: 0.9034 - val_loss: 1.2622 - val_accuracy: 0.5122\n",
            "Epoch 246/300\n",
            "27/27 [==============================] - 0s 7ms/step - loss: 0.2196 - accuracy: 0.9190 - val_loss: 1.2522 - val_accuracy: 0.5195\n",
            "Epoch 247/300\n",
            "27/27 [==============================] - 0s 8ms/step - loss: 0.2011 - accuracy: 0.9161 - val_loss: 1.2825 - val_accuracy: 0.5000\n",
            "Epoch 248/300\n",
            "27/27 [==============================] - 0s 9ms/step - loss: 0.2273 - accuracy: 0.9091 - val_loss: 1.2380 - val_accuracy: 0.5171\n",
            "Epoch 249/300\n",
            "27/27 [==============================] - 0s 8ms/step - loss: 0.2196 - accuracy: 0.8943 - val_loss: 1.2977 - val_accuracy: 0.5073\n",
            "Epoch 250/300\n",
            "27/27 [==============================] - 0s 7ms/step - loss: 0.2159 - accuracy: 0.9088 - val_loss: 1.2625 - val_accuracy: 0.5244\n",
            "Epoch 251/300\n",
            "27/27 [==============================] - 0s 7ms/step - loss: 0.1978 - accuracy: 0.9167 - val_loss: 1.2795 - val_accuracy: 0.5122\n",
            "Epoch 252/300\n",
            "27/27 [==============================] - 0s 8ms/step - loss: 0.2113 - accuracy: 0.9130 - val_loss: 1.2955 - val_accuracy: 0.5049\n",
            "Epoch 253/300\n",
            "27/27 [==============================] - 0s 9ms/step - loss: 0.2003 - accuracy: 0.9177 - val_loss: 1.3140 - val_accuracy: 0.5098\n",
            "Epoch 254/300\n",
            "27/27 [==============================] - 0s 7ms/step - loss: 0.2010 - accuracy: 0.9115 - val_loss: 1.2912 - val_accuracy: 0.5098\n",
            "Epoch 255/300\n",
            "27/27 [==============================] - 0s 8ms/step - loss: 0.1910 - accuracy: 0.9182 - val_loss: 1.2931 - val_accuracy: 0.5024\n",
            "Epoch 256/300\n",
            "27/27 [==============================] - 0s 8ms/step - loss: 0.1780 - accuracy: 0.9382 - val_loss: 1.3212 - val_accuracy: 0.5000\n",
            "Epoch 257/300\n",
            "27/27 [==============================] - 0s 7ms/step - loss: 0.1815 - accuracy: 0.9298 - val_loss: 1.3104 - val_accuracy: 0.5049\n",
            "Epoch 258/300\n",
            "27/27 [==============================] - 0s 8ms/step - loss: 0.1657 - accuracy: 0.9377 - val_loss: 1.3498 - val_accuracy: 0.4902\n",
            "Epoch 259/300\n",
            "27/27 [==============================] - 0s 7ms/step - loss: 0.1862 - accuracy: 0.9216 - val_loss: 1.2926 - val_accuracy: 0.5122\n",
            "Epoch 260/300\n",
            "27/27 [==============================] - 0s 8ms/step - loss: 0.1888 - accuracy: 0.9216 - val_loss: 1.3380 - val_accuracy: 0.5049\n",
            "Epoch 261/300\n",
            "27/27 [==============================] - 0s 8ms/step - loss: 0.2183 - accuracy: 0.9069 - val_loss: 1.3384 - val_accuracy: 0.5024\n",
            "Epoch 262/300\n",
            "27/27 [==============================] - 0s 7ms/step - loss: 0.1766 - accuracy: 0.9362 - val_loss: 1.3656 - val_accuracy: 0.5024\n",
            "Epoch 263/300\n",
            "27/27 [==============================] - 0s 8ms/step - loss: 0.1727 - accuracy: 0.9241 - val_loss: 1.3433 - val_accuracy: 0.5122\n",
            "Epoch 264/300\n",
            "27/27 [==============================] - 0s 8ms/step - loss: 0.1751 - accuracy: 0.9308 - val_loss: 1.3407 - val_accuracy: 0.5098\n",
            "Epoch 265/300\n",
            "27/27 [==============================] - 0s 7ms/step - loss: 0.1847 - accuracy: 0.9291 - val_loss: 1.3332 - val_accuracy: 0.5098\n",
            "Epoch 266/300\n",
            "27/27 [==============================] - 0s 8ms/step - loss: 0.1667 - accuracy: 0.9304 - val_loss: 1.3578 - val_accuracy: 0.5073\n",
            "Epoch 267/300\n",
            "27/27 [==============================] - 0s 8ms/step - loss: 0.1678 - accuracy: 0.9300 - val_loss: 1.3666 - val_accuracy: 0.5098\n",
            "Epoch 268/300\n",
            "27/27 [==============================] - 0s 8ms/step - loss: 0.1880 - accuracy: 0.9193 - val_loss: 1.3348 - val_accuracy: 0.5146\n",
            "Epoch 269/300\n",
            "27/27 [==============================] - 0s 7ms/step - loss: 0.1603 - accuracy: 0.9389 - val_loss: 1.3977 - val_accuracy: 0.5049\n",
            "Epoch 270/300\n",
            "27/27 [==============================] - 0s 8ms/step - loss: 0.1665 - accuracy: 0.9328 - val_loss: 1.3808 - val_accuracy: 0.5220\n",
            "Epoch 271/300\n",
            "27/27 [==============================] - 0s 7ms/step - loss: 0.1905 - accuracy: 0.9183 - val_loss: 1.3610 - val_accuracy: 0.5024\n",
            "Epoch 272/300\n",
            "27/27 [==============================] - 0s 8ms/step - loss: 0.1708 - accuracy: 0.9279 - val_loss: 1.3682 - val_accuracy: 0.5122\n",
            "Epoch 273/300\n",
            "27/27 [==============================] - 0s 8ms/step - loss: 0.1564 - accuracy: 0.9443 - val_loss: 1.3967 - val_accuracy: 0.5146\n",
            "Epoch 274/300\n",
            "27/27 [==============================] - 0s 7ms/step - loss: 0.1683 - accuracy: 0.9201 - val_loss: 1.3654 - val_accuracy: 0.5049\n",
            "Epoch 275/300\n",
            "27/27 [==============================] - 0s 7ms/step - loss: 0.1655 - accuracy: 0.9378 - val_loss: 1.3886 - val_accuracy: 0.4927\n",
            "Epoch 276/300\n",
            "27/27 [==============================] - 0s 8ms/step - loss: 0.2587 - accuracy: 0.8998 - val_loss: 1.3930 - val_accuracy: 0.5049\n",
            "Epoch 277/300\n",
            "27/27 [==============================] - 0s 10ms/step - loss: 0.1835 - accuracy: 0.9218 - val_loss: 1.4053 - val_accuracy: 0.5122\n",
            "Epoch 278/300\n",
            "27/27 [==============================] - 0s 9ms/step - loss: 0.1647 - accuracy: 0.9363 - val_loss: 1.4116 - val_accuracy: 0.5098\n",
            "Epoch 279/300\n",
            "27/27 [==============================] - 0s 9ms/step - loss: 0.1482 - accuracy: 0.9447 - val_loss: 1.3884 - val_accuracy: 0.5146\n",
            "Epoch 280/300\n",
            "27/27 [==============================] - 0s 9ms/step - loss: 0.1607 - accuracy: 0.9339 - val_loss: 1.3936 - val_accuracy: 0.5244\n",
            "Epoch 281/300\n",
            "27/27 [==============================] - 0s 10ms/step - loss: 0.1595 - accuracy: 0.9277 - val_loss: 1.3942 - val_accuracy: 0.5122\n",
            "Epoch 282/300\n",
            "27/27 [==============================] - 0s 10ms/step - loss: 0.1394 - accuracy: 0.9523 - val_loss: 1.4127 - val_accuracy: 0.5244\n",
            "Epoch 283/300\n",
            "27/27 [==============================] - 0s 9ms/step - loss: 0.1482 - accuracy: 0.9429 - val_loss: 1.3993 - val_accuracy: 0.5122\n",
            "Epoch 284/300\n",
            "27/27 [==============================] - 0s 8ms/step - loss: 0.1479 - accuracy: 0.9384 - val_loss: 1.4133 - val_accuracy: 0.5268\n",
            "Epoch 285/300\n",
            "27/27 [==============================] - 0s 8ms/step - loss: 0.1502 - accuracy: 0.9440 - val_loss: 1.4121 - val_accuracy: 0.5098\n",
            "Epoch 286/300\n",
            "27/27 [==============================] - 0s 8ms/step - loss: 0.1193 - accuracy: 0.9552 - val_loss: 1.4182 - val_accuracy: 0.5268\n",
            "Epoch 287/300\n",
            "27/27 [==============================] - 0s 8ms/step - loss: 0.1346 - accuracy: 0.9526 - val_loss: 1.4481 - val_accuracy: 0.5049\n",
            "Epoch 288/300\n",
            "27/27 [==============================] - 0s 9ms/step - loss: 0.1741 - accuracy: 0.9268 - val_loss: 1.4511 - val_accuracy: 0.5146\n",
            "Epoch 289/300\n",
            "27/27 [==============================] - 0s 8ms/step - loss: 0.1450 - accuracy: 0.9370 - val_loss: 1.4451 - val_accuracy: 0.4902\n",
            "Epoch 290/300\n",
            "27/27 [==============================] - 0s 8ms/step - loss: 0.1269 - accuracy: 0.9599 - val_loss: 1.4550 - val_accuracy: 0.5220\n",
            "Epoch 291/300\n",
            "27/27 [==============================] - 0s 7ms/step - loss: 0.1340 - accuracy: 0.9516 - val_loss: 1.4286 - val_accuracy: 0.5195\n",
            "Epoch 292/300\n",
            "27/27 [==============================] - 0s 8ms/step - loss: 0.1372 - accuracy: 0.9472 - val_loss: 1.4821 - val_accuracy: 0.5000\n",
            "Epoch 293/300\n",
            "27/27 [==============================] - 0s 8ms/step - loss: 0.1307 - accuracy: 0.9539 - val_loss: 1.4688 - val_accuracy: 0.5098\n",
            "Epoch 294/300\n",
            "27/27 [==============================] - 0s 8ms/step - loss: 0.1370 - accuracy: 0.9422 - val_loss: 1.4690 - val_accuracy: 0.5146\n",
            "Epoch 295/300\n",
            "27/27 [==============================] - 0s 8ms/step - loss: 0.1466 - accuracy: 0.9393 - val_loss: 1.4794 - val_accuracy: 0.5195\n",
            "Epoch 296/300\n",
            "27/27 [==============================] - 0s 7ms/step - loss: 0.1488 - accuracy: 0.9414 - val_loss: 1.4875 - val_accuracy: 0.5049\n",
            "Epoch 297/300\n",
            "27/27 [==============================] - 0s 8ms/step - loss: 0.1456 - accuracy: 0.9485 - val_loss: 1.4671 - val_accuracy: 0.4976\n",
            "Epoch 298/300\n",
            "27/27 [==============================] - 0s 7ms/step - loss: 0.1248 - accuracy: 0.9572 - val_loss: 1.4998 - val_accuracy: 0.5195\n",
            "Epoch 299/300\n",
            "27/27 [==============================] - 0s 8ms/step - loss: 0.1277 - accuracy: 0.9509 - val_loss: 1.4819 - val_accuracy: 0.5195\n",
            "Epoch 300/300\n",
            "27/27 [==============================] - 0s 7ms/step - loss: 0.1407 - accuracy: 0.9388 - val_loss: 1.5100 - val_accuracy: 0.5049\n"
          ],
          "name": "stdout"
        }
      ]
    },
    {
      "cell_type": "markdown",
      "metadata": {
        "id": "iZX3alFNWmPU"
      },
      "source": [
        "#### -o- Plotting loss per iteration -o-\n"
      ]
    },
    {
      "cell_type": "code",
      "metadata": {
        "id": "Qh1XfHs1WmPU",
        "colab": {
          "base_uri": "https://localhost:8080/",
          "height": 265
        },
        "outputId": "cbd4a4d9-edc0-4aee-edaf-a37b31584330"
      },
      "source": [
        "plt.plot(history.history['loss'], label='loss')\n",
        "plt.plot(history.history['val_loss'], label='val_loss')\n",
        "plt.legend()\n",
        "plt.show()"
      ],
      "execution_count": null,
      "outputs": [
        {
          "output_type": "display_data",
          "data": {
            "image/png": "[encoded data removed]",
            "text/plain": [
              "<Figure size 432x288 with 1 Axes>"
            ]
          },
          "metadata": {
            "tags": [],
            "needs_background": "light"
          }
        }
      ]
    },
    {
      "cell_type": "markdown",
      "metadata": {
        "id": "Epcp35gQXR9w"
      },
      "source": [
        "#### -o- Plotting loss per iteration -o-\n"
      ]
    },
    {
      "cell_type": "code",
      "metadata": {
        "id": "HNFRxpWGXR9w",
        "colab": {
          "base_uri": "https://localhost:8080/",
          "height": 265
        },
        "outputId": "fe682b7c-f2a6-4210-8b74-076e3c7a1464"
      },
      "source": [
        "plt.plot(history.history['accuracy'], label='accuracy')\n",
        "plt.plot(history.history['val_accuracy'], label='val_accuracy')\n",
        "plt.legend()\n",
        "plt.show()"
      ],
      "execution_count": null,
      "outputs": [
        {
          "output_type": "display_data",
          "data": {
            "image/png": "[encoded data removed]",
            "text/plain": [
              "<Figure size 432x288 with 1 Axes>"
            ]
          },
          "metadata": {
            "tags": [],
            "needs_background": "light"
          }
        }
      ]
    },
    {
      "cell_type": "markdown",
      "metadata": {
        "id": "4TbyVo4UZBS_"
      },
      "source": [
        "## In some cases, it may be possible to predict stock returns, but for given data, it is extremely difficult to train any model that fits nicely. As you can see, we tried three models, all of which performed dismally, and Section 2 only appears to work okaish."
      ]
    }
  ]
}