{
  "nbformat": 4,
  "nbformat_minor": 0,
  "metadata": {
    "colab": {
      "name": "Text_Preprocessing.ipynb",
      "provenance": [],
      "collapsed_sections": [],
      "toc_visible": true
    },
    "kernelspec": {
      "name": "python3",
      "display_name": "Python 3"
    },
    "language_info": {
      "name": "python"
    }
  },
  "cells": [
    {
      "cell_type": "markdown",
      "metadata": {
        "id": "YWVWkPAcsklZ"
      },
      "source": [
        "# Text Preprocessing"
      ]
    },
    {
      "cell_type": "code",
      "metadata": {
        "id": "OU-hQpBuDIBf"
      },
      "source": [
        "import tensorflow as tf"
      ],
      "execution_count": null,
      "outputs": []
    },
    {
      "cell_type": "markdown",
      "metadata": {
        "id": "zKhaqITisoMM"
      },
      "source": [
        "## Adding a dataset"
      ]
    },
    {
      "cell_type": "code",
      "metadata": {
        "id": "3Ebp_GgGDUVz"
      },
      "source": [
        "sentences = [\n",
        "    \"Her face a river.\",\n",
        "    \"This is a curse,\",\n",
        "    \"a blessing too.\",\n",
        "    \"And then you leave and I stand outside screaming.\",\n",
        "    \"You leave and rain runs through me for days.\",\n",
        "    \"I call every storm that hits me by your name.\"\n",
        "]"
      ],
      "execution_count": null,
      "outputs": []
    },
    {
      "cell_type": "markdown",
      "metadata": {
        "id": "r9MecMfMnFBE"
      },
      "source": [
        "## Essentials"
      ]
    },
    {
      "cell_type": "markdown",
      "metadata": {
        "id": "rpSewcPvstZH"
      },
      "source": [
        "### Fitting Tokenizer"
      ]
    },
    {
      "cell_type": "code",
      "metadata": {
        "id": "36OEr2pjNEUg"
      },
      "source": [
        "MAX_VOCAB_SIZE = 20000\n",
        "\n",
        "tokenizer = tf.keras.preprocessing.text.Tokenizer(num_words=MAX_VOCAB_SIZE)\n",
        "tokenizer.fit_on_texts(sentences)\n",
        "sequences = tokenizer.texts_to_sequences(sentences)"
      ],
      "execution_count": null,
      "outputs": []
    },
    {
      "cell_type": "code",
      "metadata": {
        "colab": {
          "base_uri": "https://localhost:8080/"
        },
        "id": "HbILnGnKNQMW",
        "outputId": "1a50870e-1a31-4688-b6dc-9f65443a56dc"
      },
      "source": [
        "print(sequences)"
      ],
      "execution_count": null,
      "outputs": [
        {
          "output_type": "stream",
          "text": [
            "[[7, 8, 1, 9], [10, 11, 1, 12], [1, 13, 14], [2, 15, 3, 4, 2, 5, 16, 17, 18], [3, 4, 2, 19, 20, 21, 6, 22, 23], [5, 24, 25, 26, 27, 28, 6, 29, 30, 31]]\n"
          ],
          "name": "stdout"
        }
      ]
    },
    {
      "cell_type": "code",
      "metadata": {
        "colab": {
          "base_uri": "https://localhost:8080/"
        },
        "id": "KQAzZVEIN7LP",
        "outputId": "d32d477a-ff3f-476e-80af-a50bc647d037"
      },
      "source": [
        "print(tokenizer.word_index)"
      ],
      "execution_count": null,
      "outputs": [
        {
          "output_type": "stream",
          "text": [
            "{'a': 1, 'and': 2, 'you': 3, 'leave': 4, 'i': 5, 'me': 6, 'her': 7, 'face': 8, 'river': 9, 'this': 10, 'is': 11, 'curse': 12, 'blessing': 13, 'too': 14, 'then': 15, 'stand': 16, 'outside': 17, 'screaming': 18, 'rain': 19, 'runs': 20, 'through': 21, 'for': 22, 'days': 23, 'call': 24, 'every': 25, 'storm': 26, 'that': 27, 'hits': 28, 'by': 29, 'your': 30, 'name': 31}\n"
          ],
          "name": "stdout"
        }
      ]
    },
    {
      "cell_type": "markdown",
      "metadata": {
        "id": "lFPgmBqvs5aZ"
      },
      "source": [
        "### Padding the sequences\n",
        "\n",
        "Padding sequences so that we get a N x T matrix, which can be used as an input matrix in most of the models (eg. RNN)."
      ]
    },
    {
      "cell_type": "code",
      "metadata": {
        "colab": {
          "base_uri": "https://localhost:8080/"
        },
        "id": "-nWN5yZiOaxf",
        "outputId": "2a99a12c-29f8-4f67-fb5c-c56599b540c1"
      },
      "source": [
        "data = tf.keras.preprocessing.sequence.pad_sequences(sequences)\n",
        "print(data)"
      ],
      "execution_count": null,
      "outputs": [
        {
          "output_type": "stream",
          "text": [
            "[[ 0  0  0  0  0  0  7  8  1  9]\n",
            " [ 0  0  0  0  0  0 10 11  1 12]\n",
            " [ 0  0  0  0  0  0  0  1 13 14]\n",
            " [ 0  2 15  3  4  2  5 16 17 18]\n",
            " [ 0  3  4  2 19 20 21  6 22 23]\n",
            " [ 5 24 25 26 27 28  6 29 30 31]]\n"
          ],
          "name": "stdout"
        }
      ]
    },
    {
      "cell_type": "markdown",
      "metadata": {
        "id": "B3POw9T0s-LB"
      },
      "source": [
        "### Custom length padding"
      ]
    },
    {
      "cell_type": "code",
      "metadata": {
        "colab": {
          "base_uri": "https://localhost:8080/"
        },
        "id": "VneGY6DQOsH-",
        "outputId": "5255aeb7-9999-4c00-b573-85264f624b14"
      },
      "source": [
        "MAX_SEQUENCE_LENGTH = 10\n",
        "data = tf.keras.preprocessing.sequence.pad_sequences(sequences, maxlen=MAX_SEQUENCE_LENGTH)\n",
        "print(data)"
      ],
      "execution_count": null,
      "outputs": [
        {
          "output_type": "stream",
          "text": [
            "[[ 0  0  0  0  0  0  7  8  1  9]\n",
            " [ 0  0  0  0  0  0 10 11  1 12]\n",
            " [ 0  0  0  0  0  0  0  1 13 14]\n",
            " [ 0  2 15  3  4  2  5 16 17 18]\n",
            " [ 0  3  4  2 19 20 21  6 22 23]\n",
            " [ 5 24 25 26 27 28  6 29 30 31]]\n"
          ],
          "name": "stdout"
        }
      ]
    },
    {
      "cell_type": "markdown",
      "metadata": {
        "id": "YJtw5_almwlH"
      },
      "source": [
        "## Extras"
      ]
    },
    {
      "cell_type": "markdown",
      "metadata": {
        "id": "xDj8IheGtV_T"
      },
      "source": [
        "### Custom length Post padding"
      ]
    },
    {
      "cell_type": "code",
      "metadata": {
        "colab": {
          "base_uri": "https://localhost:8080/"
        },
        "id": "52ppOVk7OvW4",
        "outputId": "1e1e46d6-b789-4100-b738-cc5d5ef0f672"
      },
      "source": [
        "data = tf.keras.preprocessing.sequence.pad_sequences(sequences, maxlen=MAX_SEQUENCE_LENGTH, padding='post')\n",
        "print(data)"
      ],
      "execution_count": null,
      "outputs": [
        {
          "output_type": "stream",
          "text": [
            "[[ 7  8  1  9  0  0  0  0  0  0]\n",
            " [10 11  1 12  0  0  0  0  0  0]\n",
            " [ 1 13 14  0  0  0  0  0  0  0]\n",
            " [ 2 15  3  4  2  5 16 17 18  0]\n",
            " [ 3  4  2 19 20 21  6 22 23  0]\n",
            " [ 5 24 25 26 27 28  6 29 30 31]]\n"
          ],
          "name": "stdout"
        }
      ]
    },
    {
      "cell_type": "markdown",
      "metadata": {
        "id": "UvRmArc6tMIL"
      },
      "source": [
        "### Too much padding"
      ]
    },
    {
      "cell_type": "code",
      "metadata": {
        "colab": {
          "base_uri": "https://localhost:8080/"
        },
        "id": "I6UWs6e1O3Ka",
        "outputId": "51ae7a2e-b5cc-4821-8285-b33e6a0ac290"
      },
      "source": [
        "data = tf.keras.preprocessing.sequence.pad_sequences(sequences, maxlen=12)\n",
        "print(data)"
      ],
      "execution_count": null,
      "outputs": [
        {
          "output_type": "stream",
          "text": [
            "[[ 0  0  0  0  0  0  0  0  7  8  1  9]\n",
            " [ 0  0  0  0  0  0  0  0 10 11  1 12]\n",
            " [ 0  0  0  0  0  0  0  0  0  1 13 14]\n",
            " [ 0  0  0  2 15  3  4  2  5 16 17 18]\n",
            " [ 0  0  0  3  4  2 19 20 21  6 22 23]\n",
            " [ 0  0  5 24 25 26 27 28  6 29 30 31]]\n"
          ],
          "name": "stdout"
        }
      ]
    },
    {
      "cell_type": "markdown",
      "metadata": {
        "id": "N15wvFlktIYa"
      },
      "source": [
        "### Truncation"
      ]
    },
    {
      "cell_type": "code",
      "metadata": {
        "colab": {
          "base_uri": "https://localhost:8080/"
        },
        "id": "jzrQAPnaPFsY",
        "outputId": "c8a4b86a-37fe-45a1-fbe6-fa5cf7b39378"
      },
      "source": [
        "data = tf.keras.preprocessing.sequence.pad_sequences(sequences, maxlen=8)\n",
        "print(data)"
      ],
      "execution_count": null,
      "outputs": [
        {
          "output_type": "stream",
          "text": [
            "[[ 0  0  0  0  7  8  1  9]\n",
            " [ 0  0  0  0 10 11  1 12]\n",
            " [ 0  0  0  0  0  1 13 14]\n",
            " [15  3  4  2  5 16 17 18]\n",
            " [ 4  2 19 20 21  6 22 23]\n",
            " [25 26 27 28  6 29 30 31]]\n"
          ],
          "name": "stdout"
        }
      ]
    },
    {
      "cell_type": "code",
      "metadata": {
        "colab": {
          "base_uri": "https://localhost:8080/"
        },
        "id": "gR51KRobPk57",
        "outputId": "13179f85-9534-4680-ab33-522b3f8b85a6"
      },
      "source": [
        "data = tf.keras.preprocessing.sequence.pad_sequences(sequences, maxlen=8, truncating='post')\n",
        "print(data)"
      ],
      "execution_count": null,
      "outputs": [
        {
          "output_type": "stream",
          "text": [
            "[[ 0  0  0  0  7  8  1  9]\n",
            " [ 0  0  0  0 10 11  1 12]\n",
            " [ 0  0  0  0  0  1 13 14]\n",
            " [ 2 15  3  4  2  5 16 17]\n",
            " [ 3  4  2 19 20 21  6 22]\n",
            " [ 5 24 25 26 27 28  6 29]]\n"
          ],
          "name": "stdout"
        }
      ]
    }
  ]
}