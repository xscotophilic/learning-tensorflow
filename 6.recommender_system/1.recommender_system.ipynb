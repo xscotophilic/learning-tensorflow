{
  "nbformat": 4,
  "nbformat_minor": 0,
  "metadata": {
    "colab": {
      "name": "recommender_system.ipynb",
      "provenance": [],
      "collapsed_sections": [],
      "toc_visible": true
    },
    "kernelspec": {
      "name": "python3",
      "display_name": "Python 3"
    },
    "language_info": {
      "name": "python"
    }
  },
  "cells": [
    {
      "cell_type": "markdown",
      "metadata": {
        "id": "F9H-NK9f9-i1"
      },
      "source": [
        "# Recommender system\n",
        "\n",
        "### How to recommend?\n",
        "\n",
        "suppose: User u1 gave Rick and Morty a 4, Bojack Horseman got a 4, and Wolfwalkers got a 4.\n",
        "User u1 is most likely a lover of Animation and Adventure.\n",
        "\n",
        "---\n",
        "\n",
        "***Given a dataset of triples: (user, item, rating) Fit a model to the data: function(user, item) → rating.***\n",
        "\n",
        "---\n",
        "\n",
        "**What should it do?**\n",
        "\n",
        " If the user u1 and the movie m1 were in the dataset, the projected rating should be close to the true rating.\n",
        "Even if movie m1 did not appear in the training set, the function should predict what user u1 would rank it.\n",
        "\n",
        "Since our model can predict ratings for unseen movies, this is easy. Given a user, get predicted for every unseen movie, Sort by predicted rating (descending), Recommend movies with the highest predicted rating.\n"
      ]
    },
    {
      "cell_type": "markdown",
      "metadata": {
        "id": "Qypdo_7qmZL1"
      },
      "source": [
        "Importing the libraries"
      ]
    },
    {
      "cell_type": "code",
      "metadata": {
        "id": "61Dqqlu78dMV"
      },
      "source": [
        "import numpy as np\n",
        "import matplotlib.pyplot as plt\n",
        "import pandas as pd\n",
        "import tensorflow as tf"
      ],
      "execution_count": 1,
      "outputs": []
    },
    {
      "cell_type": "markdown",
      "metadata": {
        "id": "Tt-sUlK0rnCz"
      },
      "source": [
        "## ::::: Section 1 Importing data :::::"
      ]
    },
    {
      "cell_type": "markdown",
      "metadata": {
        "id": "vK8b9bTprwei"
      },
      "source": [
        "### -x- Downloading dataset in colab. -x-"
      ]
    },
    {
      "cell_type": "code",
      "metadata": {
        "id": "RjggEjNt_2SA",
        "colab": {
          "base_uri": "https://localhost:8080/"
        },
        "outputId": "83b91a6e-01b3-4033-c712-7e2c4ff7cb16"
      },
      "source": [
        "# data is from: https://grouplens.org/datasets/movielens/\n",
        "# in case the link changes in the future\n",
        "\n",
        "!wget -nc http://files.grouplens.org/datasets/movielens/ml-20m.zip"
      ],
      "execution_count": 2,
      "outputs": [
        {
          "output_type": "stream",
          "text": [
            "--2021-05-21 13:34:41--  http://files.grouplens.org/datasets/movielens/ml-20m.zip\n",
            "Resolving files.grouplens.org (files.grouplens.org)... 128.101.65.152\n",
            "Connecting to files.grouplens.org (files.grouplens.org)|128.101.65.152|:80... connected.\n",
            "HTTP request sent, awaiting response... 200 OK\n",
            "Length: 198702078 (189M) [application/zip]\n",
            "Saving to: ‘ml-20m.zip’\n",
            "\n",
            "ml-20m.zip          100%[===================>] 189.50M  71.1MB/s    in 2.7s    \n",
            "\n",
            "2021-05-21 13:34:44 (71.1 MB/s) - ‘ml-20m.zip’ saved [198702078/198702078]\n",
            "\n"
          ],
          "name": "stdout"
        }
      ]
    },
    {
      "cell_type": "markdown",
      "metadata": {
        "id": "hCYtWJbdl-z-"
      },
      "source": [
        "### -x- Listing files in colab -x-"
      ]
    },
    {
      "cell_type": "code",
      "metadata": {
        "id": "4WXV-2aFlicC",
        "colab": {
          "base_uri": "https://localhost:8080/"
        },
        "outputId": "15e6866d-2d1e-422e-e034-18187e8742bb"
      },
      "source": [
        "!ls"
      ],
      "execution_count": 3,
      "outputs": [
        {
          "output_type": "stream",
          "text": [
            "ml-20m.zip  sample_data\n"
          ],
          "name": "stdout"
        }
      ]
    },
    {
      "cell_type": "markdown",
      "metadata": {
        "id": "tGuT7seCmYOb"
      },
      "source": [
        "### -x- Unzipping the downloaded file -x-"
      ]
    },
    {
      "cell_type": "code",
      "metadata": {
        "id": "l--lOvGHlmEr",
        "colab": {
          "base_uri": "https://localhost:8080/"
        },
        "outputId": "003ac680-e736-4ea3-eed1-a636fb99935d"
      },
      "source": [
        "!unzip -n ml-20m.zip"
      ],
      "execution_count": 4,
      "outputs": [
        {
          "output_type": "stream",
          "text": [
            "Archive:  ml-20m.zip\n",
            "   creating: ml-20m/\n",
            "  inflating: ml-20m/genome-scores.csv  \n",
            "  inflating: ml-20m/genome-tags.csv  \n",
            "  inflating: ml-20m/links.csv        \n",
            "  inflating: ml-20m/movies.csv       \n",
            "  inflating: ml-20m/ratings.csv      \n",
            "  inflating: ml-20m/README.txt       \n",
            "  inflating: ml-20m/tags.csv         \n"
          ],
          "name": "stdout"
        }
      ]
    },
    {
      "cell_type": "markdown",
      "metadata": {
        "id": "bqYntj1NmLwa"
      },
      "source": [
        "### -x- Removing zip file after it is extracted -x- "
      ]
    },
    {
      "cell_type": "code",
      "metadata": {
        "id": "6pLUyKAal4O_"
      },
      "source": [
        "!rm ml-20m.zip"
      ],
      "execution_count": 5,
      "outputs": []
    },
    {
      "cell_type": "markdown",
      "metadata": {
        "id": "R_VZdoSNmJ7-"
      },
      "source": [
        "### -x- Listing files in colab again -x-"
      ]
    },
    {
      "cell_type": "code",
      "metadata": {
        "id": "-L7eZUKHloIp",
        "colab": {
          "base_uri": "https://localhost:8080/"
        },
        "outputId": "916666c9-f182-402e-e0c3-7a19fd4d3ca5"
      },
      "source": [
        "!ls"
      ],
      "execution_count": 6,
      "outputs": [
        {
          "output_type": "stream",
          "text": [
            "ml-20m\tsample_data\n"
          ],
          "name": "stdout"
        }
      ]
    },
    {
      "cell_type": "code",
      "metadata": {
        "id": "fPN5hbUBEJZQ",
        "colab": {
          "base_uri": "https://localhost:8080/"
        },
        "outputId": "169dfaef-0ac2-41d0-a865-cb981e7e71c2"
      },
      "source": [
        "!ls ml-20m"
      ],
      "execution_count": 7,
      "outputs": [
        {
          "output_type": "stream",
          "text": [
            "genome-scores.csv  links.csv   ratings.csv  tags.csv\n",
            "genome-tags.csv    movies.csv  README.txt\n"
          ],
          "name": "stdout"
        }
      ]
    },
    {
      "cell_type": "markdown",
      "metadata": {
        "id": "LvjzwlpgkQ_k"
      },
      "source": [
        "### -x- Creating dataframe -x-"
      ]
    },
    {
      "cell_type": "code",
      "metadata": {
        "id": "3ymOVK3Mm3Y9",
        "colab": {
          "base_uri": "https://localhost:8080/",
          "height": 204
        },
        "outputId": "225d177c-056e-46e3-d924-74cfb15be685"
      },
      "source": [
        "dataframe = pd.read_csv('ml-20m/ratings.csv')\n",
        "dataframe.head()"
      ],
      "execution_count": 8,
      "outputs": [
        {
          "output_type": "execute_result",
          "data": {
            "text/html": [
              "<div>\n",
              "<style scoped>\n",
              "    .dataframe tbody tr th:only-of-type {\n",
              "        vertical-align: middle;\n",
              "    }\n",
              "\n",
              "    .dataframe tbody tr th {\n",
              "        vertical-align: top;\n",
              "    }\n",
              "\n",
              "    .dataframe thead th {\n",
              "        text-align: right;\n",
              "    }\n",
              "</style>\n",
              "<table border=\"1\" class=\"dataframe\">\n",
              "  <thead>\n",
              "    <tr style=\"text-align: right;\">\n",
              "      <th></th>\n",
              "      <th>userId</th>\n",
              "      <th>movieId</th>\n",
              "      <th>rating</th>\n",
              "      <th>timestamp</th>\n",
              "    </tr>\n",
              "  </thead>\n",
              "  <tbody>\n",
              "    <tr>\n",
              "      <th>0</th>\n",
              "      <td>1</td>\n",
              "      <td>2</td>\n",
              "      <td>3.5</td>\n",
              "      <td>1112486027</td>\n",
              "    </tr>\n",
              "    <tr>\n",
              "      <th>1</th>\n",
              "      <td>1</td>\n",
              "      <td>29</td>\n",
              "      <td>3.5</td>\n",
              "      <td>1112484676</td>\n",
              "    </tr>\n",
              "    <tr>\n",
              "      <th>2</th>\n",
              "      <td>1</td>\n",
              "      <td>32</td>\n",
              "      <td>3.5</td>\n",
              "      <td>1112484819</td>\n",
              "    </tr>\n",
              "    <tr>\n",
              "      <th>3</th>\n",
              "      <td>1</td>\n",
              "      <td>47</td>\n",
              "      <td>3.5</td>\n",
              "      <td>1112484727</td>\n",
              "    </tr>\n",
              "    <tr>\n",
              "      <th>4</th>\n",
              "      <td>1</td>\n",
              "      <td>50</td>\n",
              "      <td>3.5</td>\n",
              "      <td>1112484580</td>\n",
              "    </tr>\n",
              "  </tbody>\n",
              "</table>\n",
              "</div>"
            ],
            "text/plain": [
              "   userId  movieId  rating   timestamp\n",
              "0       1        2     3.5  1112486027\n",
              "1       1       29     3.5  1112484676\n",
              "2       1       32     3.5  1112484819\n",
              "3       1       47     3.5  1112484727\n",
              "4       1       50     3.5  1112484580"
            ]
          },
          "metadata": {
            "tags": []
          },
          "execution_count": 8
        }
      ]
    },
    {
      "cell_type": "markdown",
      "metadata": {
        "id": "gRY2aTb1-4Nj"
      },
      "source": [
        "As you can see in the above cell, one user may have seen and rated one or more films."
      ]
    },
    {
      "cell_type": "markdown",
      "metadata": {
        "id": "3FEH565KGIdW"
      },
      "source": [
        "### -x- Casting userId column into categorical data. -x-"
      ]
    },
    {
      "cell_type": "code",
      "metadata": {
        "id": "zAFIk5z2BRut"
      },
      "source": [
        "# Pandas categoricals are a new and powerful feature that encodes categorical data numerically.\n",
        "\n",
        "dataframe.userId = pd.Categorical(dataframe.userId)\n",
        "dataframe['new_user_id'] = dataframe.userId.cat.codes"
      ],
      "execution_count": 9,
      "outputs": []
    },
    {
      "cell_type": "markdown",
      "metadata": {
        "id": "DKFFUQNiGQhA"
      },
      "source": [
        "### -x- Casting movieId column into categorical data. -x-"
      ]
    },
    {
      "cell_type": "code",
      "metadata": {
        "id": "VGBwIYZSCV-6"
      },
      "source": [
        "# Now do the same thing for movie ids\n",
        "\n",
        "dataframe.movieId = pd.Categorical(dataframe.movieId)\n",
        "dataframe['new_movie_id'] = dataframe.movieId.cat.codes"
      ],
      "execution_count": 10,
      "outputs": []
    },
    {
      "cell_type": "markdown",
      "metadata": {
        "id": "hcrIspYwGSv9"
      },
      "source": [
        "### -x- Getting user IDs, movie IDs, and ratings as separate arrays. -x-"
      ]
    },
    {
      "cell_type": "code",
      "metadata": {
        "id": "_nisJLTiCkyZ"
      },
      "source": [
        "user_ids = dataframe['new_user_id'].values\n",
        "movie_ids = dataframe['new_movie_id'].values\n",
        "ratings = dataframe['rating'].values"
      ],
      "execution_count": 11,
      "outputs": []
    },
    {
      "cell_type": "markdown",
      "metadata": {
        "id": "Os9qeRwmGdcQ"
      },
      "source": [
        "### -x- Getting number of users and number of movies. -x-"
      ]
    },
    {
      "cell_type": "code",
      "metadata": {
        "id": "LQi1SQhyCnMw"
      },
      "source": [
        "N = len(set(user_ids))\n",
        "M = len(set(movie_ids))\n",
        "\n",
        "# Set embedding dimension\n",
        "K = 10"
      ],
      "execution_count": 12,
      "outputs": []
    },
    {
      "cell_type": "markdown",
      "metadata": {
        "id": "1r491J00vRVt"
      },
      "source": [
        "## ::::: Section 2 NN :::::"
      ]
    },
    {
      "cell_type": "markdown",
      "metadata": {
        "id": "Uj4EeO-2vxCE"
      },
      "source": [
        "### -x- Training the model -x-"
      ]
    },
    {
      "cell_type": "code",
      "metadata": {
        "id": "Z807BvaKvPsk"
      },
      "source": [
        "# User input\n",
        "u = tf.keras.layers.Input(shape=(1,)) # cos userId is single integer\n",
        "\n",
        "# Movie input\n",
        "m = tf.keras.layers.Input(shape=(1,)) # cos movieId is single integer\n",
        "\n",
        "# User embedding\n",
        "u_emb = tf.keras.layers.Embedding(N, K)(u) # output is (num_samples, 1, K)\n",
        "\n",
        "# Movie embedding\n",
        "m_emb = tf.keras.layers.Embedding(M, K)(m) # output is (num_samples, 1, K)\n",
        "\n",
        "# Flatten both embeddings\n",
        "u_emb = tf.keras.layers.Flatten()(u_emb) # now it's (num_samples, K)\n",
        "m_emb = tf.keras.layers.Flatten()(m_emb) # now it's (num_samples, K)\n",
        "\n",
        "# Concatenate user-movie embeddings into a feature vector\n",
        "x = tf.keras.layers.Concatenate()([u_emb, m_emb]) # now it's (num_samples, 2K)\n",
        "\n",
        "# Now that we have a feature vector, it's just a regular ANN\n",
        "x = tf.keras.layers.Dense(1024, activation='relu')(x)\n",
        "x = tf.keras.layers.Dense(1)(x)\n",
        "\n",
        "model = tf.keras.models.Model(inputs=[u, m], outputs=x)"
      ],
      "execution_count": 13,
      "outputs": []
    },
    {
      "cell_type": "markdown",
      "metadata": {
        "id": "Cl_Daqss1asY"
      },
      "source": [
        "### -x- Compiling the model -x-"
      ]
    },
    {
      "cell_type": "code",
      "metadata": {
        "id": "31w-CtmMxmq9"
      },
      "source": [
        "model.compile(\n",
        "  loss='mse',\n",
        "  optimizer=tf.keras.optimizers.SGD(lr=0.08, momentum=0.9),\n",
        ")"
      ],
      "execution_count": 14,
      "outputs": []
    },
    {
      "cell_type": "markdown",
      "metadata": {
        "id": "3lllEHUmG3Er"
      },
      "source": [
        "### -x- splitting the data into train and test sets -x-"
      ]
    },
    {
      "cell_type": "code",
      "metadata": {
        "id": "yInuqpwQD0GN"
      },
      "source": [
        "from sklearn.utils import shuffle\n",
        "\n",
        "user_ids, movie_ids, ratings = shuffle(user_ids, movie_ids, ratings)\n",
        "Ntrain = int(0.8 * len(ratings))\n",
        "train_user = user_ids[:Ntrain]\n",
        "train_movie = movie_ids[:Ntrain]\n",
        "train_ratings = ratings[:Ntrain]\n",
        "\n",
        "test_user = user_ids[Ntrain:]\n",
        "test_movie = movie_ids[Ntrain:]\n",
        "test_ratings = ratings[Ntrain:]\n",
        "\n",
        "# center the ratings\n",
        "avg_rating = train_ratings.mean()\n",
        "train_ratings = train_ratings - avg_rating\n",
        "test_ratings = test_ratings - avg_rating"
      ],
      "execution_count": 15,
      "outputs": []
    },
    {
      "cell_type": "markdown",
      "metadata": {
        "id": "lgJD3PDnDtHI"
      },
      "source": [
        "### -x- Fitting the data on model -x-"
      ]
    },
    {
      "cell_type": "code",
      "metadata": {
        "id": "01kbT74CDwnf",
        "colab": {
          "base_uri": "https://localhost:8080/"
        },
        "outputId": "fb19cadf-b44e-425e-ba18-4a1222e55168"
      },
      "source": [
        "history = model.fit(\n",
        "  x=[train_user, train_movie],\n",
        "  y=train_ratings,\n",
        "  epochs=25,\n",
        "  batch_size=1024,\n",
        "  verbose=2, # goes a little faster when you don't print the progress bar\n",
        "  validation_data=([test_user, test_movie], test_ratings),\n",
        ")"
      ],
      "execution_count": 16,
      "outputs": [
        {
          "output_type": "stream",
          "text": [
            "Epoch 1/25\n",
            "15626/15626 - 158s - loss: 0.7766 - val_loss: 0.7251\n",
            "Epoch 2/25\n",
            "15626/15626 - 165s - loss: 0.7008 - val_loss: 0.7006\n",
            "Epoch 3/25\n",
            "15626/15626 - 165s - loss: 0.6778 - val_loss: 0.6831\n",
            "Epoch 4/25\n",
            "15626/15626 - 167s - loss: 0.6631 - val_loss: 0.6758\n",
            "Epoch 5/25\n",
            "15626/15626 - 170s - loss: 0.6532 - val_loss: 0.6716\n",
            "Epoch 6/25\n",
            "15626/15626 - 172s - loss: 0.6404 - val_loss: 0.6627\n",
            "Epoch 7/25\n",
            "15626/15626 - 174s - loss: 0.6227 - val_loss: 0.6480\n",
            "Epoch 8/25\n",
            "15626/15626 - 176s - loss: 0.6101 - val_loss: 0.6474\n",
            "Epoch 9/25\n",
            "15626/15626 - 182s - loss: 0.6011 - val_loss: 0.6408\n",
            "Epoch 10/25\n",
            "15626/15626 - 187s - loss: 0.5933 - val_loss: 0.6386\n",
            "Epoch 11/25\n",
            "15626/15626 - 208s - loss: 0.5862 - val_loss: 0.6349\n",
            "Epoch 12/25\n",
            "15626/15626 - 186s - loss: 0.5789 - val_loss: 0.6362\n",
            "Epoch 13/25\n",
            "15626/15626 - 191s - loss: 0.5718 - val_loss: 0.6296\n",
            "Epoch 14/25\n",
            "15626/15626 - 185s - loss: 0.5655 - val_loss: 0.6287\n",
            "Epoch 15/25\n",
            "15626/15626 - 179s - loss: 0.5598 - val_loss: 0.6276\n",
            "Epoch 16/25\n",
            "15626/15626 - 181s - loss: 0.5551 - val_loss: 0.6275\n",
            "Epoch 17/25\n",
            "15626/15626 - 178s - loss: 0.5510 - val_loss: 0.6266\n",
            "Epoch 18/25\n",
            "15626/15626 - 172s - loss: 0.5475 - val_loss: 0.6252\n",
            "Epoch 19/25\n",
            "15626/15626 - 169s - loss: 0.5444 - val_loss: 0.6266\n",
            "Epoch 20/25\n",
            "15626/15626 - 170s - loss: 0.5417 - val_loss: 0.6274\n",
            "Epoch 21/25\n",
            "15626/15626 - 170s - loss: 0.5393 - val_loss: 0.6277\n",
            "Epoch 22/25\n",
            "15626/15626 - 177s - loss: 0.5371 - val_loss: 0.6272\n",
            "Epoch 23/25\n",
            "15626/15626 - 178s - loss: 0.5352 - val_loss: 0.6253\n",
            "Epoch 24/25\n",
            "15626/15626 - 178s - loss: 0.5334 - val_loss: 0.6258\n",
            "Epoch 25/25\n",
            "15626/15626 - 185s - loss: 0.5318 - val_loss: 0.6317\n"
          ],
          "name": "stdout"
        }
      ]
    },
    {
      "cell_type": "markdown",
      "metadata": {
        "id": "1rL2H9CAvn2M"
      },
      "source": [
        "### -x- Plotting loss per iteration -x-\n"
      ]
    },
    {
      "cell_type": "code",
      "metadata": {
        "id": "XXhLhRR_vrpN",
        "colab": {
          "base_uri": "https://localhost:8080/",
          "height": 282
        },
        "outputId": "006519a3-d459-484c-9fb4-66e59f0f8fb3"
      },
      "source": [
        "plt.plot(history.history['loss'], label='loss')\n",
        "plt.plot(history.history['val_loss'], label='val_loss')\n",
        "plt.legend()"
      ],
      "execution_count": 17,
      "outputs": [
        {
          "output_type": "execute_result",
          "data": {
            "text/plain": [
              "<matplotlib.legend.Legend at 0x7fa3e51611d0>"
            ]
          },
          "metadata": {
            "tags": []
          },
          "execution_count": 17
        },
        {
          "output_type": "display_data",
          "data": {
            "image/png": "[encoded data removed]",
            "text/plain": [
              "<Figure size 432x288 with 1 Axes>"
            ]
          },
          "metadata": {
            "tags": [],
            "needs_background": "light"
          }
        }
      ]
    },
    {
      "cell_type": "markdown",
      "metadata": {
        "id": "NHudxNguHMpT"
      },
      "source": [
        "### -x- Is this on par with other approaches? -x-"
      ]
    },
    {
      "cell_type": "code",
      "metadata": {
        "id": "1M5P9sTPEAcu",
        "colab": {
          "base_uri": "https://localhost:8080/"
        },
        "outputId": "66a29cb0-06b3-4a9e-d5a3-487b3dd6114e"
      },
      "source": [
        "# https://datascience.stackexchange.com/questions/29740/benchmark-result-for-movielens-dataset\n",
        "np.sqrt(0.6259)"
      ],
      "execution_count": 18,
      "outputs": [
        {
          "output_type": "execute_result",
          "data": {
            "text/plain": [
              "0.7911384202527394"
            ]
          },
          "metadata": {
            "tags": []
          },
          "execution_count": 18
        }
      ]
    }
  ]
}